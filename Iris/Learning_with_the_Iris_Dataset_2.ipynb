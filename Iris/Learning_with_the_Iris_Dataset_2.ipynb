{
 "cells": [
  {
   "cell_type": "code",
   "execution_count": 1,
   "metadata": {
    "collapsed": true
   },
   "outputs": [],
   "source": [
    "import numpy as np"
   ]
  },
  {
   "cell_type": "code",
   "execution_count": 2,
   "metadata": {
    "collapsed": true
   },
   "outputs": [],
   "source": [
    "import matplotlib.pyplot as plt"
   ]
  },
  {
   "cell_type": "code",
   "execution_count": 3,
   "metadata": {
    "collapsed": true
   },
   "outputs": [],
   "source": [
    "%matplotlib inline"
   ]
  },
  {
   "cell_type": "code",
   "execution_count": 4,
   "metadata": {
    "collapsed": true
   },
   "outputs": [],
   "source": [
    "from sklearn import datasets"
   ]
  },
  {
   "cell_type": "code",
   "execution_count": 5,
   "metadata": {
    "collapsed": false
   },
   "outputs": [],
   "source": [
    "from sklearn.svm import SVC"
   ]
  },
  {
   "cell_type": "code",
   "execution_count": 6,
   "metadata": {
    "collapsed": true
   },
   "outputs": [],
   "source": [
    "from sklearn.cross_validation import train_test_split"
   ]
  },
  {
   "cell_type": "code",
   "execution_count": 7,
   "metadata": {
    "collapsed": true
   },
   "outputs": [],
   "source": [
    "from sklearn import metrics"
   ]
  },
  {
   "cell_type": "code",
   "execution_count": 8,
   "metadata": {
    "collapsed": true
   },
   "outputs": [],
   "source": [
    "from sklearn import svm"
   ]
  },
  {
   "cell_type": "markdown",
   "metadata": {},
   "source": [
    "# Supervised Learning Models - Support Vector Machines (SVM) Algorithms\n",
    "\n",
    "This project will be practice defining decision boundaries using Support Vector Machines. SVM are used to find an area of equal separation between classes of data (i.e. - finding the hyperplane/optimal line between classes), but having that work be carried out in a way that reduces the risk of introducing errors into the process of classifying the data. That’s probably an oversimplification. I’m learning - that’s the gist I get of it so far. \n",
    "\n",
    "After the separation based on an optimal margin distance, classes into two groups, SVC can be used to perform the one-vs-one method and LinearSVC for multi-class reduction via the  one-vs-all method. [This page](http://scikit-learn.org/stable/auto_examples/svm/plot_iris.html#example-svm-plot-iris-py) inspires the work done in this project.\n",
    "\n",
    "-----"
   ]
  },
  {
   "cell_type": "markdown",
   "metadata": {},
   "source": [
    "To start, the Iris dataset will be loaded."
   ]
  },
  {
   "cell_type": "code",
   "execution_count": 9,
   "metadata": {
    "collapsed": true
   },
   "outputs": [],
   "source": [
    "iris = datasets.load_iris()"
   ]
  },
  {
   "cell_type": "code",
   "execution_count": 10,
   "metadata": {
    "collapsed": true
   },
   "outputs": [],
   "source": [
    "X = iris.data  # Features"
   ]
  },
  {
   "cell_type": "code",
   "execution_count": 11,
   "metadata": {
    "collapsed": true
   },
   "outputs": [],
   "source": [
    "Y = iris.target  # Target"
   ]
  },
  {
   "cell_type": "code",
   "execution_count": 12,
   "metadata": {
    "collapsed": false,
    "scrolled": true
   },
   "outputs": [
    {
     "name": "stdout",
     "output_type": "stream",
     "text": [
      "Iris Plants Database\n",
      "\n",
      "Notes\n",
      "-----\n",
      "Data Set Characteristics:\n",
      "    :Number of Instances: 150 (50 in each of three classes)\n",
      "    :Number of Attributes: 4 numeric, predictive attributes and the class\n",
      "    :Attribute Information:\n",
      "        - sepal length in cm\n",
      "        - sepal width in cm\n",
      "        - petal length in cm\n",
      "        - petal width in cm\n",
      "        - class:\n",
      "                - Iris-Setosa\n",
      "                - Iris-Versicolour\n",
      "                - Iris-Virginica\n",
      "    :Summary Statistics:\n",
      "\n",
      "    ============== ==== ==== ======= ===== ====================\n",
      "                    Min  Max   Mean    SD   Class Correlation\n",
      "    ============== ==== ==== ======= ===== ====================\n",
      "    sepal length:   4.3  7.9   5.84   0.83    0.7826\n",
      "    sepal width:    2.0  4.4   3.05   0.43   -0.4194\n",
      "    petal length:   1.0  6.9   3.76   1.76    0.9490  (high!)\n",
      "    petal width:    0.1  2.5   1.20  0.76     0.9565  (high!)\n",
      "    ============== ==== ==== ======= ===== ====================\n",
      "\n",
      "    :Missing Attribute Values: None\n",
      "    :Class Distribution: 33.3% for each of 3 classes.\n",
      "    :Creator: R.A. Fisher\n",
      "    :Donor: Michael Marshall (MARSHALL%PLU@io.arc.nasa.gov)\n",
      "    :Date: July, 1988\n",
      "\n",
      "This is a copy of UCI ML iris datasets.\n",
      "http://archive.ics.uci.edu/ml/datasets/Iris\n",
      "\n",
      "The famous Iris database, first used by Sir R.A Fisher\n",
      "\n",
      "This is perhaps the best known database to be found in the\n",
      "pattern recognition literature.  Fisher's paper is a classic in the field and\n",
      "is referenced frequently to this day.  (See Duda & Hart, for example.)  The\n",
      "data set contains 3 classes of 50 instances each, where each class refers to a\n",
      "type of iris plant.  One class is linearly separable from the other 2; the\n",
      "latter are NOT linearly separable from each other.\n",
      "\n",
      "References\n",
      "----------\n",
      "   - Fisher,R.A. \"The use of multiple measurements in taxonomic problems\"\n",
      "     Annual Eugenics, 7, Part II, 179-188 (1936); also in \"Contributions to\n",
      "     Mathematical Statistics\" (John Wiley, NY, 1950).\n",
      "   - Duda,R.O., & Hart,P.E. (1973) Pattern Classification and Scene Analysis.\n",
      "     (Q327.D83) John Wiley & Sons.  ISBN 0-471-22361-1.  See page 218.\n",
      "   - Dasarathy, B.V. (1980) \"Nosing Around the Neighborhood: A New System\n",
      "     Structure and Classification Rule for Recognition in Partially Exposed\n",
      "     Environments\".  IEEE Transactions on Pattern Analysis and Machine\n",
      "     Intelligence, Vol. PAMI-2, No. 1, 67-71.\n",
      "   - Gates, G.W. (1972) \"The Reduced Nearest Neighbor Rule\".  IEEE Transactions\n",
      "     on Information Theory, May 1972, 431-433.\n",
      "   - See also: 1988 MLC Proceedings, 54-64.  Cheeseman et al\"s AUTOCLASS II\n",
      "     conceptual clustering system finds 3 classes in the data.\n",
      "   - Many, many more ...\n",
      "\n"
     ]
    }
   ],
   "source": [
    "print (iris.DESCR)"
   ]
  },
  {
   "cell_type": "markdown",
   "metadata": {},
   "source": [
    "\n",
    "-----\n",
    "\n",
    "Below, a model will be made. "
   ]
  },
  {
   "cell_type": "code",
   "execution_count": 13,
   "metadata": {
    "collapsed": true
   },
   "outputs": [],
   "source": [
    "model = SVC()"
   ]
  },
  {
   "cell_type": "markdown",
   "metadata": {
    "collapsed": true
   },
   "source": [
    "Next, the data will be split into a training set and a testing set for training the model later. This will be done by taking the features (X) and the target (Y - the flower class each belong to) and splitting the data into a training set (Xtrain, YTrain) and then a testing set (XTest, YTest). Those four objects will be created and made ready for later use with the testing data size being set to 30%."
   ]
  },
  {
   "cell_type": "code",
   "execution_count": 14,
   "metadata": {
    "collapsed": true
   },
   "outputs": [],
   "source": [
    "XTrain, XTest, YTrain, YTest = train_test_split(X, Y, test_size = 0.3, random_state = 3)"
   ]
  },
  {
   "cell_type": "markdown",
   "metadata": {
    "collapsed": true
   },
   "source": [
    "Below, the model will be fit using the training data (using the feature “XTrain”) and it will be given the target “YTrain”)."
   ]
  },
  {
   "cell_type": "code",
   "execution_count": 15,
   "metadata": {
    "collapsed": false
   },
   "outputs": [
    {
     "data": {
      "text/plain": [
       "SVC(C=1.0, cache_size=200, class_weight=None, coef0=0.0,\n",
       "  decision_function_shape=None, degree=3, gamma='auto', kernel='rbf',\n",
       "  max_iter=-1, probability=False, random_state=None, shrinking=True,\n",
       "  tol=0.001, verbose=False)"
      ]
     },
     "execution_count": 15,
     "metadata": {},
     "output_type": "execute_result"
    }
   ],
   "source": [
    "model.fit(XTrain, YTrain)"
   ]
  },
  {
   "cell_type": "markdown",
   "metadata": {
    "collapsed": true
   },
   "source": [
    "The model fit will be tested below using training data as a way to see how well it predicts the testing data. To do that, an object called “predicted” will be made and it will be set equal to model.predict() with the “XTest” data passed through it. And the expected results will the “YTest” data (considering that was the split that was done earlier). "
   ]
  },
  {
   "cell_type": "code",
   "execution_count": 16,
   "metadata": {
    "collapsed": true
   },
   "outputs": [],
   "source": [
    "predicted = model.predict(XTest)\n",
    "\n",
    "expected = YTest"
   ]
  },
  {
   "cell_type": "markdown",
   "metadata": {},
   "source": [
    "To see how high the accuracy was, the accuracy score will be called from the scikit-learn metrics library. Specifically, “metrics” then “accuracy_score” will be passed to compare the expected results to the predicted results."
   ]
  },
  {
   "cell_type": "code",
   "execution_count": 17,
   "metadata": {
    "collapsed": false
   },
   "outputs": [
    {
     "name": "stdout",
     "output_type": "stream",
     "text": [
      "0.977777777778\n"
     ]
    }
   ],
   "source": [
    "print (metrics.accuracy_score(expected,predicted))  # Checking the accuracy score."
   ]
  },
  {
   "cell_type": "markdown",
   "metadata": {
    "collapsed": true
   },
   "source": [
    "The results tend to vary depending on the randomness of the selection for train_test_split.\n",
    "\n",
    "---------\n",
    "\n",
    "It would be interesting to explore different kinds of kernel types that can be used for classification. To do this, the boundaries created by a few kernel types will be plotted. The methods will be explored by making two linear models, a Gaussian Radial Basis Function,and a SVC with a polynomial (3rd degree) kernel fit. That will happen a bit later.\n",
    "\n",
    "To reproduce something similar to the plots in the documentation, not all of the data will be used. So below, “X” will be set equal to “iris.data” and the first two features will be selected. \n"
   ]
  },
  {
   "cell_type": "code",
   "execution_count": 18,
   "metadata": {
    "collapsed": true
   },
   "outputs": [],
   "source": [
    "X = iris.data[:, :2]"
   ]
  },
  {
   "cell_type": "markdown",
   "metadata": {},
   "source": [
    "Below, the “Y” (which serves as the target), will continue to have that same purpose by being set as “iris.target”."
   ]
  },
  {
   "cell_type": "code",
   "execution_count": 19,
   "metadata": {
    "collapsed": true
   },
   "outputs": [],
   "source": [
    "Y = iris.target"
   ]
  },
  {
   "cell_type": "markdown",
   "metadata": {
    "collapsed": true
   },
   "source": [
    "An SVM regularization parameter will be passed next. That will be “C = 1.0”. The reason for doing this is so that there can be regularization between all of the different kernel methods that are going to be used. It will help to allow for a more accurate comparison. "
   ]
  },
  {
   "cell_type": "code",
   "execution_count": 20,
   "metadata": {
    "collapsed": true
   },
   "outputs": [],
   "source": [
    "C = 1.0"
   ]
  },
  {
   "cell_type": "markdown",
   "metadata": {
    "collapsed": true
   },
   "source": [
    "Next, “svc” will be set as an object. And to have it be the svc model, “svm.SVC” will be called”. Since this will be a linear model, the kernel will explicitly be set to “linear” and the regularization parameter will be \"C = C\". The model will then be fit using “X” and “Y” (serving basically to combine the creation of the model with fitting the model)."
   ]
  },
  {
   "cell_type": "code",
   "execution_count": 21,
   "metadata": {
    "collapsed": true
   },
   "outputs": [],
   "source": [
    "svc = svm.SVC(kernel = \"linear\", C = C).fit(X, Y)"
   ]
  },
  {
   "cell_type": "markdown",
   "metadata": {
    "collapsed": true
   },
   "source": [
    "A Gaussian Radial Basis Function (or RBF) function will be carried out next. The kernel will be specified to equal \"rbf\") and a repeat of the simultaneous creation of and fitting of a model will be carried out as well."
   ]
  },
  {
   "cell_type": "code",
   "execution_count": 22,
   "metadata": {
    "collapsed": true
   },
   "outputs": [],
   "source": [
    "rbfSvc = svm.SVC(kernel = \"rbf\", gamma = 0.7, C = C).fit(X, Y)"
   ]
  },
  {
   "cell_type": "markdown",
   "metadata": {
    "collapsed": true
   },
   "source": [
    "Next, a third degree polynomial fit will be made named “polySvc”. That will be set equal to “svm.SVC” and the kernel will be set to “poly”. "
   ]
  },
  {
   "cell_type": "code",
   "execution_count": 23,
   "metadata": {
    "collapsed": true
   },
   "outputs": [],
   "source": [
    "polySvc = svm.SVC(kernel = \"poly\", degree = 3, C = C).fit(X, Y)"
   ]
  },
  {
   "cell_type": "markdown",
   "metadata": {
    "collapsed": true
   },
   "source": [
    "Below will be the creation of another linear model. This one will be named “linSvc”.\n"
   ]
  },
  {
   "cell_type": "code",
   "execution_count": 24,
   "metadata": {
    "collapsed": true
   },
   "outputs": [],
   "source": [
    "linSvc = svm.LinearSVC(C = C).fit(X, Y)"
   ]
  },
  {
   "cell_type": "markdown",
   "metadata": {
    "collapsed": true
   },
   "source": [
    "The process of setting up the visual plots [seen in the scikit-learn documentation](http://scikit-learn.org/stable/auto_examples/svm/plot_iris.html#example-svm-plot-iris-py) will begin below. A mesh will be defined to plot in. And the maximum and minimum of the plot for the “X” and “Y” axises will be defined based on the smallest and largest features in the dataset. Then, Numpy’s built-in mesh grid method will be used to construct the plot. \n",
    "\n",
    "To start, the step size will be defined as “h = 0.02” for the mesh grid because, from the scikit-learn documentation, that seems to be a good fit. Then, to set up the X axis minimum and maximum, xMin will be set equal to the minimum feature in that first feature column minus 1. And then, similarly, for the maximum, the xMax will be set equal to the maximum feature in that first feature column, but plus 1. The process will be the same for the Y axis, except it will be performed on the next column over."
   ]
  },
  {
   "cell_type": "code",
   "execution_count": 25,
   "metadata": {
    "collapsed": true
   },
   "outputs": [],
   "source": [
    "h = 0.02\n",
    "\n",
    "xMin = X[:, 0].min() - 1\n",
    "xMax = X[:, 0].max() + 1"
   ]
  },
  {
   "cell_type": "code",
   "execution_count": 26,
   "metadata": {
    "collapsed": true
   },
   "outputs": [],
   "source": [
    "yMin = X[:, 1].min() - 1\n",
    "yMax = X[:, 1].max() + 1"
   ]
  },
  {
   "cell_type": "markdown",
   "metadata": {},
   "source": [
    "Numpy can create a mesh grid for replicating the plots in the documentation. To start that below, two objects will be created called xx and yy and they will be set equal to calling Numpy.meshgrid (\"np.meshgrid\"). Numpy.arange will be used to pass the x points, then the y points. What specifically will be done is the indication that things will be arranged from x minimum to x maximum, and then step size should be the one that was set earlier (which was 0.02). The details for y will be a repeat of those instructions.\n"
   ]
  },
  {
   "cell_type": "code",
   "execution_count": 27,
   "metadata": {
    "collapsed": true
   },
   "outputs": [],
   "source": [
    "xx, yy = np.meshgrid(np.arange(xMin, xMax, h), np.arange(yMin, yMax, h))"
   ]
  },
  {
   "cell_type": "markdown",
   "metadata": {},
   "source": [
    "Titles for each plot will be set next by creating a list of plot titles. Following that will come the creation of a for loop that will simply keep drawing from those titles in the list."
   ]
  },
  {
   "cell_type": "code",
   "execution_count": 28,
   "metadata": {
    "collapsed": true
   },
   "outputs": [],
   "source": [
    "titles = [\"SVC with Linear Kernel\",\n",
    "          \"LinearSVC (Linear Kernel)\",\n",
    "          \"SVC with RBF Kernel\",\n",
    "          \"SVC with Polynomial (Degree 3) Kernel\"]"
   ]
  },
  {
   "cell_type": "markdown",
   "metadata": {
    "collapsed": true
   },
   "source": [
    "A for loop will be created below for creating the four plots from the documentation. \n",
    "\n",
    "The for loop will go through each model, set its position as a subplot, then scatter the data points and draw a contour of those decision boundaries. \n",
    "\n",
    "Enumerate will be used to set up something almost like a count for keeping track of everything throughout the for loop and the items will be passed as a tuple. \n",
    "\n",
    "Then the figure size (8 by 8) will be set for each of the model as the for loop is iterated through.\n",
    "\n",
    "The subplot will be set to 2 by 2 (with the last argument passed being its location, which will be its enumeration count plus 1). However, the subplot of 2 by 2 is not rendering properly. The Jupyter notebook is actually plotting the mesh grids as a 4 by 1 instead of a 2 by 2, yet it does not seem due to space constraints. \n",
    "\n",
    "Next, “Z” will be defined as the prediction. And, using ravel and Numpy.c\\_ which \"[translates the slice objects into a concatenation along the second axis](http://docs.scipy.org/doc/numpy/reference/generated/numpy.c_.html)\", the predictions will be formatted in a way that will allow them to be used effectively for the contour line plot.\n",
    "\n",
    "The result will be put into a colorplot by setting Z = Z.reshape determined by that xx mesh. \n",
    "\n",
    "\"contourf.\" will be called for a filled contourplot and mesh points ( xx and yy - mesh points, Z - the contour lines that were just made) will be passed and then a colormap will be called with half transparency (set to half to help with visibility). \n",
    "\n",
    "A scatterplot will be made of the training points themselves. That will be that first column in the training set (or row, depending on how the formats actually are), followed by second set of data features, and then the setting of a line color and the colormap choice.\n",
    "\n",
    "The remainder are all customization tidbits (labels, limits, ticks). The title of each of the individual subplots will be equal to their positions in the list as the for loop goes through the list."
   ]
  },
  {
   "cell_type": "code",
   "execution_count": 29,
   "metadata": {
    "collapsed": false,
    "scrolled": true
   },
   "outputs": [
    {
     "data": {
      "image/png": "[encoded data removed]",
      "text/plain": [
       "<matplotlib.figure.Figure at 0x1118e8080>"
      ]
     },
     "metadata": {},
     "output_type": "display_data"
    },
    {
     "data": {
      "image/png": "[encoded data removed]",
      "text/plain": [
       "<matplotlib.figure.Figure at 0x113e53860>"
      ]
     },
     "metadata": {},
     "output_type": "display_data"
    },
    {
     "data": {
      "image/png": "[encoded data removed]",
      "text/plain": [
       "<matplotlib.figure.Figure at 0x1142e4e48>"
      ]
     },
     "metadata": {},
     "output_type": "display_data"
    },
    {
     "data": {
      "image/png": "[encoded data removed]",
      "text/plain": [
       "<matplotlib.figure.Figure at 0x113f97d68>"
      ]
     },
     "metadata": {},
     "output_type": "display_data"
    }
   ],
   "source": [
    "for i, clf in enumerate((svc, linSvc, rbfSvc, polySvc)):\n",
    "    \n",
    "    plt.figure(figsize = (8, 8))\n",
    "    \n",
    "    plt.subplot(2, 2, i+1)\n",
    "    \n",
    "    Z = clf.predict(np.c_[xx.ravel(), yy.ravel()])\n",
    "    \n",
    "    Z = Z.reshape(xx.shape)\n",
    "    \n",
    "    plt.contourf(xx, yy, Z, cmap = plt.cm.Paired, alpha = 0.5)\n",
    "    \n",
    "    plt.scatter(X[:, 0], X[:, 1], c = Y, cmap = plt.cm.cool)\n",
    "    \n",
    "    plt.xlabel(\"Sepal Length\")\n",
    "    plt.ylabel(\"Sepal Width\")\n",
    "    plt.xlim(xx.min(), xx.max())\n",
    "    plt.ylim(yy.min(), yy.max())\n",
    "    \n",
    "    plt.xticks(())\n",
    "    plt.yticks(())\n",
    "    plt.title(titles[i])"
   ]
  },
  {
   "cell_type": "code",
   "execution_count": null,
   "metadata": {
    "collapsed": true
   },
   "outputs": [],
   "source": []
  }
 ],
 "metadata": {
  "kernelspec": {
   "display_name": "Python 3",
   "language": "python",
   "name": "python3"
  },
  "language_info": {
   "codemirror_mode": {
    "name": "ipython",
    "version": 3
   },
   "file_extension": ".py",
   "mimetype": "text/x-python",
   "name": "python",
   "nbconvert_exporter": "python",
   "pygments_lexer": "ipython3",
   "version": "3.5.1"
  }
 },
 "nbformat": 4,
 "nbformat_minor": 0
}
