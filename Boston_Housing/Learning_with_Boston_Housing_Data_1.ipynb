{
 "cells": [
  {
   "cell_type": "code",
   "execution_count": 1,
   "metadata": {
    "collapsed": true
   },
   "outputs": [],
   "source": [
    "import pandas as pd"
   ]
  },
  {
   "cell_type": "code",
   "execution_count": 2,
   "metadata": {
    "collapsed": true
   },
   "outputs": [],
   "source": [
    "from pandas import Series, DataFrame"
   ]
  },
  {
   "cell_type": "code",
   "execution_count": 3,
   "metadata": {
    "collapsed": true
   },
   "outputs": [],
   "source": [
    "import numpy as np"
   ]
  },
  {
   "cell_type": "code",
   "execution_count": 4,
   "metadata": {
    "collapsed": true
   },
   "outputs": [],
   "source": [
    "import matplotlib.pyplot as plt"
   ]
  },
  {
   "cell_type": "code",
   "execution_count": 5,
   "metadata": {
    "collapsed": true
   },
   "outputs": [],
   "source": [
    "import seaborn as sns"
   ]
  },
  {
   "cell_type": "code",
   "execution_count": 6,
   "metadata": {
    "collapsed": true
   },
   "outputs": [],
   "source": [
    "sns.set_style(\"whitegrid\")"
   ]
  },
  {
   "cell_type": "code",
   "execution_count": 7,
   "metadata": {
    "collapsed": true
   },
   "outputs": [],
   "source": [
    "%matplotlib inline"
   ]
  },
  {
   "cell_type": "code",
   "execution_count": 8,
   "metadata": {
    "collapsed": true
   },
   "outputs": [],
   "source": [
    "from sklearn.datasets import load_boston"
   ]
  },
  {
   "cell_type": "code",
   "execution_count": 9,
   "metadata": {
    "collapsed": true
   },
   "outputs": [],
   "source": [
    "import sklearn"
   ]
  },
  {
   "cell_type": "code",
   "execution_count": 10,
   "metadata": {
    "collapsed": true
   },
   "outputs": [],
   "source": [
    "from sklearn.linear_model import LinearRegression"
   ]
  },
  {
   "cell_type": "markdown",
   "metadata": {
    "collapsed": false
   },
   "source": [
    "## Supervised Learning: Linear Regression\n",
    "\n",
    "This project uses a toy dataset that is built into scikit-learn as a way to learn more \n",
    "about supervised learning. Specifically, the project provides practice for diving into \n",
    "linear regression in a hands-on way. This will be done by using the fit method to train \n",
    "the regressor and also using the predict method to predict new labels.\n",
    "\n",
    "The project uses [the UC Irvine/StatLib/Carnegie Mellon University’s Boston “Housing Data \n",
    "Set”](https://archive.ics.uci.edu/ml/datasets/Housing). That dataset was imported just above.\n",
    "\n",
    "----------\n",
    "\n",
    "To load the dataset below, an object will be made called “boston” and it will be set equal \n",
    "to the imported dataset."
   ]
  },
  {
   "cell_type": "code",
   "execution_count": 11,
   "metadata": {
    "collapsed": true
   },
   "outputs": [],
   "source": [
    "boston = load_boston()"
   ]
  },
  {
   "cell_type": "markdown",
   "metadata": {
    "collapsed": false
   },
   "source": [
    "It is possible to use the special describe method (boston.DESCR) that scikit-learn built \n",
    "into this dataset to see what the dataset contains. That will be done below."
   ]
  },
  {
   "cell_type": "code",
   "execution_count": 12,
   "metadata": {
    "collapsed": false,
    "scrolled": true
   },
   "outputs": [
    {
     "name": "stdout",
     "output_type": "stream",
     "text": [
      "Boston House Prices dataset\n",
      "\n",
      "Notes\n",
      "------\n",
      "Data Set Characteristics:  \n",
      "\n",
      "    :Number of Instances: 506 \n",
      "\n",
      "    :Number of Attributes: 13 numeric/categorical predictive\n",
      "    \n",
      "    :Median Value (attribute 14) is usually the target\n",
      "\n",
      "    :Attribute Information (in order):\n",
      "        - CRIM     per capita crime rate by town\n",
      "        - ZN       proportion of residential land zoned for lots over 25,000 sq.ft.\n",
      "        - INDUS    proportion of non-retail business acres per town\n",
      "        - CHAS     Charles River dummy variable (= 1 if tract bounds river; 0 otherwise)\n",
      "        - NOX      nitric oxides concentration (parts per 10 million)\n",
      "        - RM       average number of rooms per dwelling\n",
      "        - AGE      proportion of owner-occupied units built prior to 1940\n",
      "        - DIS      weighted distances to five Boston employment centres\n",
      "        - RAD      index of accessibility to radial highways\n",
      "        - TAX      full-value property-tax rate per $10,000\n",
      "        - PTRATIO  pupil-teacher ratio by town\n",
      "        - B        1000(Bk - 0.63)^2 where Bk is the proportion of blacks by town\n",
      "        - LSTAT    % lower status of the population\n",
      "        - MEDV     Median value of owner-occupied homes in $1000's\n",
      "\n",
      "    :Missing Attribute Values: None\n",
      "\n",
      "    :Creator: Harrison, D. and Rubinfeld, D.L.\n",
      "\n",
      "This is a copy of UCI ML housing dataset.\n",
      "http://archive.ics.uci.edu/ml/datasets/Housing\n",
      "\n",
      "\n",
      "This dataset was taken from the StatLib library which is maintained at Carnegie Mellon University.\n",
      "\n",
      "The Boston house-price data of Harrison, D. and Rubinfeld, D.L. 'Hedonic\n",
      "prices and the demand for clean air', J. Environ. Economics & Management,\n",
      "vol.5, 81-102, 1978.   Used in Belsley, Kuh & Welsch, 'Regression diagnostics\n",
      "...', Wiley, 1980.   N.B. Various transformations are used in the table on\n",
      "pages 244-261 of the latter.\n",
      "\n",
      "The Boston house-price data has been used in many machine learning papers that address regression\n",
      "problems.   \n",
      "     \n",
      "**References**\n",
      "\n",
      "   - Belsley, Kuh & Welsch, 'Regression diagnostics: Identifying Influential Data and Sources of Collinearity', Wiley, 1980. 244-261.\n",
      "   - Quinlan,R. (1993). Combining Instance-Based and Model-Based Learning. In Proceedings on the Tenth International Conference of Machine Learning, 236-243, University of Massachusetts, Amherst. Morgan Kaufmann.\n",
      "   - many more! (see http://archive.ics.uci.edu/ml/datasets/Housing)\n",
      "\n"
     ]
    }
   ],
   "source": [
    "print (boston.DESCR) # The median value will be treated as the target/label. "
   ]
  },
  {
   "cell_type": "markdown",
   "metadata": {
    "collapsed": false
   },
   "source": [
    "A histogram with the target/label of the dataset (median home value) will be plotted below. \n",
    "The histogram will be made by calling the target method. 50 bins will be allotted because \n",
    "the dataset contains 506 different housing instances.\n",
    "\n",
    "\tBeing able to call a target value simply by calling the target method is something that is easily allowed for when working with toy datasets in scikit-learn. However, it’s not the standard way of being able to plot a histogram - it is understood that this is a shortcut."
   ]
  },
  {
   "cell_type": "code",
   "execution_count": 13,
   "metadata": {
    "collapsed": false
   },
   "outputs": [
    {
     "data": {
      "image/png": "[encoded data removed]",
      "text/plain": [
       "<matplotlib.figure.Figure at 0x1144ad518>"
      ]
     },
     "metadata": {},
     "output_type": "display_data"
    }
   ],
   "source": [
    "plt.hist(boston.target, bins = 50);\n",
    "\n",
    "plt.xlabel(\"Price in $1000s\");\n",
    "plt.ylabel(\"Number of Houses\");"
   ]
  },
  {
   "cell_type": "markdown",
   "metadata": {
    "collapsed": false
   },
   "source": [
    "It would be interesting to see a scatterplot of a single feature versus the target/label. \n",
    "Next, that will be done by making a scatterplot of the median home value versus the number \n",
    "of rooms in the home. \n",
    "\n",
    "The dataset provides an attribute that allows for easily getting the number of rooms.  “RM” \n",
    "is the label for the average number of rooms per dwelling. All of the attribute information \n",
    "was given in order, and the room attribute is the sixth down from the top, so it likely has \n",
    "an index number of 5. Calling the column at the #5 index of the Boston dataset should return \n",
    "the information needed.\n",
    "\n",
    "Below, to get started, a scatterplot method will be called in the same way as the above \n",
    "histogram was made - via the target method being called on the dataset. Then a request for \n",
    "every attribute in the 5th column will be given to serve as the x-axis (the average number \n",
    "of rooms). Median home value (“Price in $1000s”) will be along the y-axis."
   ]
  },
  {
   "cell_type": "code",
   "execution_count": 14,
   "metadata": {
    "collapsed": false
   },
   "outputs": [
    {
     "data": {
      "image/png": "[encoded data removed]",
      "text/plain": [
       "<matplotlib.figure.Figure at 0x11c3e0400>"
      ]
     },
     "metadata": {},
     "output_type": "display_data"
    }
   ],
   "source": [
    "plt.scatter(boston.data[:, 5], boston.target);\n",
    "\n",
    "plt.ylabel(\"Price in $1000s\");\n",
    "plt.xlabel(\"Number of Rooms\");"
   ]
  },
  {
   "cell_type": "markdown",
   "metadata": {
    "collapsed": false
   },
   "source": [
    "The scatterplot shows a trend - the price increases along with the number of rooms in a house. \n",
    "That makes sense considering it is typically the case that more rooms equals a bigger house \n",
    "equals likely a greater real estate value. \n",
    "\n",
    "Next, the same scatterplot will be replicated by first using Pandas to transform the Boston \n",
    "dataset into a DataFrame. And then, Seaborn will be used to perform an lmplot on that DataFrame \n",
    "to try to reproduce the scatterplot, but with a linear-fit line included as well.\n",
    "\n",
    "To begin that, an object will be made called bostonDataFrame. Then, the data will be reset as a \n",
    "Pandas DataFrame when the DataFrame method is called on just the data of the Boston dataset, \n",
    "not on the actual target/label itself. Calling the DataFrame method in this way is another thing \n",
    "that the toy dataset allows for as a way to keep things convenient."
   ]
  },
  {
   "cell_type": "code",
   "execution_count": 15,
   "metadata": {
    "collapsed": true
   },
   "outputs": [],
   "source": [
    "bostonDataFrame = DataFrame(boston.data)"
   ]
  },
  {
   "cell_type": "markdown",
   "metadata": {
    "collapsed": false
   },
   "source": [
    "Below, the columns in the DataFrame will be set equal to the feature names method (which is yet \n",
    "another thing that the toy dataset allows for)."
   ]
  },
  {
   "cell_type": "code",
   "execution_count": 16,
   "metadata": {
    "collapsed": true
   },
   "outputs": [],
   "source": [
    "bostonDataFrame.columns = boston.feature_names"
   ]
  },
  {
   "cell_type": "code",
   "execution_count": 17,
   "metadata": {
    "collapsed": false
   },
   "outputs": [
    {
     "data": {
      "text/html": [
       "<div>\n",
       "<table border=\"1\" class=\"dataframe\">\n",
       "  <thead>\n",
       "    <tr style=\"text-align: right;\">\n",
       "      <th></th>\n",
       "      <th>CRIM</th>\n",
       "      <th>ZN</th>\n",
       "      <th>INDUS</th>\n",
       "      <th>CHAS</th>\n",
       "      <th>NOX</th>\n",
       "      <th>RM</th>\n",
       "      <th>AGE</th>\n",
       "      <th>DIS</th>\n",
       "      <th>RAD</th>\n",
       "      <th>TAX</th>\n",
       "      <th>PTRATIO</th>\n",
       "      <th>B</th>\n",
       "      <th>LSTAT</th>\n",
       "    </tr>\n",
       "  </thead>\n",
       "  <tbody>\n",
       "    <tr>\n",
       "      <th>0</th>\n",
       "      <td>0.00632</td>\n",
       "      <td>18.0</td>\n",
       "      <td>2.31</td>\n",
       "      <td>0.0</td>\n",
       "      <td>0.538</td>\n",
       "      <td>6.575</td>\n",
       "      <td>65.2</td>\n",
       "      <td>4.0900</td>\n",
       "      <td>1.0</td>\n",
       "      <td>296.0</td>\n",
       "      <td>15.3</td>\n",
       "      <td>396.90</td>\n",
       "      <td>4.98</td>\n",
       "    </tr>\n",
       "    <tr>\n",
       "      <th>1</th>\n",
       "      <td>0.02731</td>\n",
       "      <td>0.0</td>\n",
       "      <td>7.07</td>\n",
       "      <td>0.0</td>\n",
       "      <td>0.469</td>\n",
       "      <td>6.421</td>\n",
       "      <td>78.9</td>\n",
       "      <td>4.9671</td>\n",
       "      <td>2.0</td>\n",
       "      <td>242.0</td>\n",
       "      <td>17.8</td>\n",
       "      <td>396.90</td>\n",
       "      <td>9.14</td>\n",
       "    </tr>\n",
       "    <tr>\n",
       "      <th>2</th>\n",
       "      <td>0.02729</td>\n",
       "      <td>0.0</td>\n",
       "      <td>7.07</td>\n",
       "      <td>0.0</td>\n",
       "      <td>0.469</td>\n",
       "      <td>7.185</td>\n",
       "      <td>61.1</td>\n",
       "      <td>4.9671</td>\n",
       "      <td>2.0</td>\n",
       "      <td>242.0</td>\n",
       "      <td>17.8</td>\n",
       "      <td>392.83</td>\n",
       "      <td>4.03</td>\n",
       "    </tr>\n",
       "    <tr>\n",
       "      <th>3</th>\n",
       "      <td>0.03237</td>\n",
       "      <td>0.0</td>\n",
       "      <td>2.18</td>\n",
       "      <td>0.0</td>\n",
       "      <td>0.458</td>\n",
       "      <td>6.998</td>\n",
       "      <td>45.8</td>\n",
       "      <td>6.0622</td>\n",
       "      <td>3.0</td>\n",
       "      <td>222.0</td>\n",
       "      <td>18.7</td>\n",
       "      <td>394.63</td>\n",
       "      <td>2.94</td>\n",
       "    </tr>\n",
       "    <tr>\n",
       "      <th>4</th>\n",
       "      <td>0.06905</td>\n",
       "      <td>0.0</td>\n",
       "      <td>2.18</td>\n",
       "      <td>0.0</td>\n",
       "      <td>0.458</td>\n",
       "      <td>7.147</td>\n",
       "      <td>54.2</td>\n",
       "      <td>6.0622</td>\n",
       "      <td>3.0</td>\n",
       "      <td>222.0</td>\n",
       "      <td>18.7</td>\n",
       "      <td>396.90</td>\n",
       "      <td>5.33</td>\n",
       "    </tr>\n",
       "  </tbody>\n",
       "</table>\n",
       "</div>"
      ],
      "text/plain": [
       "      CRIM    ZN  INDUS  CHAS    NOX     RM   AGE     DIS  RAD    TAX  \\\n",
       "0  0.00632  18.0   2.31   0.0  0.538  6.575  65.2  4.0900  1.0  296.0   \n",
       "1  0.02731   0.0   7.07   0.0  0.469  6.421  78.9  4.9671  2.0  242.0   \n",
       "2  0.02729   0.0   7.07   0.0  0.469  7.185  61.1  4.9671  2.0  242.0   \n",
       "3  0.03237   0.0   2.18   0.0  0.458  6.998  45.8  6.0622  3.0  222.0   \n",
       "4  0.06905   0.0   2.18   0.0  0.458  7.147  54.2  6.0622  3.0  222.0   \n",
       "\n",
       "   PTRATIO       B  LSTAT  \n",
       "0     15.3  396.90   4.98  \n",
       "1     17.8  396.90   9.14  \n",
       "2     17.8  392.83   4.03  \n",
       "3     18.7  394.63   2.94  \n",
       "4     18.7  396.90   5.33  "
      ]
     },
     "execution_count": 17,
     "metadata": {},
     "output_type": "execute_result"
    }
   ],
   "source": [
    "bostonDataFrame.head()"
   ]
  },
  {
   "cell_type": "markdown",
   "metadata": {
    "collapsed": false
   },
   "source": [
    "Next, the target/label of the Boston dataset (the median home value, or price) will be added. \n",
    "That will be done by creating a new column in the DataFrame and calling it “Price” then \n",
    "setting that equal to the target/label of the DataFrame. Setting the target/label will be done \n",
    "by passing the target method."
   ]
  },
  {
   "cell_type": "code",
   "execution_count": 18,
   "metadata": {
    "collapsed": true
   },
   "outputs": [],
   "source": [
    "bostonDataFrame[\"Price\"] = boston.target"
   ]
  },
  {
   "cell_type": "code",
   "execution_count": 19,
   "metadata": {
    "collapsed": false
   },
   "outputs": [
    {
     "data": {
      "text/html": [
       "<div>\n",
       "<table border=\"1\" class=\"dataframe\">\n",
       "  <thead>\n",
       "    <tr style=\"text-align: right;\">\n",
       "      <th></th>\n",
       "      <th>CRIM</th>\n",
       "      <th>ZN</th>\n",
       "      <th>INDUS</th>\n",
       "      <th>CHAS</th>\n",
       "      <th>NOX</th>\n",
       "      <th>RM</th>\n",
       "      <th>AGE</th>\n",
       "      <th>DIS</th>\n",
       "      <th>RAD</th>\n",
       "      <th>TAX</th>\n",
       "      <th>PTRATIO</th>\n",
       "      <th>B</th>\n",
       "      <th>LSTAT</th>\n",
       "      <th>Price</th>\n",
       "    </tr>\n",
       "  </thead>\n",
       "  <tbody>\n",
       "    <tr>\n",
       "      <th>0</th>\n",
       "      <td>0.00632</td>\n",
       "      <td>18.0</td>\n",
       "      <td>2.31</td>\n",
       "      <td>0.0</td>\n",
       "      <td>0.538</td>\n",
       "      <td>6.575</td>\n",
       "      <td>65.2</td>\n",
       "      <td>4.0900</td>\n",
       "      <td>1.0</td>\n",
       "      <td>296.0</td>\n",
       "      <td>15.3</td>\n",
       "      <td>396.90</td>\n",
       "      <td>4.98</td>\n",
       "      <td>24.0</td>\n",
       "    </tr>\n",
       "    <tr>\n",
       "      <th>1</th>\n",
       "      <td>0.02731</td>\n",
       "      <td>0.0</td>\n",
       "      <td>7.07</td>\n",
       "      <td>0.0</td>\n",
       "      <td>0.469</td>\n",
       "      <td>6.421</td>\n",
       "      <td>78.9</td>\n",
       "      <td>4.9671</td>\n",
       "      <td>2.0</td>\n",
       "      <td>242.0</td>\n",
       "      <td>17.8</td>\n",
       "      <td>396.90</td>\n",
       "      <td>9.14</td>\n",
       "      <td>21.6</td>\n",
       "    </tr>\n",
       "    <tr>\n",
       "      <th>2</th>\n",
       "      <td>0.02729</td>\n",
       "      <td>0.0</td>\n",
       "      <td>7.07</td>\n",
       "      <td>0.0</td>\n",
       "      <td>0.469</td>\n",
       "      <td>7.185</td>\n",
       "      <td>61.1</td>\n",
       "      <td>4.9671</td>\n",
       "      <td>2.0</td>\n",
       "      <td>242.0</td>\n",
       "      <td>17.8</td>\n",
       "      <td>392.83</td>\n",
       "      <td>4.03</td>\n",
       "      <td>34.7</td>\n",
       "    </tr>\n",
       "    <tr>\n",
       "      <th>3</th>\n",
       "      <td>0.03237</td>\n",
       "      <td>0.0</td>\n",
       "      <td>2.18</td>\n",
       "      <td>0.0</td>\n",
       "      <td>0.458</td>\n",
       "      <td>6.998</td>\n",
       "      <td>45.8</td>\n",
       "      <td>6.0622</td>\n",
       "      <td>3.0</td>\n",
       "      <td>222.0</td>\n",
       "      <td>18.7</td>\n",
       "      <td>394.63</td>\n",
       "      <td>2.94</td>\n",
       "      <td>33.4</td>\n",
       "    </tr>\n",
       "    <tr>\n",
       "      <th>4</th>\n",
       "      <td>0.06905</td>\n",
       "      <td>0.0</td>\n",
       "      <td>2.18</td>\n",
       "      <td>0.0</td>\n",
       "      <td>0.458</td>\n",
       "      <td>7.147</td>\n",
       "      <td>54.2</td>\n",
       "      <td>6.0622</td>\n",
       "      <td>3.0</td>\n",
       "      <td>222.0</td>\n",
       "      <td>18.7</td>\n",
       "      <td>396.90</td>\n",
       "      <td>5.33</td>\n",
       "      <td>36.2</td>\n",
       "    </tr>\n",
       "  </tbody>\n",
       "</table>\n",
       "</div>"
      ],
      "text/plain": [
       "      CRIM    ZN  INDUS  CHAS    NOX     RM   AGE     DIS  RAD    TAX  \\\n",
       "0  0.00632  18.0   2.31   0.0  0.538  6.575  65.2  4.0900  1.0  296.0   \n",
       "1  0.02731   0.0   7.07   0.0  0.469  6.421  78.9  4.9671  2.0  242.0   \n",
       "2  0.02729   0.0   7.07   0.0  0.469  7.185  61.1  4.9671  2.0  242.0   \n",
       "3  0.03237   0.0   2.18   0.0  0.458  6.998  45.8  6.0622  3.0  222.0   \n",
       "4  0.06905   0.0   2.18   0.0  0.458  7.147  54.2  6.0622  3.0  222.0   \n",
       "\n",
       "   PTRATIO       B  LSTAT  Price  \n",
       "0     15.3  396.90   4.98   24.0  \n",
       "1     17.8  396.90   9.14   21.6  \n",
       "2     17.8  392.83   4.03   34.7  \n",
       "3     18.7  394.63   2.94   33.4  \n",
       "4     18.7  396.90   5.33   36.2  "
      ]
     },
     "execution_count": 19,
     "metadata": {},
     "output_type": "execute_result"
    }
   ],
   "source": [
    "bostonDataFrame.head()  # ... checking for the new \"Price\" column"
   ]
  },
  {
   "cell_type": "markdown",
   "metadata": {
    "collapsed": false
   },
   "source": [
    "Seaborn’s built-in functionality means that it can be used to do a linear fit or linear \n",
    "regression automatically. This means not needing to manually calculate out the best fit \n",
    "line/least squares line.\n",
    "\n",
    "Below, the lmplot function will be used to call a linear plot that will create a linear \n",
    "regression over the scatterplot. It will plot the room feature versus the median home \n",
    "value, and the data will be set as that DataFrame."
   ]
  },
  {
   "cell_type": "code",
   "execution_count": 20,
   "metadata": {
    "collapsed": false
   },
   "outputs": [
    {
     "data": {
      "text/plain": [
       "<seaborn.axisgrid.FacetGrid at 0x11c6b8f60>"
      ]
     },
     "execution_count": 20,
     "metadata": {},
     "output_type": "execute_result"
    },
    {
     "data": {
      "image/png": "[encoded data removed]",
      "text/plain": [
       "<matplotlib.figure.Figure at 0x11c80bba8>"
      ]
     },
     "metadata": {},
     "output_type": "display_data"
    }
   ],
   "source": [
    "sns.lmplot(\"RM\", \"Price\", data = bostonDataFrame)"
   ]
  },
  {
   "cell_type": "markdown",
   "metadata": {
    "collapsed": false
   },
   "source": [
    "It is possible to manually recreate the above Seaborn plot - it is a simple linear regression. \n",
    "Seaborn did that automatically, but it is also possible to use matrix tricks and Numpy’s least \n",
    "squares method to achieve the same result. \n",
    "\n",
    "So next, Numpy will be used to create a univariate linear regression whereby one data type (number \n",
    "of rooms, in this case) will be fit it to another (the average home value data - which is serving \n",
    "as the target data/label). To start, the x and y arrays will be set for Numpy to take in. \n",
    "\n",
    "An important note for the x array is that Numpy expects to take in a two-dimensional array. The \n",
    "first dimension is made up of different example values, and the second dimension is the attribute \n",
    "number. In this case, the value will be the mean number of rooms per house. That value is a single \n",
    "attribute, so the second dimension of the array will be just 1. All of this means that a (506,1) \n",
    "shape array will need to be created (506 because the description of the Boston data set had 506 \n",
    "attributes for each feature).  \n",
    "\n",
    "There are a few ways to do this, but an easy way to do this is by using Numpy's built-in vertical \n",
    "stack tool - the vstack method.\n",
    "\n",
    "To begin the algorithmic stuff, X and Y will be set. Said differently, the X and Y being given to \n",
    "Numpy will make it possible to use that information to create a single-variable linear regression. \n",
    "X will be set to the median of the room value by calling the RM column within the “bostonDataFrame” \n",
    "DataFrame). That will simply create a series of all of that column’s data points (or a \"(506L, )\" )."
   ]
  },
  {
   "cell_type": "code",
   "execution_count": 21,
   "metadata": {
    "collapsed": false
   },
   "outputs": [],
   "source": [
    "X = bostonDataFrame.RM"
   ]
  },
  {
   "cell_type": "markdown",
   "metadata": {
    "collapsed": false
   },
   "source": [
    "Numpy’s linear algebra library needs to have the information in a manner where it knows all of the \n",
    "features and then how many attributes they actually are. In order to do that below, X will be set \n",
    "equal to numpy.vstack to use the vstack method. Then, that vstack method will be called on the RM \n",
    "column. Doing that will convert the information into the (506L, 1L) form."
   ]
  },
  {
   "cell_type": "code",
   "execution_count": 22,
   "metadata": {
    "collapsed": true
   },
   "outputs": [],
   "source": [
    "X = np.vstack(bostonDataFrame.RM)"
   ]
  },
  {
   "cell_type": "markdown",
   "metadata": {
    "collapsed": false
   },
   "source": [
    "The Y will be set to the label/target - median home value. That set will be made by calling the \n",
    "price column that was created earlier. "
   ]
  },
  {
   "cell_type": "code",
   "execution_count": 23,
   "metadata": {
    "collapsed": true
   },
   "outputs": [],
   "source": [
    "Y = bostonDataFrame.Price"
   ]
  },
  {
   "cell_type": "markdown",
   "metadata": {
    "collapsed": false
   },
   "source": [
    "“y = mx + b” is the equation for a line. But that equation will need to be rewritten using \n",
    "matrices. The equation then ultimately becomes [A = [x  1]](http://docs.scipy.org/doc/numpy-1.3.x/reference/generated/numpy.linalg.lstsq.html).\n",
    "\n",
    "To use Numpy to start creating that A matrix, a matrix in the form of [X  1] will be needed. \n",
    "Every value in the original X that was made above will need to be called. List comprehension \n",
    "will be used (instead of a for loop) to make the needed 1 by 2 array ( “[X  1]“).\n",
    "\n",
    "Below, list comprehension will build a list whereby “for every value in X (so going through \n",
    "the x array), set the array up as the ‘value, 1’ “, so that it matches the A = [X  1] matrix. \n",
    "Then an array will be made of all of those values. Specifically, \"numpy.array\" will be used \n",
    "to transform the list that was created by list comprehension into an array. Doing this will \n",
    "attach the 1 in the [X  1] part of the equation, and that 1 is needed because Numpy needs to \n",
    "know how many attributes it will be working with. And, in this case, it’s just a simple, \n",
    "single-variable linear regression, so there is just 1 attribute (the average number of rooms). "
   ]
  },
  {
   "cell_type": "code",
   "execution_count": 24,
   "metadata": {
    "collapsed": true
   },
   "outputs": [],
   "source": [
    "X = np.array( [ [value, 1] for value in X ] )"
   ]
  },
  {
   "cell_type": "markdown",
   "metadata": {
    "collapsed": false
   },
   "source": [
    "Having set up the above has provided all that is needed in order to get best fit values. Below, \n",
    "two new objects will be set up (m and b) for the best fit line. Then, the least squares method \n",
    "(lstsq) from the linear algebra library (linalg) will be used to call the X and Y values to be \n",
    "applied to the objects. Only the first indexed value is needed (the value at “[0]”), so that \n",
    "will be stated as well so that everything fits the format that the linear algebra least squares \n",
    "method spits it out."
   ]
  },
  {
   "cell_type": "code",
   "execution_count": 25,
   "metadata": {
    "collapsed": true
   },
   "outputs": [],
   "source": [
    "m, b = np.linalg.lstsq(X, Y)[0]"
   ]
  },
  {
   "cell_type": "markdown",
   "metadata": {
    "collapsed": false
   },
   "source": [
    "Below, the original format of the Boston information will be used to plot everything together. \n",
    "The matrix transformations were only done to make it possible to utilize the Numpy least \n",
    "squares method. The code below will create a scatterplot that will make a marker for the \n",
    "average number of rooms and the associated median home value."
   ]
  },
  {
   "cell_type": "code",
   "execution_count": 26,
   "metadata": {
    "collapsed": false
   },
   "outputs": [
    {
     "data": {
      "text/plain": [
       "[<matplotlib.lines.Line2D at 0x11c833588>]"
      ]
     },
     "execution_count": 26,
     "metadata": {},
     "output_type": "execute_result"
    },
    {
     "data": {
      "image/png": "[encoded data removed]",
      "text/plain": [
       "<matplotlib.figure.Figure at 0x11c977048>"
      ]
     },
     "metadata": {},
     "output_type": "display_data"
    }
   ],
   "source": [
    "plt.plot(bostonDataFrame.RM, bostonDataFrame.Price, \"o\", alpha = 0.55)"
   ]
  },
  {
   "cell_type": "markdown",
   "metadata": {
    "collapsed": false
   },
   "source": [
    "Below, a yellow best fit line will be plotted. For differentiation, a lower case x will be \n",
    "set equal to the room column. Then a plot will be made that uses the x values (the rooms \n",
    "column) and the equation of a line whereby the m and b values used are the ones that were \n",
    "recently obtained from the Numpy least squares method in the linear algebra library."
   ]
  },
  {
   "cell_type": "code",
   "execution_count": 27,
   "metadata": {
    "collapsed": false
   },
   "outputs": [
    {
     "data": {
      "text/plain": [
       "[<matplotlib.lines.Line2D at 0x11c368e48>]"
      ]
     },
     "execution_count": 27,
     "metadata": {},
     "output_type": "execute_result"
    },
    {
     "data": {
      "image/png": "[encoded data removed]",
      "text/plain": [
       "<matplotlib.figure.Figure at 0x11c6cc5c0>"
      ]
     },
     "metadata": {},
     "output_type": "display_data"
    }
   ],
   "source": [
    "x = bostonDataFrame.RM\n",
    "plt.plot(x, m*x + b, \"y\", label = \"Best Fit Line\")"
   ]
  },
  {
   "cell_type": "markdown",
   "metadata": {
    "collapsed": false
   },
   "source": [
    "Below, the two plots will be combined to replicate the Seaborn plot."
   ]
  },
  {
   "cell_type": "code",
   "execution_count": 28,
   "metadata": {
    "collapsed": false
   },
   "outputs": [
    {
     "data": {
      "text/plain": [
       "[<matplotlib.lines.Line2D at 0x11d0124e0>]"
      ]
     },
     "execution_count": 28,
     "metadata": {},
     "output_type": "execute_result"
    },
    {
     "data": {
      "image/png": "[encoded data removed]",
      "text/plain": [
       "<matplotlib.figure.Figure at 0x11c332588>"
      ]
     },
     "metadata": {},
     "output_type": "display_data"
    }
   ],
   "source": [
    "plt.plot(bostonDataFrame.RM, bostonDataFrame.Price, \"o\", alpha = 0.55);\n",
    "\n",
    "x = bostonDataFrame.RM\n",
    "plt.plot(x, m*x + b, \"y\", label = \"Best Fit Line\")"
   ]
  },
  {
   "cell_type": "markdown",
   "metadata": {
    "collapsed": true
   },
   "source": [
    "The root mean squared error of the line that was just fitted will be found next. The root mean squared error is very similar to the standard deviation, that makes it useful here.\n",
    "\n",
    "Using [numpy.linanalg.lstsq](http://docs.scipy.org/doc/numpy/reference/generated/numpy.linalg.lstsq.html) returns an array that has a total squared error. What that means is that it takes each element and checks the distance between the data point and the fit line (this distance is a variable D). Then it squares that D and all of the other Ds that can be calculated along the fit line. Then it sums up all of those squared distances and then summed. \n",
    "\n",
    "Next, to get the error, an object called \"result\" will be created and the Numpy least squares method (numpy.linalg.lstsq) will be called again on the X and Y that were made earlier. \n"
   ]
  },
  {
   "cell_type": "code",
   "execution_count": 29,
   "metadata": {
    "collapsed": true
   },
   "outputs": [],
   "source": [
    "result = np.linalg.lstsq(X, Y)"
   ]
  },
  {
   "cell_type": "markdown",
   "metadata": {},
   "source": [
    "The total error is stored at [K](http://docs.scipy.org/doc/numpy-1.7.0/reference/generated/numpy.linalg.lstsq.html), which is index 1 in this case. So, totalError will be set to result[1]."
   ]
  },
  {
   "cell_type": "code",
   "execution_count": 30,
   "metadata": {
    "collapsed": true
   },
   "outputs": [],
   "source": [
    "totalError = result[1]"
   ]
  },
  {
   "cell_type": "markdown",
   "metadata": {
    "collapsed": true
   },
   "source": [
    "Next, taking the square root of the \"totalError\" object and dividing that by the length of X will provide the root mean squared error. Since the error has the same dimension as the variable itself, taking the square root is a way of standardizing the error metric (because RMSE/mean is non-dimensional and also, it is not affected by whatever the choice of unit might be).\n"
   ]
  },
  {
   "cell_type": "code",
   "execution_count": 31,
   "metadata": {
    "collapsed": false
   },
   "outputs": [],
   "source": [
    "rmse = np.sqrt(totalError/len(X))"
   ]
  },
  {
   "cell_type": "code",
   "execution_count": 32,
   "metadata": {
    "collapsed": false
   },
   "outputs": [
    {
     "name": "stdout",
     "output_type": "stream",
     "text": [
      "The root mean squared error was 6.60.\n"
     ]
    }
   ],
   "source": [
    "print (\"The root mean squared error was %.2f.\" %rmse)  # Seeing the results"
   ]
  },
  {
   "cell_type": "markdown",
   "metadata": {
    "collapsed": true
   },
   "source": [
    "Again, the root mean square error is very similar to the standard deviation. Since the two can be seen as approximately corresponding to one another, it is possible to say that the median home value is going to be at least within 2 times the root mean square error value. Or, said differently, the median home value is *not likely* to vary more than 2 times the root mean square error value 95% of the time. That means that a median home value can reasonably be expected to be within \\$13,200 of the fit line (because the figures from the dataset were given in $1000s, and the RMSE was 6.60). \n",
    "\n",
    "-----------\n",
    "\n",
    "\n",
    "A linear regression object will be created below. "
   ]
  },
  {
   "cell_type": "code",
   "execution_count": 33,
   "metadata": {
    "collapsed": false
   },
   "outputs": [],
   "source": [
    "linReg = LinearRegression()"
   ]
  },
  {
   "cell_type": "markdown",
   "metadata": {
    "collapsed": true
   },
   "source": [
    "To begin the multivariable regression analysis, the “bostonDataFrame” will be separated back into data columns and the target column. \n",
    "\n",
    "This will be done below by setting “XMulti” as the “bostonDataFrame”  DataFrame, but with the median home value dropped. Also a 1 index will be passed because, in order to drop a column, a 1 index needs to be passed. Doing this will create a situation where XMulti is equal to everything in the “bostonDataFrame” minus the median home value. "
   ]
  },
  {
   "cell_type": "code",
   "execution_count": 34,
   "metadata": {
    "collapsed": true
   },
   "outputs": [],
   "source": [
    "XMulti = bostonDataFrame.drop(\"Price\", 1)  # Data columns"
   ]
  },
  {
   "cell_type": "markdown",
   "metadata": {
    "collapsed": true
   },
   "source": [
    "The YTarget is going to be set equal to “bostonDataFrame.Price” to have the YTarget be only equal to the median home value. "
   ]
  },
  {
   "cell_type": "code",
   "execution_count": 35,
   "metadata": {
    "collapsed": true
   },
   "outputs": [],
   "source": [
    "YTarget = bostonDataFrame.Price"
   ]
  },
  {
   "cell_type": "markdown",
   "metadata": {
    "collapsed": true
   },
   "source": [
    "Next, the X and Y will be passed into the fit method using the linear regression object that was made earlier."
   ]
  },
  {
   "cell_type": "code",
   "execution_count": 36,
   "metadata": {
    "collapsed": false
   },
   "outputs": [
    {
     "data": {
      "text/plain": [
       "LinearRegression(copy_X=True, fit_intercept=True, n_jobs=1, normalize=False)"
      ]
     },
     "execution_count": 36,
     "metadata": {},
     "output_type": "execute_result"
    }
   ],
   "source": [
    "linReg.fit(XMulti, YTarget)"
   ]
  },
  {
   "cell_type": "markdown",
   "metadata": {
    "collapsed": true
   },
   "source": [
    "Below, the intercept will be checked and the result will be printed."
   ]
  },
  {
   "cell_type": "code",
   "execution_count": 37,
   "metadata": {
    "collapsed": false
   },
   "outputs": [
    {
     "name": "stdout",
     "output_type": "stream",
     "text": [
      "The estimated intercept coefficient is 36.49.\n"
     ]
    }
   ],
   "source": [
    "print (\"The estimated intercept coefficient is %.2f.\" %linReg.intercept_)"
   ]
  },
  {
   "cell_type": "markdown",
   "metadata": {
    "collapsed": true
   },
   "source": [
    "Below, the intercept will be checked by calling the length of the linear regression coefficient method then the result will be printed."
   ]
  },
  {
   "cell_type": "code",
   "execution_count": 38,
   "metadata": {
    "collapsed": false
   },
   "outputs": [
    {
     "name": "stdout",
     "output_type": "stream",
     "text": [
      "The number of coefficients used was 13.\n"
     ]
    }
   ],
   "source": [
    "print (\"The number of coefficients used was %d.\" % len(linReg.coef_))"
   ]
  },
  {
   "cell_type": "markdown",
   "metadata": {
    "collapsed": true
   },
   "source": [
    "The above results show that essentially, an equation for a line has been made but, instead of it having just one coefficient m and an intercept b, it now has 13 coefficients. The end result of this is the creation of a line that, instead of having it equate to only mx + b ( [w1x1](http://scikit-learn.org/stable/modules/linear_model.html) it goes all the way up to 13 coefficients… because 13 different types of data variables are being used)… "
   ]
  },
  {
   "cell_type": "code",
   "execution_count": 39,
   "metadata": {
    "collapsed": true
   },
   "outputs": [],
   "source": [
    "coeffDataFrame = DataFrame(bostonDataFrame.columns)"
   ]
  },
  {
   "cell_type": "markdown",
   "metadata": {
    "collapsed": true
   },
   "source": [
    "Next, a DataFrame will be created for showing all of the Features and their estimated coefficients obtained from that fit that was done earlier - that linear regression. \n",
    "\n",
    "At this stage, what is happening is scikit-learn is doing everything that was manually done earlier in Python using Numpy. But scikit-learn is instead doing those things in one simple step with this fit method. \n"
   ]
  },
  {
   "cell_type": "code",
   "execution_count": 40,
   "metadata": {
    "collapsed": true
   },
   "outputs": [],
   "source": [
    "coeffDataFrame.columns = [\"Features\"]"
   ]
  },
  {
   "cell_type": "markdown",
   "metadata": {
    "collapsed": true
   },
   "source": [
    "Below, a new column named “Coefficient Estimate” will be made for lining up the coefficients from the linear regression. It will be equal to a series of Pandas of the coefficient method."
   ]
  },
  {
   "cell_type": "code",
   "execution_count": 41,
   "metadata": {
    "collapsed": true
   },
   "outputs": [],
   "source": [
    "coeffDataFrame[\"Coefficient Estimate\"] = pd.Series(linReg.coef_)"
   ]
  },
  {
   "cell_type": "code",
   "execution_count": 42,
   "metadata": {
    "collapsed": false
   },
   "outputs": [
    {
     "data": {
      "text/html": [
       "<div>\n",
       "<table border=\"1\" class=\"dataframe\">\n",
       "  <thead>\n",
       "    <tr style=\"text-align: right;\">\n",
       "      <th></th>\n",
       "      <th>Features</th>\n",
       "      <th>Coefficient Estimate</th>\n",
       "    </tr>\n",
       "  </thead>\n",
       "  <tbody>\n",
       "    <tr>\n",
       "      <th>0</th>\n",
       "      <td>CRIM</td>\n",
       "      <td>-0.107171</td>\n",
       "    </tr>\n",
       "    <tr>\n",
       "      <th>1</th>\n",
       "      <td>ZN</td>\n",
       "      <td>0.046395</td>\n",
       "    </tr>\n",
       "    <tr>\n",
       "      <th>2</th>\n",
       "      <td>INDUS</td>\n",
       "      <td>0.020860</td>\n",
       "    </tr>\n",
       "    <tr>\n",
       "      <th>3</th>\n",
       "      <td>CHAS</td>\n",
       "      <td>2.688561</td>\n",
       "    </tr>\n",
       "    <tr>\n",
       "      <th>4</th>\n",
       "      <td>NOX</td>\n",
       "      <td>-17.795759</td>\n",
       "    </tr>\n",
       "    <tr>\n",
       "      <th>5</th>\n",
       "      <td>RM</td>\n",
       "      <td>3.804752</td>\n",
       "    </tr>\n",
       "    <tr>\n",
       "      <th>6</th>\n",
       "      <td>AGE</td>\n",
       "      <td>0.000751</td>\n",
       "    </tr>\n",
       "    <tr>\n",
       "      <th>7</th>\n",
       "      <td>DIS</td>\n",
       "      <td>-1.475759</td>\n",
       "    </tr>\n",
       "    <tr>\n",
       "      <th>8</th>\n",
       "      <td>RAD</td>\n",
       "      <td>0.305655</td>\n",
       "    </tr>\n",
       "    <tr>\n",
       "      <th>9</th>\n",
       "      <td>TAX</td>\n",
       "      <td>-0.012329</td>\n",
       "    </tr>\n",
       "    <tr>\n",
       "      <th>10</th>\n",
       "      <td>PTRATIO</td>\n",
       "      <td>-0.953464</td>\n",
       "    </tr>\n",
       "    <tr>\n",
       "      <th>11</th>\n",
       "      <td>B</td>\n",
       "      <td>0.009393</td>\n",
       "    </tr>\n",
       "    <tr>\n",
       "      <th>12</th>\n",
       "      <td>LSTAT</td>\n",
       "      <td>-0.525467</td>\n",
       "    </tr>\n",
       "    <tr>\n",
       "      <th>13</th>\n",
       "      <td>Price</td>\n",
       "      <td>NaN</td>\n",
       "    </tr>\n",
       "  </tbody>\n",
       "</table>\n",
       "</div>"
      ],
      "text/plain": [
       "   Features  Coefficient Estimate\n",
       "0      CRIM             -0.107171\n",
       "1        ZN              0.046395\n",
       "2     INDUS              0.020860\n",
       "3      CHAS              2.688561\n",
       "4       NOX            -17.795759\n",
       "5        RM              3.804752\n",
       "6       AGE              0.000751\n",
       "7       DIS             -1.475759\n",
       "8       RAD              0.305655\n",
       "9       TAX             -0.012329\n",
       "10  PTRATIO             -0.953464\n",
       "11        B              0.009393\n",
       "12    LSTAT             -0.525467\n",
       "13    Price                   NaN"
      ]
     },
     "execution_count": 42,
     "metadata": {},
     "output_type": "execute_result"
    }
   ],
   "source": [
    "coeffDataFrame  # Checking"
   ]
  },
  {
   "cell_type": "markdown",
   "metadata": {
    "collapsed": true
   },
   "source": [
    "Just like what was initially plotted earlier, the coefficients show that the highest one (3.80) corresponds with the average number of rooms. So it seems that it’s the highest-correlated feature between a particular data feature and a home’s price.\n",
    "\n",
    "---------\n",
    "\n",
    "Next, the cross validation library from scikit-learn will be called for use with doing the train_test_split analysis. The data that will be used for that will be the X data that was made earlier (the X array) and the target (the Price). Scikit-learn will take all of the X information and all of the Y information (and in this case, it is going to be the multivariate information) and split it up into a training set and a testing set and there will be an X and Y for each of those respectively. Then, it is going to output 4 things: the X training and X testing, then the Y training and Y testing. "
   ]
  },
  {
   "cell_type": "code",
   "execution_count": 43,
   "metadata": {
    "collapsed": true
   },
   "outputs": [],
   "source": [
    "XTrain, XTest, YTrain, YTest = sklearn.cross_validation.train_test_split(X, bostonDataFrame.Price)"
   ]
  },
  {
   "cell_type": "code",
   "execution_count": 44,
   "metadata": {
    "collapsed": false
   },
   "outputs": [
    {
     "name": "stdout",
     "output_type": "stream",
     "text": [
      "(379, 2) (127, 2) (379,) (127,)\n"
     ]
    }
   ],
   "source": [
    "print (XTrain.shape, XTest.shape, YTrain.shape, YTest.shape)"
   ]
  },
  {
   "cell_type": "code",
   "execution_count": 45,
   "metadata": {
    "collapsed": false
   },
   "outputs": [],
   "source": [
    "linReg = LinearRegression()"
   ]
  },
  {
   "cell_type": "markdown",
   "metadata": {
    "collapsed": true
   },
   "source": [
    "Below, the training data will be fit to the linear regression that was just created above."
   ]
  },
  {
   "cell_type": "code",
   "execution_count": 46,
   "metadata": {
    "collapsed": false
   },
   "outputs": [
    {
     "data": {
      "text/plain": [
       "LinearRegression(copy_X=True, fit_intercept=True, n_jobs=1, normalize=False)"
      ]
     },
     "execution_count": 46,
     "metadata": {},
     "output_type": "execute_result"
    }
   ],
   "source": [
    "linReg.fit(XTrain, YTrain)"
   ]
  },
  {
   "cell_type": "markdown",
   "metadata": {
    "collapsed": true
   },
   "source": [
    "Next, a prediction will be called on both the X training and testing set. This will be done by calling a prediction method on the XTrain and setting that equal to an object called predTrain (for “prediction train”). The same will be done for the testing set. Afterwards, they will be checked to see how well the training sets match the testing sets. "
   ]
  },
  {
   "cell_type": "code",
   "execution_count": 47,
   "metadata": {
    "collapsed": false
   },
   "outputs": [],
   "source": [
    "predTrain = linReg.predict(XTrain)"
   ]
  },
  {
   "cell_type": "code",
   "execution_count": 48,
   "metadata": {
    "collapsed": true
   },
   "outputs": [],
   "source": [
    "predTest = linReg.predict(XTest)"
   ]
  },
  {
   "cell_type": "markdown",
   "metadata": {},
   "source": [
    "Below, the mean squared error (MSE) will be taken - model will be fit with the training dataset and the the MSE will be calculated with the X testing set and the Y testing set. It will be a similar process as earlier except that it will be done with the Y testing data and the linear regression prediction from the testing that was done on the X testing data (i.e. - the prediction object that was made earlier). \n",
    "\n",
    "To print out the MSE, the difference will be taken between \"YTrain\" and the prediction that was made earlier from the training set. After that is taken, it will be squared and then the mean of that result will be taken. Numpy’s mean method will be used to do that. \n"
   ]
  },
  {
   "cell_type": "code",
   "execution_count": 49,
   "metadata": {
    "collapsed": false
   },
   "outputs": [
    {
     "name": "stdout",
     "output_type": "stream",
     "text": [
      "Fit a model XTrain, and calculate MSE with YTrain: 44.57.\n"
     ]
    }
   ],
   "source": [
    "print (\"Fit a model XTrain, and calculate MSE with YTrain: %.2f.\"  % np.mean((YTrain - predTrain) ** 2))"
   ]
  },
  {
   "cell_type": "code",
   "execution_count": 50,
   "metadata": {
    "collapsed": false
   },
   "outputs": [
    {
     "name": "stdout",
     "output_type": "stream",
     "text": [
      "Fit a model XTrain, and calculate MSE with XTest and YTest: 40.84.\n"
     ]
    }
   ],
   "source": [
    "print (\"Fit a model XTrain, and calculate MSE with XTest and YTest: %.2f.\"  %np.mean((YTest - predTest) ** 2))"
   ]
  },
  {
   "cell_type": "markdown",
   "metadata": {
    "collapsed": true
   },
   "source": [
    "Next, a scatterplot will be made (or a residual plot) for the training data. Scatterplot “train” will be set equal to plt.scatter with the prediction data from the training set added in. Then, displayed on the Y will be the prediction training minus the Y training (that residual value).\n",
    "\n",
    "Scatterplot “test” will do the same thing, but with the testing data instead so that it will provide the test prediction (the \"predTest\" object that was created earlier).\n",
    "\n",
    "Then a horizontal line will be plotted across at line equal to zero by setting y=0 as an argument."
   ]
  },
  {
   "cell_type": "code",
   "execution_count": 51,
   "metadata": {
    "collapsed": false
   },
   "outputs": [
    {
     "data": {
      "text/plain": [
       "<matplotlib.text.Text at 0x11c341c88>"
      ]
     },
     "execution_count": 51,
     "metadata": {},
     "output_type": "execute_result"
    },
    {
     "data": {
      "image/png": "[encoded data removed]",
      "text/plain": [
       "<matplotlib.figure.Figure at 0x11c3b6c18>"
      ]
     },
     "metadata": {},
     "output_type": "display_data"
    }
   ],
   "source": [
    "train = plt.scatter(predTrain, (predTrain - YTrain), c = \"m\", s = 65, alpha = 0.5)\n",
    "\n",
    "test = plt.scatter(predTest,(predTest - YTest), c = \"c\", s = 65, alpha = 0.5)\n",
    "\n",
    "plt.hlines(y = 0, xmin = -10, xmax = 50)\n",
    "\n",
    "plt.legend((train, test), (\"Training\", \"Test\"), loc = \"lower right\")\n",
    "\n",
    "plt.title(\"Residual Plots\")"
   ]
  },
  {
   "cell_type": "markdown",
   "metadata": {
    "collapsed": true
   },
   "source": [
    "In looking at the scatterplot, it looks like there isn’t any major pattern (and, with there being more that 500 data points, it shows that quite the majority are just scattered randomly around the horizontal line). This sort of visualization is expected. So, in considering whether or not regression was the right choice, it seems that this residual plot supports that. \n"
   ]
  },
  {
   "cell_type": "code",
   "execution_count": null,
   "metadata": {
    "collapsed": true
   },
   "outputs": [],
   "source": []
  }
 ],
 "metadata": {
  "kernelspec": {
   "display_name": "Python 3",
   "language": "python",
   "name": "python3"
  },
  "language_info": {
   "codemirror_mode": {
    "name": "ipython",
    "version": 3
   },
   "file_extension": ".py",
   "mimetype": "text/x-python",
   "name": "python",
   "nbconvert_exporter": "python",
   "pygments_lexer": "ipython3",
   "version": "3.5.1"
  }
 },
 "nbformat": 4,
 "nbformat_minor": 0
}
