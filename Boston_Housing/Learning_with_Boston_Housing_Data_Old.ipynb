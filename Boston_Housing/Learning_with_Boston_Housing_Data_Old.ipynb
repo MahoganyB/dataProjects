{
 "cells": [
  {
   "cell_type": "code",
   "execution_count": 3,
   "metadata": {
    "collapsed": true
   },
   "outputs": [],
   "source": [
    "import pandas as pd"
   ]
  },
  {
   "cell_type": "code",
   "execution_count": 4,
   "metadata": {
    "collapsed": true
   },
   "outputs": [],
   "source": [
    "from pandas import Series, DataFrame"
   ]
  },
  {
   "cell_type": "code",
   "execution_count": 5,
   "metadata": {
    "collapsed": true
   },
   "outputs": [],
   "source": [
    "import numpy as np"
   ]
  },
  {
   "cell_type": "code",
   "execution_count": 6,
   "metadata": {
    "collapsed": true
   },
   "outputs": [],
   "source": [
    "import matplotlib.pyplot as plt"
   ]
  },
  {
   "cell_type": "code",
   "execution_count": 7,
   "metadata": {
    "collapsed": true
   },
   "outputs": [],
   "source": [
    "import seaborn as sns"
   ]
  },
  {
   "cell_type": "code",
   "execution_count": 8,
   "metadata": {
    "collapsed": true
   },
   "outputs": [],
   "source": [
    "sns.set_style(\"whitegrid\")"
   ]
  },
  {
   "cell_type": "code",
   "execution_count": 9,
   "metadata": {
    "collapsed": true
   },
   "outputs": [],
   "source": [
    "%matplotlib inline"
   ]
  },
  {
   "cell_type": "code",
   "execution_count": 10,
   "metadata": {
    "collapsed": true
   },
   "outputs": [],
   "source": [
    "from sklearn.datasets import load_boston"
   ]
  },
  {
   "cell_type": "code",
   "execution_count": 11,
   "metadata": {
    "collapsed": false
   },
   "outputs": [
    {
     "data": {
      "text/plain": [
       "'\\nThis project uses a toy dataset that is built into scikit-learn as a way to learn more \\nabout supervised learning. Specifically, the project provides practice for diving into \\nlinear regression in a hands-on way. This will be done by using the fit method to train \\nthe regressor and also using the predict method to predict new labels.\\n\\nThe project uses [the UC Irvine/StatLib/Carnegie Mellon University’s Boston “Housing Data \\nSet”](https://archive.ics.uci.edu/ml/datasets/Housing). That dataset was imported just above.\\n\\nTo load the dataset below, an object will be made called “boston” and it will be set equal \\nto the imported dataset.\\n'"
      ]
     },
     "execution_count": 11,
     "metadata": {},
     "output_type": "execute_result"
    }
   ],
   "source": [
    "'''\n",
    "This project uses a toy dataset that is built into scikit-learn as a way to learn more \n",
    "about supervised learning. Specifically, the project provides practice for diving into \n",
    "linear regression in a hands-on way. This will be done by using the fit method to train \n",
    "the regressor and also using the predict method to predict new labels.\n",
    "\n",
    "The project uses [the UC Irvine/StatLib/Carnegie Mellon University’s Boston “Housing Data \n",
    "Set”](https://archive.ics.uci.edu/ml/datasets/Housing). That dataset was imported just above.\n",
    "\n",
    "To load the dataset below, an object will be made called “boston” and it will be set equal \n",
    "to the imported dataset.\n",
    "'''"
   ]
  },
  {
   "cell_type": "code",
   "execution_count": 12,
   "metadata": {
    "collapsed": true
   },
   "outputs": [],
   "source": [
    "boston = load_boston()"
   ]
  },
  {
   "cell_type": "code",
   "execution_count": 13,
   "metadata": {
    "collapsed": false
   },
   "outputs": [
    {
     "data": {
      "text/plain": [
       "'\\nIt is possible to use the special describe method (boston.DESCR) that scikit-learn built \\ninto this dataset to see what the dataset contains. That will be done below.\\n'"
      ]
     },
     "execution_count": 13,
     "metadata": {},
     "output_type": "execute_result"
    }
   ],
   "source": [
    "'''\n",
    "It is possible to use the special describe method (boston.DESCR) that scikit-learn built \n",
    "into this dataset to see what the dataset contains. That will be done below.\n",
    "'''"
   ]
  },
  {
   "cell_type": "code",
   "execution_count": 14,
   "metadata": {
    "collapsed": false
   },
   "outputs": [
    {
     "name": "stdout",
     "output_type": "stream",
     "text": [
      "Boston House Prices dataset\n",
      "\n",
      "Notes\n",
      "------\n",
      "Data Set Characteristics:  \n",
      "\n",
      "    :Number of Instances: 506 \n",
      "\n",
      "    :Number of Attributes: 13 numeric/categorical predictive\n",
      "    \n",
      "    :Median Value (attribute 14) is usually the target\n",
      "\n",
      "    :Attribute Information (in order):\n",
      "        - CRIM     per capita crime rate by town\n",
      "        - ZN       proportion of residential land zoned for lots over 25,000 sq.ft.\n",
      "        - INDUS    proportion of non-retail business acres per town\n",
      "        - CHAS     Charles River dummy variable (= 1 if tract bounds river; 0 otherwise)\n",
      "        - NOX      nitric oxides concentration (parts per 10 million)\n",
      "        - RM       average number of rooms per dwelling\n",
      "        - AGE      proportion of owner-occupied units built prior to 1940\n",
      "        - DIS      weighted distances to five Boston employment centres\n",
      "        - RAD      index of accessibility to radial highways\n",
      "        - TAX      full-value property-tax rate per $10,000\n",
      "        - PTRATIO  pupil-teacher ratio by town\n",
      "        - B        1000(Bk - 0.63)^2 where Bk is the proportion of blacks by town\n",
      "        - LSTAT    % lower status of the population\n",
      "        - MEDV     Median value of owner-occupied homes in $1000's\n",
      "\n",
      "    :Missing Attribute Values: None\n",
      "\n",
      "    :Creator: Harrison, D. and Rubinfeld, D.L.\n",
      "\n",
      "This is a copy of UCI ML housing dataset.\n",
      "http://archive.ics.uci.edu/ml/datasets/Housing\n",
      "\n",
      "\n",
      "This dataset was taken from the StatLib library which is maintained at Carnegie Mellon University.\n",
      "\n",
      "The Boston house-price data of Harrison, D. and Rubinfeld, D.L. 'Hedonic\n",
      "prices and the demand for clean air', J. Environ. Economics & Management,\n",
      "vol.5, 81-102, 1978.   Used in Belsley, Kuh & Welsch, 'Regression diagnostics\n",
      "...', Wiley, 1980.   N.B. Various transformations are used in the table on\n",
      "pages 244-261 of the latter.\n",
      "\n",
      "The Boston house-price data has been used in many machine learning papers that address regression\n",
      "problems.   \n",
      "     \n",
      "**References**\n",
      "\n",
      "   - Belsley, Kuh & Welsch, 'Regression diagnostics: Identifying Influential Data and Sources of Collinearity', Wiley, 1980. 244-261.\n",
      "   - Quinlan,R. (1993). Combining Instance-Based and Model-Based Learning. In Proceedings on the Tenth International Conference of Machine Learning, 236-243, University of Massachusetts, Amherst. Morgan Kaufmann.\n",
      "   - many more! (see http://archive.ics.uci.edu/ml/datasets/Housing)\n",
      "\n"
     ]
    }
   ],
   "source": [
    "print (boston.DESCR) # The median value will be treated as the target/label. "
   ]
  },
  {
   "cell_type": "code",
   "execution_count": 15,
   "metadata": {
    "collapsed": false
   },
   "outputs": [
    {
     "data": {
      "text/plain": [
       "'\\nA histogram with the target/label of the dataset (median home value) will be plotted below. \\nThe histogram will be made by calling the target method. 50 bins will be allotted because \\nthe dataset contains 506 different housing instances.\\n\\nBeing able to call a target value simply by calling the target method is something that is \\neasily allowed for when working with toy datasets in scikit-learn. However, it’s not the \\nstandard way of being able to plot a histogram - it is understood that this is a shortcut.\\n'"
      ]
     },
     "execution_count": 15,
     "metadata": {},
     "output_type": "execute_result"
    }
   ],
   "source": [
    "'''\n",
    "A histogram with the target/label of the dataset (median home value) will be plotted below. \n",
    "The histogram will be made by calling the target method. 50 bins will be allotted because \n",
    "the dataset contains 506 different housing instances.\n",
    "\n",
    "Being able to call a target value simply by calling the target method is something that is \n",
    "easily allowed for when working with toy datasets in scikit-learn. However, it’s not the \n",
    "standard way of being able to plot a histogram - it is understood that this is a shortcut.\n",
    "'''"
   ]
  },
  {
   "cell_type": "code",
   "execution_count": 16,
   "metadata": {
    "collapsed": false
   },
   "outputs": [
    {
     "data": {
      "image/png": "[encoded data removed]",
      "text/plain": [
       "<matplotlib.figure.Figure at 0x119c2d1d0>"
      ]
     },
     "metadata": {},
     "output_type": "display_data"
    }
   ],
   "source": [
    "plt.hist(boston.target, bins = 50);\n",
    "\n",
    "plt.xlabel(\"Price in $1000s\");\n",
    "plt.ylabel(\"Number of Houses\");"
   ]
  },
  {
   "cell_type": "code",
   "execution_count": 17,
   "metadata": {
    "collapsed": false
   },
   "outputs": [
    {
     "data": {
      "text/plain": [
       "'\\nIt would be interesting to see a scatterplot of a single feature versus the target/label. \\nNext, that will be done by making a scatterplot of the median home value versus the number \\nof rooms in the home. \\n\\nThe dataset provides an attribute that allows for easily getting the number of rooms.  “RM” \\nis the label for the average number of rooms per dwelling. All of the attribute information \\nwas given in order, and the room attribute is the sixth down from the top, so it likely has \\nan index number of 5. Calling the column at the #5 index of the Boston dataset should return \\nthe information needed.\\n\\nBelow, to get started, a scatterplot method will be called in the same way as the above \\nhistogram was made - via the target method being called on the dataset. Then a request for \\nevery attribute in the 5th column will be given to serve as the x-axis (the average number \\nof rooms). Median home value (“Price in $1000s”) will be along the y-axis.\\n'"
      ]
     },
     "execution_count": 17,
     "metadata": {},
     "output_type": "execute_result"
    }
   ],
   "source": [
    "'''\n",
    "It would be interesting to see a scatterplot of a single feature versus the target/label. \n",
    "Next, that will be done by making a scatterplot of the median home value versus the number \n",
    "of rooms in the home. \n",
    "\n",
    "The dataset provides an attribute that allows for easily getting the number of rooms.  “RM” \n",
    "is the label for the average number of rooms per dwelling. All of the attribute information \n",
    "was given in order, and the room attribute is the sixth down from the top, so it likely has \n",
    "an index number of 5. Calling the column at the #5 index of the Boston dataset should return \n",
    "the information needed.\n",
    "\n",
    "Below, to get started, a scatterplot method will be called in the same way as the above \n",
    "histogram was made - via the target method being called on the dataset. Then a request for \n",
    "every attribute in the 5th column will be given to serve as the x-axis (the average number \n",
    "of rooms). Median home value (“Price in $1000s”) will be along the y-axis.\n",
    "'''"
   ]
  },
  {
   "cell_type": "code",
   "execution_count": 18,
   "metadata": {
    "collapsed": false
   },
   "outputs": [
    {
     "data": {
      "image/png": "[encoded data removed]",
      "text/plain": [
       "<matplotlib.figure.Figure at 0x119c20ba8>"
      ]
     },
     "metadata": {},
     "output_type": "display_data"
    }
   ],
   "source": [
    "plt.scatter(boston.data[:, 5], boston.target);\n",
    "\n",
    "plt.ylabel(\"Price in $1000s\");\n",
    "plt.xlabel(\"Number of Rooms\");"
   ]
  },
  {
   "cell_type": "code",
   "execution_count": 19,
   "metadata": {
    "collapsed": false
   },
   "outputs": [
    {
     "data": {
      "text/plain": [
       "'\\nThe scatterplot shows a trend - the price increases along with the number of rooms in a house. \\nThat makes sense considering it is typically the case that more rooms equals a bigger house \\nequals likely a greater real estate value. \\n\\nNext, the same scatterplot will be replicated by first using Pandas to transform the Boston \\ndataset into a DataFrame. And then, Seaborn will be used to perform an lmplot on that DataFrame \\nto try to reproduce the scatterplot, but with a linear-fit line included as well.\\n\\nTo begin that, an object will be made called bostonDataFrame. Then, the data will be reset as a \\nPandas DataFrame when the DataFrame method is called on just the data of the Boston dataset, \\nnot on the actual target/label itself. Calling the DataFrame method in this way is another thing \\nthat the toy dataset allows for as a way to keep things convenient.\\n'"
      ]
     },
     "execution_count": 19,
     "metadata": {},
     "output_type": "execute_result"
    }
   ],
   "source": [
    "'''\n",
    "The scatterplot shows a trend - the price increases along with the number of rooms in a house. \n",
    "That makes sense considering it is typically the case that more rooms equals a bigger house \n",
    "equals likely a greater real estate value. \n",
    "\n",
    "Next, the same scatterplot will be replicated by first using Pandas to transform the Boston \n",
    "dataset into a DataFrame. And then, Seaborn will be used to perform an lmplot on that DataFrame \n",
    "to try to reproduce the scatterplot, but with a linear-fit line included as well.\n",
    "\n",
    "To begin that, an object will be made called bostonDataFrame. Then, the data will be reset as a \n",
    "Pandas DataFrame when the DataFrame method is called on just the data of the Boston dataset, \n",
    "not on the actual target/label itself. Calling the DataFrame method in this way is another thing \n",
    "that the toy dataset allows for as a way to keep things convenient.\n",
    "'''"
   ]
  },
  {
   "cell_type": "code",
   "execution_count": 20,
   "metadata": {
    "collapsed": true
   },
   "outputs": [],
   "source": [
    "bostonDataFrame = DataFrame(boston.data)"
   ]
  },
  {
   "cell_type": "code",
   "execution_count": 21,
   "metadata": {
    "collapsed": false
   },
   "outputs": [
    {
     "data": {
      "text/plain": [
       "'\\nBelow, the columns in the DataFrame will be set equal to the feature names method (which is yet \\nanother thing that the toy dataset allows for).\\n'"
      ]
     },
     "execution_count": 21,
     "metadata": {},
     "output_type": "execute_result"
    }
   ],
   "source": [
    "'''\n",
    "Below, the columns in the DataFrame will be set equal to the feature names method (which is yet \n",
    "another thing that the toy dataset allows for).\n",
    "'''"
   ]
  },
  {
   "cell_type": "code",
   "execution_count": 22,
   "metadata": {
    "collapsed": true
   },
   "outputs": [],
   "source": [
    "bostonDataFrame.columns = boston.feature_names"
   ]
  },
  {
   "cell_type": "code",
   "execution_count": 23,
   "metadata": {
    "collapsed": false
   },
   "outputs": [
    {
     "data": {
      "text/html": [
       "<div>\n",
       "<table border=\"1\" class=\"dataframe\">\n",
       "  <thead>\n",
       "    <tr style=\"text-align: right;\">\n",
       "      <th></th>\n",
       "      <th>CRIM</th>\n",
       "      <th>ZN</th>\n",
       "      <th>INDUS</th>\n",
       "      <th>CHAS</th>\n",
       "      <th>NOX</th>\n",
       "      <th>RM</th>\n",
       "      <th>AGE</th>\n",
       "      <th>DIS</th>\n",
       "      <th>RAD</th>\n",
       "      <th>TAX</th>\n",
       "      <th>PTRATIO</th>\n",
       "      <th>B</th>\n",
       "      <th>LSTAT</th>\n",
       "    </tr>\n",
       "  </thead>\n",
       "  <tbody>\n",
       "    <tr>\n",
       "      <th>0</th>\n",
       "      <td>0.00632</td>\n",
       "      <td>18.0</td>\n",
       "      <td>2.31</td>\n",
       "      <td>0.0</td>\n",
       "      <td>0.538</td>\n",
       "      <td>6.575</td>\n",
       "      <td>65.2</td>\n",
       "      <td>4.0900</td>\n",
       "      <td>1.0</td>\n",
       "      <td>296.0</td>\n",
       "      <td>15.3</td>\n",
       "      <td>396.90</td>\n",
       "      <td>4.98</td>\n",
       "    </tr>\n",
       "    <tr>\n",
       "      <th>1</th>\n",
       "      <td>0.02731</td>\n",
       "      <td>0.0</td>\n",
       "      <td>7.07</td>\n",
       "      <td>0.0</td>\n",
       "      <td>0.469</td>\n",
       "      <td>6.421</td>\n",
       "      <td>78.9</td>\n",
       "      <td>4.9671</td>\n",
       "      <td>2.0</td>\n",
       "      <td>242.0</td>\n",
       "      <td>17.8</td>\n",
       "      <td>396.90</td>\n",
       "      <td>9.14</td>\n",
       "    </tr>\n",
       "    <tr>\n",
       "      <th>2</th>\n",
       "      <td>0.02729</td>\n",
       "      <td>0.0</td>\n",
       "      <td>7.07</td>\n",
       "      <td>0.0</td>\n",
       "      <td>0.469</td>\n",
       "      <td>7.185</td>\n",
       "      <td>61.1</td>\n",
       "      <td>4.9671</td>\n",
       "      <td>2.0</td>\n",
       "      <td>242.0</td>\n",
       "      <td>17.8</td>\n",
       "      <td>392.83</td>\n",
       "      <td>4.03</td>\n",
       "    </tr>\n",
       "    <tr>\n",
       "      <th>3</th>\n",
       "      <td>0.03237</td>\n",
       "      <td>0.0</td>\n",
       "      <td>2.18</td>\n",
       "      <td>0.0</td>\n",
       "      <td>0.458</td>\n",
       "      <td>6.998</td>\n",
       "      <td>45.8</td>\n",
       "      <td>6.0622</td>\n",
       "      <td>3.0</td>\n",
       "      <td>222.0</td>\n",
       "      <td>18.7</td>\n",
       "      <td>394.63</td>\n",
       "      <td>2.94</td>\n",
       "    </tr>\n",
       "    <tr>\n",
       "      <th>4</th>\n",
       "      <td>0.06905</td>\n",
       "      <td>0.0</td>\n",
       "      <td>2.18</td>\n",
       "      <td>0.0</td>\n",
       "      <td>0.458</td>\n",
       "      <td>7.147</td>\n",
       "      <td>54.2</td>\n",
       "      <td>6.0622</td>\n",
       "      <td>3.0</td>\n",
       "      <td>222.0</td>\n",
       "      <td>18.7</td>\n",
       "      <td>396.90</td>\n",
       "      <td>5.33</td>\n",
       "    </tr>\n",
       "  </tbody>\n",
       "</table>\n",
       "</div>"
      ],
      "text/plain": [
       "      CRIM    ZN  INDUS  CHAS    NOX     RM   AGE     DIS  RAD    TAX  \\\n",
       "0  0.00632  18.0   2.31   0.0  0.538  6.575  65.2  4.0900  1.0  296.0   \n",
       "1  0.02731   0.0   7.07   0.0  0.469  6.421  78.9  4.9671  2.0  242.0   \n",
       "2  0.02729   0.0   7.07   0.0  0.469  7.185  61.1  4.9671  2.0  242.0   \n",
       "3  0.03237   0.0   2.18   0.0  0.458  6.998  45.8  6.0622  3.0  222.0   \n",
       "4  0.06905   0.0   2.18   0.0  0.458  7.147  54.2  6.0622  3.0  222.0   \n",
       "\n",
       "   PTRATIO       B  LSTAT  \n",
       "0     15.3  396.90   4.98  \n",
       "1     17.8  396.90   9.14  \n",
       "2     17.8  392.83   4.03  \n",
       "3     18.7  394.63   2.94  \n",
       "4     18.7  396.90   5.33  "
      ]
     },
     "execution_count": 23,
     "metadata": {},
     "output_type": "execute_result"
    }
   ],
   "source": [
    "bostonDataFrame.head()"
   ]
  },
  {
   "cell_type": "code",
   "execution_count": 24,
   "metadata": {
    "collapsed": false
   },
   "outputs": [
    {
     "data": {
      "text/plain": [
       "'\\nNext, the target/label of the Boston dataset (the median home value, or price) will be added. \\nThat will be done by creating a new column in the DataFrame and calling it “Price” then \\nsetting that equal to the target/label of the DataFrame. Setting the target/label will be done \\nby passing the target method.\\n'"
      ]
     },
     "execution_count": 24,
     "metadata": {},
     "output_type": "execute_result"
    }
   ],
   "source": [
    "'''\n",
    "Next, the target/label of the Boston dataset (the median home value, or price) will be added. \n",
    "That will be done by creating a new column in the DataFrame and calling it “Price” then \n",
    "setting that equal to the target/label of the DataFrame. Setting the target/label will be done \n",
    "by passing the target method.\n",
    "'''"
   ]
  },
  {
   "cell_type": "code",
   "execution_count": 25,
   "metadata": {
    "collapsed": true
   },
   "outputs": [],
   "source": [
    "bostonDataFrame[\"Price\"] = boston.target"
   ]
  },
  {
   "cell_type": "code",
   "execution_count": 26,
   "metadata": {
    "collapsed": false
   },
   "outputs": [
    {
     "data": {
      "text/html": [
       "<div>\n",
       "<table border=\"1\" class=\"dataframe\">\n",
       "  <thead>\n",
       "    <tr style=\"text-align: right;\">\n",
       "      <th></th>\n",
       "      <th>CRIM</th>\n",
       "      <th>ZN</th>\n",
       "      <th>INDUS</th>\n",
       "      <th>CHAS</th>\n",
       "      <th>NOX</th>\n",
       "      <th>RM</th>\n",
       "      <th>AGE</th>\n",
       "      <th>DIS</th>\n",
       "      <th>RAD</th>\n",
       "      <th>TAX</th>\n",
       "      <th>PTRATIO</th>\n",
       "      <th>B</th>\n",
       "      <th>LSTAT</th>\n",
       "      <th>Price</th>\n",
       "    </tr>\n",
       "  </thead>\n",
       "  <tbody>\n",
       "    <tr>\n",
       "      <th>0</th>\n",
       "      <td>0.00632</td>\n",
       "      <td>18.0</td>\n",
       "      <td>2.31</td>\n",
       "      <td>0.0</td>\n",
       "      <td>0.538</td>\n",
       "      <td>6.575</td>\n",
       "      <td>65.2</td>\n",
       "      <td>4.0900</td>\n",
       "      <td>1.0</td>\n",
       "      <td>296.0</td>\n",
       "      <td>15.3</td>\n",
       "      <td>396.90</td>\n",
       "      <td>4.98</td>\n",
       "      <td>24.0</td>\n",
       "    </tr>\n",
       "    <tr>\n",
       "      <th>1</th>\n",
       "      <td>0.02731</td>\n",
       "      <td>0.0</td>\n",
       "      <td>7.07</td>\n",
       "      <td>0.0</td>\n",
       "      <td>0.469</td>\n",
       "      <td>6.421</td>\n",
       "      <td>78.9</td>\n",
       "      <td>4.9671</td>\n",
       "      <td>2.0</td>\n",
       "      <td>242.0</td>\n",
       "      <td>17.8</td>\n",
       "      <td>396.90</td>\n",
       "      <td>9.14</td>\n",
       "      <td>21.6</td>\n",
       "    </tr>\n",
       "    <tr>\n",
       "      <th>2</th>\n",
       "      <td>0.02729</td>\n",
       "      <td>0.0</td>\n",
       "      <td>7.07</td>\n",
       "      <td>0.0</td>\n",
       "      <td>0.469</td>\n",
       "      <td>7.185</td>\n",
       "      <td>61.1</td>\n",
       "      <td>4.9671</td>\n",
       "      <td>2.0</td>\n",
       "      <td>242.0</td>\n",
       "      <td>17.8</td>\n",
       "      <td>392.83</td>\n",
       "      <td>4.03</td>\n",
       "      <td>34.7</td>\n",
       "    </tr>\n",
       "    <tr>\n",
       "      <th>3</th>\n",
       "      <td>0.03237</td>\n",
       "      <td>0.0</td>\n",
       "      <td>2.18</td>\n",
       "      <td>0.0</td>\n",
       "      <td>0.458</td>\n",
       "      <td>6.998</td>\n",
       "      <td>45.8</td>\n",
       "      <td>6.0622</td>\n",
       "      <td>3.0</td>\n",
       "      <td>222.0</td>\n",
       "      <td>18.7</td>\n",
       "      <td>394.63</td>\n",
       "      <td>2.94</td>\n",
       "      <td>33.4</td>\n",
       "    </tr>\n",
       "    <tr>\n",
       "      <th>4</th>\n",
       "      <td>0.06905</td>\n",
       "      <td>0.0</td>\n",
       "      <td>2.18</td>\n",
       "      <td>0.0</td>\n",
       "      <td>0.458</td>\n",
       "      <td>7.147</td>\n",
       "      <td>54.2</td>\n",
       "      <td>6.0622</td>\n",
       "      <td>3.0</td>\n",
       "      <td>222.0</td>\n",
       "      <td>18.7</td>\n",
       "      <td>396.90</td>\n",
       "      <td>5.33</td>\n",
       "      <td>36.2</td>\n",
       "    </tr>\n",
       "  </tbody>\n",
       "</table>\n",
       "</div>"
      ],
      "text/plain": [
       "      CRIM    ZN  INDUS  CHAS    NOX     RM   AGE     DIS  RAD    TAX  \\\n",
       "0  0.00632  18.0   2.31   0.0  0.538  6.575  65.2  4.0900  1.0  296.0   \n",
       "1  0.02731   0.0   7.07   0.0  0.469  6.421  78.9  4.9671  2.0  242.0   \n",
       "2  0.02729   0.0   7.07   0.0  0.469  7.185  61.1  4.9671  2.0  242.0   \n",
       "3  0.03237   0.0   2.18   0.0  0.458  6.998  45.8  6.0622  3.0  222.0   \n",
       "4  0.06905   0.0   2.18   0.0  0.458  7.147  54.2  6.0622  3.0  222.0   \n",
       "\n",
       "   PTRATIO       B  LSTAT  Price  \n",
       "0     15.3  396.90   4.98   24.0  \n",
       "1     17.8  396.90   9.14   21.6  \n",
       "2     17.8  392.83   4.03   34.7  \n",
       "3     18.7  394.63   2.94   33.4  \n",
       "4     18.7  396.90   5.33   36.2  "
      ]
     },
     "execution_count": 26,
     "metadata": {},
     "output_type": "execute_result"
    }
   ],
   "source": [
    "bostonDataFrame.head()  # ... checking for the new \"Price\" column"
   ]
  },
  {
   "cell_type": "code",
   "execution_count": 27,
   "metadata": {
    "collapsed": false
   },
   "outputs": [
    {
     "data": {
      "text/plain": [
       "'\\nSeaborn’s built-in functionality means that it can be used to do a linear fit or linear \\nregression automatically. This means not needing to manually calculate out the best fit \\nline/least squares line.\\n\\nBelow, the lmplot function will be used to call a linear plot that will create a linear \\nregression over the scatterplot. It will plot the room feature versus the median home \\nvalue, and the data will be set as that DataFrame.\\n'"
      ]
     },
     "execution_count": 27,
     "metadata": {},
     "output_type": "execute_result"
    }
   ],
   "source": [
    "'''\n",
    "Seaborn’s built-in functionality means that it can be used to do a linear fit or linear \n",
    "regression automatically. This means not needing to manually calculate out the best fit \n",
    "line/least squares line.\n",
    "\n",
    "Below, the lmplot function will be used to call a linear plot that will create a linear \n",
    "regression over the scatterplot. It will plot the room feature versus the median home \n",
    "value, and the data will be set as that DataFrame.\n",
    "'''"
   ]
  },
  {
   "cell_type": "code",
   "execution_count": 28,
   "metadata": {
    "collapsed": false
   },
   "outputs": [
    {
     "data": {
      "text/plain": [
       "<seaborn.axisgrid.FacetGrid at 0x11c4eb908>"
      ]
     },
     "execution_count": 28,
     "metadata": {},
     "output_type": "execute_result"
    },
    {
     "data": {
      "image/png": "[encoded data removed]",
      "text/plain": [
       "<matplotlib.figure.Figure at 0x11c46e400>"
      ]
     },
     "metadata": {},
     "output_type": "display_data"
    }
   ],
   "source": [
    "sns.lmplot(\"RM\", \"Price\", data = bostonDataFrame)"
   ]
  },
  {
   "cell_type": "code",
   "execution_count": 48,
   "metadata": {
    "collapsed": false
   },
   "outputs": [
    {
     "data": {
      "text/plain": [
       "'\\nIt is possible to manually recreate the above Seaborn plot - it is a simple linear regression. \\nSeaborn did that automatically, but it is also possible to use matrix tricks and Numpy’s least \\nsquares method to achieve the same result. \\n\\nSo next, Numpy will be used to create a univariate linear regression whereby one data type (number \\nof rooms, in this case) will be fit it to another (the average home value data - which is serving \\nas the target data/label). To start, the x and y arrays will be set for Numpy to take in. \\n\\nAn important note for the x array is that Numpy expects to take in a two-dimensional array. The \\nfirst dimension is made up of different example values, and the second dimension is the attribute \\nnumber. In this case, the value will be the mean number of rooms per house. That value is a single \\nattribute, so the second dimension of the array will be just 1. All of this means that a (506,1) \\nshape array will need to be created (506 because the description of the Boston data set had 506 \\nattributes for each feature).  \\n\\nThere are a few ways to do this, but an easy way to do this is by using Numpy\\'s built-in vertical \\nstack tool - the vstack method.\\n\\nTo begin the algorithmic stuff, X and Y will be set. Said differently, the X and Y being given to \\nNumpy will make it possible to use that information to create a single-variable linear regression. \\nX will be set to the median of the room value by calling the RM column within the “bostonDataFrame” \\nDataFrame). That will simply create a series of all of that column’s data points (or a \"(506L,)\" ).\\n\\n'"
      ]
     },
     "execution_count": 48,
     "metadata": {},
     "output_type": "execute_result"
    }
   ],
   "source": [
    "'''\n",
    "It is possible to manually recreate the above Seaborn plot - it is a simple linear regression. \n",
    "Seaborn did that automatically, but it is also possible to use matrix tricks and Numpy’s least \n",
    "squares method to achieve the same result. \n",
    "\n",
    "So next, Numpy will be used to create a univariate linear regression whereby one data type (number \n",
    "of rooms, in this case) will be fit it to another (the average home value data - which is serving \n",
    "as the target data/label). To start, the x and y arrays will be set for Numpy to take in. \n",
    "\n",
    "An important note for the x array is that Numpy expects to take in a two-dimensional array. The \n",
    "first dimension is made up of different example values, and the second dimension is the attribute \n",
    "number. In this case, the value will be the mean number of rooms per house. That value is a single \n",
    "attribute, so the second dimension of the array will be just 1. All of this means that a (506,1) \n",
    "shape array will need to be created (506 because the description of the Boston data set had 506 \n",
    "attributes for each feature).  \n",
    "\n",
    "There are a few ways to do this, but an easy way to do this is by using Numpy's built-in vertical \n",
    "stack tool - the vstack method.\n",
    "\n",
    "To begin the algorithmic stuff, X and Y will be set. Said differently, the X and Y being given to \n",
    "Numpy will make it possible to use that information to create a single-variable linear regression. \n",
    "X will be set to the median of the room value by calling the RM column within the “bostonDataFrame” \n",
    "DataFrame). That will simply create a series of all of that column’s data points (or a \"(506L,)\" ).\n",
    "\n",
    "'''"
   ]
  },
  {
   "cell_type": "code",
   "execution_count": 30,
   "metadata": {
    "collapsed": false
   },
   "outputs": [],
   "source": [
    "X = bostonDataFrame.RM"
   ]
  },
  {
   "cell_type": "code",
   "execution_count": 32,
   "metadata": {
    "collapsed": false
   },
   "outputs": [
    {
     "data": {
      "text/plain": [
       "'\\nNumpy’s linear algebra library needs to have the information in a manner where it knows all of the \\nfeatures and then how many attributes they actually are. In order to do that below, X will be set \\nequal to numpy.vstack to use the vstack method. Then, that vstack method will be called on the RM \\ncolumn. Doing that will convert the information into the (506L, 1L) form.\\n'"
      ]
     },
     "execution_count": 32,
     "metadata": {},
     "output_type": "execute_result"
    }
   ],
   "source": [
    "'''\n",
    "Numpy’s linear algebra library needs to have the information in a manner where it knows all of the \n",
    "features and then how many attributes they actually are. In order to do that below, X will be set \n",
    "equal to numpy.vstack to use the vstack method. Then, that vstack method will be called on the RM \n",
    "column. Doing that will convert the information into the (506L, 1L) form.\n",
    "'''"
   ]
  },
  {
   "cell_type": "code",
   "execution_count": null,
   "metadata": {
    "collapsed": true
   },
   "outputs": [],
   "source": [
    "X = np.vstack(bostonDataFrame.RM)"
   ]
  },
  {
   "cell_type": "code",
   "execution_count": 33,
   "metadata": {
    "collapsed": false
   },
   "outputs": [
    {
     "data": {
      "text/plain": [
       "'\\nThe Y will be set to the label/target - median home value. That set will be made by calling the \\nprice column that was created earlier. \\n'"
      ]
     },
     "execution_count": 33,
     "metadata": {},
     "output_type": "execute_result"
    }
   ],
   "source": [
    "'''\n",
    "The Y will be set to the label/target - median home value. That set will be made by calling the \n",
    "price column that was created earlier. \n",
    "'''"
   ]
  },
  {
   "cell_type": "code",
   "execution_count": 34,
   "metadata": {
    "collapsed": true
   },
   "outputs": [],
   "source": [
    "Y = bostonDataFrame.Price"
   ]
  },
  {
   "cell_type": "code",
   "execution_count": 47,
   "metadata": {
    "collapsed": false
   },
   "outputs": [
    {
     "data": {
      "text/plain": [
       "'\\n“y = mx + b” is the equation for a line. But that equation will need to be rewritten using \\nmatrices. The equation then ultimately becomes [A = [x  1]](http://docs.scipy.org/doc/numpy-1.3.x/reference/generated/numpy.linalg.lstsq.html).\\n\\nTo use Numpy to start creating that A matrix, a matrix in the form of [X  1] will be needed. \\nEvery value in the original X that was made above will need to be called. List comprehension \\nwill be used (instead of a for loop) to make the needed 1 by 2 array ( “[X  1]“).\\n\\nBelow, list comprehension will build a list whereby “for every value in X (so going through \\nthe x array), set the array up as the ‘value, 1’ “, so that it matches the A = [X  1] matrix. \\nThen an array will be made of all of those values. Specifically, \"numpy.array\" will be used \\nto transform the list that was created by list comprehension into an array. Doing this will \\nattach the 1 in the [X  1] part of the equation, and that 1 is needed because Numpy needs to \\nknow how many attributes it will be working with. And, in this case, it’s just a simple, \\nsingle-variable linear regression, so there is just 1 attribute (the average number of rooms). \\n'"
      ]
     },
     "execution_count": 47,
     "metadata": {},
     "output_type": "execute_result"
    }
   ],
   "source": [
    "'''\n",
    "“y = mx + b” is the equation for a line. But that equation will need to be rewritten using \n",
    "matrices. The equation then ultimately becomes [A = [x  1]](http://docs.scipy.org/doc/numpy-1.3.x/reference/generated/numpy.linalg.lstsq.html).\n",
    "\n",
    "To use Numpy to start creating that A matrix, a matrix in the form of [X  1] will be needed. \n",
    "Every value in the original X that was made above will need to be called. List comprehension \n",
    "will be used (instead of a for loop) to make the needed 1 by 2 array ( “[X  1]“).\n",
    "\n",
    "Below, list comprehension will build a list whereby “for every value in X (so going through \n",
    "the x array), set the array up as the ‘value, 1’ “, so that it matches the A = [X  1] matrix. \n",
    "Then an array will be made of all of those values. Specifically, \"numpy.array\" will be used \n",
    "to transform the list that was created by list comprehension into an array. Doing this will \n",
    "attach the 1 in the [X  1] part of the equation, and that 1 is needed because Numpy needs to \n",
    "know how many attributes it will be working with. And, in this case, it’s just a simple, \n",
    "single-variable linear regression, so there is just 1 attribute (the average number of rooms). \n",
    "'''"
   ]
  },
  {
   "cell_type": "code",
   "execution_count": 37,
   "metadata": {
    "collapsed": true
   },
   "outputs": [],
   "source": [
    "X = np.array( [ [value, 1] for value in X ] )"
   ]
  },
  {
   "cell_type": "code",
   "execution_count": 38,
   "metadata": {
    "collapsed": false
   },
   "outputs": [
    {
     "data": {
      "text/plain": [
       "'\\nHaving set up the above has provided all that is needed in order to get best fit values. Below, \\ntwo new objects will be set up (m and b) for the best fit line. Then, the least squares method \\n(lstsq) from the linear algebra library (linalg) will be used to call the X and Y values to be \\napplied to the objects. Only the first indexed value is needed (the value at “[0]”), so that \\nwill be stated as well so that everything fits the format that the linear algebra least squares \\nmethod spits it out.\\n'"
      ]
     },
     "execution_count": 38,
     "metadata": {},
     "output_type": "execute_result"
    }
   ],
   "source": [
    "'''\n",
    "Having set up the above has provided all that is needed in order to get best fit values. Below, \n",
    "two new objects will be set up (m and b) for the best fit line. Then, the least squares method \n",
    "(lstsq) from the linear algebra library (linalg) will be used to call the X and Y values to be \n",
    "applied to the objects. Only the first indexed value is needed (the value at “[0]”), so that \n",
    "will be stated as well so that everything fits the format that the linear algebra least squares \n",
    "method spits it out.\n",
    "'''"
   ]
  },
  {
   "cell_type": "code",
   "execution_count": 39,
   "metadata": {
    "collapsed": true
   },
   "outputs": [],
   "source": [
    "m, b = np.linalg.lstsq(X, Y)[0]"
   ]
  },
  {
   "cell_type": "code",
   "execution_count": 40,
   "metadata": {
    "collapsed": false
   },
   "outputs": [
    {
     "data": {
      "text/plain": [
       "'\\nBelow, the original format of the Boston information will be used to plot everything together. \\nThe matrix transformations were only done to make it possible to utilize the Numpy least \\nsquares method. The code below will create a scatterplot that will make a marker for the \\naverage number of rooms and the associated median home value.\\n'"
      ]
     },
     "execution_count": 40,
     "metadata": {},
     "output_type": "execute_result"
    }
   ],
   "source": [
    "'''\n",
    "Below, the original format of the Boston information will be used to plot everything together. \n",
    "The matrix transformations were only done to make it possible to utilize the Numpy least \n",
    "squares method. The code below will create a scatterplot that will make a marker for the \n",
    "average number of rooms and the associated median home value.\n",
    "'''"
   ]
  },
  {
   "cell_type": "code",
   "execution_count": 41,
   "metadata": {
    "collapsed": false
   },
   "outputs": [
    {
     "data": {
      "text/plain": [
       "[<matplotlib.lines.Line2D at 0x11cb76908>]"
      ]
     },
     "execution_count": 41,
     "metadata": {},
     "output_type": "execute_result"
    },
    {
     "data": {
      "image/png": "[encoded data removed]",
      "text/plain": [
       "<matplotlib.figure.Figure at 0x11c5cc7b8>"
      ]
     },
     "metadata": {},
     "output_type": "display_data"
    }
   ],
   "source": [
    "plt.plot(bostonDataFrame.RM, bostonDataFrame.Price, \"o\")"
   ]
  },
  {
   "cell_type": "code",
   "execution_count": 46,
   "metadata": {
    "collapsed": false
   },
   "outputs": [
    {
     "data": {
      "text/plain": [
       "'\\nBelow, a yellow best fit line will be plotted. For differentiation, a lower case x will be \\nset equal to the room column. Then a plot will be made that uses the x values (the rooms \\ncolumn) and the equation of a line whereby the m and b values used are the ones that were \\nrecently obtained from the Numpy least squares method in the linear algebra library.\\n'"
      ]
     },
     "execution_count": 46,
     "metadata": {},
     "output_type": "execute_result"
    }
   ],
   "source": [
    "'''\n",
    "Below, a yellow best fit line will be plotted. For differentiation, a lower case x will be \n",
    "set equal to the room column. Then a plot will be made that uses the x values (the rooms \n",
    "column) and the equation of a line whereby the m and b values used are the ones that were \n",
    "recently obtained from the Numpy least squares method in the linear algebra library.\n",
    "'''"
   ]
  },
  {
   "cell_type": "code",
   "execution_count": 45,
   "metadata": {
    "collapsed": false
   },
   "outputs": [
    {
     "data": {
      "text/plain": [
       "[<matplotlib.lines.Line2D at 0x11d007c18>]"
      ]
     },
     "execution_count": 45,
     "metadata": {},
     "output_type": "execute_result"
    },
    {
     "data": {
      "image/png": "[encoded data removed]",
      "text/plain": [
       "<matplotlib.figure.Figure at 0x11cf87828>"
      ]
     },
     "metadata": {},
     "output_type": "display_data"
    }
   ],
   "source": [
    "x = bostonDataFrame.RM\n",
    "plt.plot(x, m*x + b, \"y\", label = \"Best Fit Line\")"
   ]
  },
  {
   "cell_type": "code",
   "execution_count": 49,
   "metadata": {
    "collapsed": false
   },
   "outputs": [
    {
     "data": {
      "text/plain": [
       "'\\nBelow, the two plots will be combined to replicate the Seaborn plot.\\n'"
      ]
     },
     "execution_count": 49,
     "metadata": {},
     "output_type": "execute_result"
    }
   ],
   "source": [
    "'''\n",
    "Below, the two plots will be combined to replicate the Seaborn plot.\n",
    "'''"
   ]
  },
  {
   "cell_type": "code",
   "execution_count": 50,
   "metadata": {
    "collapsed": false
   },
   "outputs": [
    {
     "data": {
      "text/plain": [
       "[<matplotlib.lines.Line2D at 0x11d112160>]"
      ]
     },
     "execution_count": 50,
     "metadata": {},
     "output_type": "execute_result"
    },
    {
     "data": {
      "image/png": "[encoded data removed]",
      "text/plain": [
       "<matplotlib.figure.Figure at 0x11cfd86d8>"
      ]
     },
     "metadata": {},
     "output_type": "display_data"
    }
   ],
   "source": [
    "plt.plot(bostonDataFrame.RM, bostonDataFrame.Price, \"o\");\n",
    "\n",
    "x = bostonDataFrame.RM\n",
    "plt.plot(x, m*x + b, \"y\", label = \"Best Fit Line\")"
   ]
  },
  {
   "cell_type": "code",
   "execution_count": 1,
   "metadata": {
    "collapsed": false
   },
   "outputs": [
    {
     "data": {
      "text/plain": [
       "'\\nGoing to try to finish this using lots of markdown instead. Will keep this copy for in case something bad happens.\\n'"
      ]
     },
     "execution_count": 1,
     "metadata": {},
     "output_type": "execute_result"
    }
   ],
   "source": [
    "'''\n",
    "Going to try to finish this using lots of markdown instead. Will keep this copy for in case something bad happens.\n",
    "'''"
   ]
  },
  {
   "cell_type": "code",
   "execution_count": null,
   "metadata": {
    "collapsed": true
   },
   "outputs": [],
   "source": []
  }
 ],
 "metadata": {
  "kernelspec": {
   "display_name": "Python 3",
   "language": "python",
   "name": "python3"
  },
  "language_info": {
   "codemirror_mode": {
    "name": "ipython",
    "version": 3
   },
   "file_extension": ".py",
   "mimetype": "text/x-python",
   "name": "python",
   "nbconvert_exporter": "python",
   "pygments_lexer": "ipython3",
   "version": "3.5.1"
  }
 },
 "nbformat": 4,
 "nbformat_minor": 0
}
