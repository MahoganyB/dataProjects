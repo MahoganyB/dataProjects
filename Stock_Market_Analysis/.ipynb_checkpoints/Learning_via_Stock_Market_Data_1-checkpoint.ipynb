{
 "cells": [
  {
   "cell_type": "code",
   "execution_count": 25,
   "metadata": {
    "collapsed": true
   },
   "outputs": [],
   "source": [
    "import numpy as np"
   ]
  },
  {
   "cell_type": "code",
   "execution_count": 26,
   "metadata": {
    "collapsed": true
   },
   "outputs": [],
   "source": [
    "import pandas as pd"
   ]
  },
  {
   "cell_type": "code",
   "execution_count": 27,
   "metadata": {
    "collapsed": true
   },
   "outputs": [],
   "source": [
    "from pandas import Series, DataFrame"
   ]
  },
  {
   "cell_type": "code",
   "execution_count": 28,
   "metadata": {
    "collapsed": true
   },
   "outputs": [],
   "source": [
    "import matplotlib.pyplot as plt"
   ]
  },
  {
   "cell_type": "code",
   "execution_count": 29,
   "metadata": {
    "collapsed": true
   },
   "outputs": [],
   "source": [
    "import seaborn as sns"
   ]
  },
  {
   "cell_type": "code",
   "execution_count": 30,
   "metadata": {
    "collapsed": true
   },
   "outputs": [],
   "source": [
    "sns.set_style(\"whitegrid\")"
   ]
  },
  {
   "cell_type": "code",
   "execution_count": 31,
   "metadata": {
    "collapsed": true
   },
   "outputs": [],
   "source": [
    "%matplotlib inline"
   ]
  },
  {
   "cell_type": "code",
   "execution_count": 32,
   "metadata": {
    "collapsed": false
   },
   "outputs": [],
   "source": [
    "import pandas_datareader.data as web"
   ]
  },
  {
   "cell_type": "code",
   "execution_count": 43,
   "metadata": {
    "collapsed": true
   },
   "outputs": [],
   "source": [
    "from pandas_datareader.data import DataReader"
   ]
  },
  {
   "cell_type": "code",
   "execution_count": 33,
   "metadata": {
    "collapsed": true
   },
   "outputs": [],
   "source": [
    "import datetime"
   ]
  },
  {
   "cell_type": "code",
   "execution_count": 34,
   "metadata": {
    "collapsed": true
   },
   "outputs": [],
   "source": [
    "from datetime import datetime"
   ]
  },
  {
   "cell_type": "code",
   "execution_count": 35,
   "metadata": {
    "collapsed": false
   },
   "outputs": [
    {
     "data": {
      "text/plain": [
       "'\\n\\nThe learning will happen using a work done on a portfolio of technology stocks. Pandas will be used to get \\nstock information (from internet sources such as Yahoo! Finance, Google Finance, et cetera - this data will \\nbe read using the pandas_datareader imported above), visualize different aspects of stock information, and \\nuse previous performance history to look at different ways to evaluate the risk of a stock. Also, Monte Carlo \\ntechniques will be used to predict stock prices.\\n\\n\\nQuestions to be answered are:\\n\\n    1) What were the daily changes in price of the technology stocks being evaluated?\\n\\n    2) What can Pandas do to help show what the average daily return of each stock was?\\n\\n    3) What were the moving averages of some of the stocks?\\n\\n    4) What, if any, correlations exist between the closing prices of various stocks? \\n\\n    5) What, if any, correlations exist between the daily returns of various stocks? \\n\\n    6) What insights can doing some basic risk analysis uncover about the potential amount of value \\n    that is put at risk by investing in a particular stock?\\n\\n    7) What predictions about future stock behavior can be predicted by looking at previous stock behavior?\\n    \\n'"
      ]
     },
     "execution_count": 35,
     "metadata": {},
     "output_type": "execute_result"
    }
   ],
   "source": [
    "'''\n",
    "\n",
    "The learning will happen using a work done on a portfolio of technology stocks. Pandas will be used to get \n",
    "stock information (from internet sources such as Yahoo! Finance, Google Finance, et cetera - this data will \n",
    "be read using the pandas_datareader imported above), visualize different aspects of stock information, and \n",
    "use previous performance history to look at different ways to evaluate the risk of a stock. Also, Monte Carlo \n",
    "techniques will be used to predict stock prices.\n",
    "\n",
    "\n",
    "Questions to be answered are:\n",
    "\n",
    "    1) What were the daily changes in price of the technology stocks being evaluated?\n",
    "\n",
    "    2) What can Pandas do to help show what the average daily return of each stock was?\n",
    "\n",
    "    3) What were the moving averages of some of the stocks?\n",
    "\n",
    "    4) What, if any, correlations exist between the closing prices of various stocks? \n",
    "\n",
    "    5) What, if any, correlations exist between the daily returns of various stocks? \n",
    "\n",
    "    6) What insights can doing some basic risk analysis uncover about the potential amount of value \n",
    "    that is put at risk by investing in a particular stock?\n",
    "\n",
    "    7) What predictions about future stock behavior can be predicted by looking at previous stock behavior?\n",
    "    \n",
    "'''"
   ]
  },
  {
   "cell_type": "code",
   "execution_count": 36,
   "metadata": {
    "collapsed": true
   },
   "outputs": [],
   "source": [
    "techList = [\"AAPL\", \"GOOG\", \"MSFT\", \"AMZN\"]"
   ]
  },
  {
   "cell_type": "code",
   "execution_count": 37,
   "metadata": {
    "collapsed": false
   },
   "outputs": [
    {
     "data": {
      "text/plain": [
       "'\\nThe above is the creation of a list with the stock tickers for Apple, Google, Microsoft, and Amazon \\npassed through it.\\n'"
      ]
     },
     "execution_count": 37,
     "metadata": {},
     "output_type": "execute_result"
    }
   ],
   "source": [
    "'''\n",
    "The above is the creation of a list with the stock tickers for Apple, Google, Microsoft, and Amazon \n",
    "passed through it.\n",
    "'''"
   ]
  },
  {
   "cell_type": "code",
   "execution_count": 38,
   "metadata": {
    "collapsed": true
   },
   "outputs": [],
   "source": [
    "start = datetime(end.year - 1, end.month,end.day); # Setting up a start and end time for the data grab.\n",
    "end = datetime.now(); # It is set to start a year ago from today's date end today. "
   ]
  },
  {
   "cell_type": "code",
   "execution_count": 46,
   "metadata": {
    "collapsed": false
   },
   "outputs": [],
   "source": [
    "for stock in techList:   \n",
    "    globals()[stock] = DataReader(stock, \"yahoo\", start, end)"
   ]
  },
  {
   "cell_type": "code",
   "execution_count": 49,
   "metadata": {
    "collapsed": false
   },
   "outputs": [
    {
     "data": {
      "text/plain": [
       "'\\nAbove, a for loop is created to grab finance data then set that data as a DataFrame. Then, globals is \\nused to take each stock ticker from the string in techList and turn that collective data into a global \\nvariable. The specifics of doing that calls DataReader for every stock in the techList. DataReader takes \\n4 arguments (one for the stock ticker, one for the finance website to be used for grabbing the data, one \\nfor the start date, and one for the end date). Below I will check to see if, when I call a stock ticker \\nfor one of the stocks in the techList list, it returns a DataFrame.\\n'"
      ]
     },
     "execution_count": 49,
     "metadata": {},
     "output_type": "execute_result"
    }
   ],
   "source": [
    "'''\n",
    "Above, a for loop is created to grab finance data then set that data as a DataFrame. Then, globals is \n",
    "used to take each stock ticker from the string in techList and turn that collective data into a global \n",
    "variable. The specifics of doing that calls DataReader for every stock in the techList. DataReader takes \n",
    "4 arguments (one for the stock ticker, one for the finance website to be used for grabbing the data, one \n",
    "for the start date, and one for the end date). Below I will check to see if, when I call a stock ticker \n",
    "for one of the stocks in the techList list, it returns a DataFrame.\n",
    "'''"
   ]
  },
  {
   "cell_type": "code",
   "execution_count": 53,
   "metadata": {
    "collapsed": false
   },
   "outputs": [
    {
     "data": {
      "text/html": [
       "<div>\n",
       "<table border=\"1\" class=\"dataframe\">\n",
       "  <thead>\n",
       "    <tr style=\"text-align: right;\">\n",
       "      <th></th>\n",
       "      <th>Open</th>\n",
       "      <th>High</th>\n",
       "      <th>Low</th>\n",
       "      <th>Close</th>\n",
       "      <th>Volume</th>\n",
       "      <th>Adj Close</th>\n",
       "    </tr>\n",
       "    <tr>\n",
       "      <th>Date</th>\n",
       "      <th></th>\n",
       "      <th></th>\n",
       "      <th></th>\n",
       "      <th></th>\n",
       "      <th></th>\n",
       "      <th></th>\n",
       "    </tr>\n",
       "  </thead>\n",
       "  <tbody>\n",
       "    <tr>\n",
       "      <th>2015-04-21</th>\n",
       "      <td>43.000000</td>\n",
       "      <td>43.150002</td>\n",
       "      <td>42.529999</td>\n",
       "      <td>42.639999</td>\n",
       "      <td>26013800</td>\n",
       "      <td>41.507336</td>\n",
       "    </tr>\n",
       "    <tr>\n",
       "      <th>2015-04-22</th>\n",
       "      <td>42.669998</td>\n",
       "      <td>43.130001</td>\n",
       "      <td>42.549999</td>\n",
       "      <td>42.990002</td>\n",
       "      <td>25064300</td>\n",
       "      <td>41.848041</td>\n",
       "    </tr>\n",
       "    <tr>\n",
       "      <th>2015-04-23</th>\n",
       "      <td>42.889999</td>\n",
       "      <td>43.610001</td>\n",
       "      <td>42.799999</td>\n",
       "      <td>43.340000</td>\n",
       "      <td>46309500</td>\n",
       "      <td>42.188742</td>\n",
       "    </tr>\n",
       "    <tr>\n",
       "      <th>2015-04-24</th>\n",
       "      <td>45.660000</td>\n",
       "      <td>48.139999</td>\n",
       "      <td>45.650002</td>\n",
       "      <td>47.869999</td>\n",
       "      <td>130933700</td>\n",
       "      <td>46.598409</td>\n",
       "    </tr>\n",
       "    <tr>\n",
       "      <th>2015-04-27</th>\n",
       "      <td>47.230000</td>\n",
       "      <td>48.130001</td>\n",
       "      <td>47.220001</td>\n",
       "      <td>48.029999</td>\n",
       "      <td>59248200</td>\n",
       "      <td>46.754158</td>\n",
       "    </tr>\n",
       "    <tr>\n",
       "      <th>2015-04-28</th>\n",
       "      <td>47.779999</td>\n",
       "      <td>49.209999</td>\n",
       "      <td>47.700001</td>\n",
       "      <td>49.160000</td>\n",
       "      <td>60730800</td>\n",
       "      <td>47.854143</td>\n",
       "    </tr>\n",
       "    <tr>\n",
       "      <th>2015-04-29</th>\n",
       "      <td>48.720001</td>\n",
       "      <td>49.310001</td>\n",
       "      <td>48.500000</td>\n",
       "      <td>49.060001</td>\n",
       "      <td>47804600</td>\n",
       "      <td>47.756801</td>\n",
       "    </tr>\n",
       "    <tr>\n",
       "      <th>2015-04-30</th>\n",
       "      <td>48.700001</td>\n",
       "      <td>49.540001</td>\n",
       "      <td>48.599998</td>\n",
       "      <td>48.639999</td>\n",
       "      <td>64725500</td>\n",
       "      <td>47.347955</td>\n",
       "    </tr>\n",
       "    <tr>\n",
       "      <th>2015-05-01</th>\n",
       "      <td>48.580002</td>\n",
       "      <td>48.880001</td>\n",
       "      <td>48.400002</td>\n",
       "      <td>48.660000</td>\n",
       "      <td>38937300</td>\n",
       "      <td>47.367425</td>\n",
       "    </tr>\n",
       "    <tr>\n",
       "      <th>2015-05-04</th>\n",
       "      <td>48.369999</td>\n",
       "      <td>48.869999</td>\n",
       "      <td>48.180000</td>\n",
       "      <td>48.240002</td>\n",
       "      <td>34039500</td>\n",
       "      <td>46.958583</td>\n",
       "    </tr>\n",
       "    <tr>\n",
       "      <th>2015-05-05</th>\n",
       "      <td>47.820000</td>\n",
       "      <td>48.160000</td>\n",
       "      <td>47.310001</td>\n",
       "      <td>47.599998</td>\n",
       "      <td>50369200</td>\n",
       "      <td>46.335580</td>\n",
       "    </tr>\n",
       "    <tr>\n",
       "      <th>2015-05-06</th>\n",
       "      <td>47.570000</td>\n",
       "      <td>47.770000</td>\n",
       "      <td>46.020000</td>\n",
       "      <td>46.279999</td>\n",
       "      <td>52433000</td>\n",
       "      <td>45.050644</td>\n",
       "    </tr>\n",
       "    <tr>\n",
       "      <th>2015-05-07</th>\n",
       "      <td>46.270000</td>\n",
       "      <td>47.090000</td>\n",
       "      <td>46.160000</td>\n",
       "      <td>46.700001</td>\n",
       "      <td>32971700</td>\n",
       "      <td>45.459490</td>\n",
       "    </tr>\n",
       "    <tr>\n",
       "      <th>2015-05-08</th>\n",
       "      <td>47.549999</td>\n",
       "      <td>47.980000</td>\n",
       "      <td>47.520000</td>\n",
       "      <td>47.750000</td>\n",
       "      <td>35364900</td>\n",
       "      <td>46.481597</td>\n",
       "    </tr>\n",
       "    <tr>\n",
       "      <th>2015-05-11</th>\n",
       "      <td>47.549999</td>\n",
       "      <td>47.910000</td>\n",
       "      <td>47.369999</td>\n",
       "      <td>47.369999</td>\n",
       "      <td>24609400</td>\n",
       "      <td>46.111690</td>\n",
       "    </tr>\n",
       "    <tr>\n",
       "      <th>2015-05-12</th>\n",
       "      <td>46.849998</td>\n",
       "      <td>47.680000</td>\n",
       "      <td>46.419998</td>\n",
       "      <td>47.349998</td>\n",
       "      <td>29928300</td>\n",
       "      <td>46.092221</td>\n",
       "    </tr>\n",
       "    <tr>\n",
       "      <th>2015-05-13</th>\n",
       "      <td>48.189999</td>\n",
       "      <td>48.320000</td>\n",
       "      <td>47.570000</td>\n",
       "      <td>47.630001</td>\n",
       "      <td>34184600</td>\n",
       "      <td>46.364786</td>\n",
       "    </tr>\n",
       "    <tr>\n",
       "      <th>2015-05-14</th>\n",
       "      <td>48.029999</td>\n",
       "      <td>48.820000</td>\n",
       "      <td>48.029999</td>\n",
       "      <td>48.720001</td>\n",
       "      <td>32980900</td>\n",
       "      <td>47.425832</td>\n",
       "    </tr>\n",
       "    <tr>\n",
       "      <th>2015-05-15</th>\n",
       "      <td>48.869999</td>\n",
       "      <td>48.910000</td>\n",
       "      <td>48.049999</td>\n",
       "      <td>48.299999</td>\n",
       "      <td>28642700</td>\n",
       "      <td>47.016987</td>\n",
       "    </tr>\n",
       "    <tr>\n",
       "      <th>2015-05-18</th>\n",
       "      <td>47.980000</td>\n",
       "      <td>48.220001</td>\n",
       "      <td>47.610001</td>\n",
       "      <td>48.009998</td>\n",
       "      <td>24136500</td>\n",
       "      <td>46.734689</td>\n",
       "    </tr>\n",
       "    <tr>\n",
       "      <th>2015-05-19</th>\n",
       "      <td>47.560001</td>\n",
       "      <td>47.810001</td>\n",
       "      <td>47.180000</td>\n",
       "      <td>47.580002</td>\n",
       "      <td>28574800</td>\n",
       "      <td>46.617121</td>\n",
       "    </tr>\n",
       "    <tr>\n",
       "      <th>2015-05-20</th>\n",
       "      <td>47.389999</td>\n",
       "      <td>47.930000</td>\n",
       "      <td>47.270000</td>\n",
       "      <td>47.580002</td>\n",
       "      <td>25047900</td>\n",
       "      <td>46.617121</td>\n",
       "    </tr>\n",
       "    <tr>\n",
       "      <th>2015-05-21</th>\n",
       "      <td>47.279999</td>\n",
       "      <td>47.599998</td>\n",
       "      <td>47.009998</td>\n",
       "      <td>47.419998</td>\n",
       "      <td>22410700</td>\n",
       "      <td>46.460355</td>\n",
       "    </tr>\n",
       "    <tr>\n",
       "      <th>2015-05-22</th>\n",
       "      <td>47.299999</td>\n",
       "      <td>47.349998</td>\n",
       "      <td>46.820000</td>\n",
       "      <td>46.900002</td>\n",
       "      <td>25720600</td>\n",
       "      <td>45.950882</td>\n",
       "    </tr>\n",
       "    <tr>\n",
       "      <th>2015-05-26</th>\n",
       "      <td>46.830002</td>\n",
       "      <td>46.880001</td>\n",
       "      <td>46.189999</td>\n",
       "      <td>46.590000</td>\n",
       "      <td>29581900</td>\n",
       "      <td>45.647154</td>\n",
       "    </tr>\n",
       "    <tr>\n",
       "      <th>2015-05-27</th>\n",
       "      <td>46.820000</td>\n",
       "      <td>47.770000</td>\n",
       "      <td>46.619999</td>\n",
       "      <td>47.610001</td>\n",
       "      <td>27335600</td>\n",
       "      <td>46.646513</td>\n",
       "    </tr>\n",
       "    <tr>\n",
       "      <th>2015-05-28</th>\n",
       "      <td>47.500000</td>\n",
       "      <td>48.020000</td>\n",
       "      <td>47.389999</td>\n",
       "      <td>47.450001</td>\n",
       "      <td>19283700</td>\n",
       "      <td>46.489751</td>\n",
       "    </tr>\n",
       "    <tr>\n",
       "      <th>2015-05-29</th>\n",
       "      <td>47.430000</td>\n",
       "      <td>47.570000</td>\n",
       "      <td>46.590000</td>\n",
       "      <td>46.860001</td>\n",
       "      <td>36519600</td>\n",
       "      <td>45.911691</td>\n",
       "    </tr>\n",
       "    <tr>\n",
       "      <th>2015-06-01</th>\n",
       "      <td>47.060001</td>\n",
       "      <td>47.770000</td>\n",
       "      <td>46.619999</td>\n",
       "      <td>47.230000</td>\n",
       "      <td>28837300</td>\n",
       "      <td>46.274202</td>\n",
       "    </tr>\n",
       "    <tr>\n",
       "      <th>2015-06-02</th>\n",
       "      <td>46.930000</td>\n",
       "      <td>47.349998</td>\n",
       "      <td>46.619999</td>\n",
       "      <td>46.919998</td>\n",
       "      <td>21498300</td>\n",
       "      <td>45.970474</td>\n",
       "    </tr>\n",
       "    <tr>\n",
       "      <th>...</th>\n",
       "      <td>...</td>\n",
       "      <td>...</td>\n",
       "      <td>...</td>\n",
       "      <td>...</td>\n",
       "      <td>...</td>\n",
       "      <td>...</td>\n",
       "    </tr>\n",
       "    <tr>\n",
       "      <th>2016-03-09</th>\n",
       "      <td>51.889999</td>\n",
       "      <td>52.849998</td>\n",
       "      <td>51.860001</td>\n",
       "      <td>52.840000</td>\n",
       "      <td>28145200</td>\n",
       "      <td>52.840000</td>\n",
       "    </tr>\n",
       "    <tr>\n",
       "      <th>2016-03-10</th>\n",
       "      <td>52.930000</td>\n",
       "      <td>52.939999</td>\n",
       "      <td>51.160000</td>\n",
       "      <td>52.049999</td>\n",
       "      <td>38384200</td>\n",
       "      <td>52.049999</td>\n",
       "    </tr>\n",
       "    <tr>\n",
       "      <th>2016-03-11</th>\n",
       "      <td>53.000000</td>\n",
       "      <td>53.070000</td>\n",
       "      <td>52.380001</td>\n",
       "      <td>53.070000</td>\n",
       "      <td>32174300</td>\n",
       "      <td>53.070000</td>\n",
       "    </tr>\n",
       "    <tr>\n",
       "      <th>2016-03-14</th>\n",
       "      <td>52.709999</td>\n",
       "      <td>53.590000</td>\n",
       "      <td>52.630001</td>\n",
       "      <td>53.169998</td>\n",
       "      <td>23751100</td>\n",
       "      <td>53.169998</td>\n",
       "    </tr>\n",
       "    <tr>\n",
       "      <th>2016-03-15</th>\n",
       "      <td>52.750000</td>\n",
       "      <td>53.590000</td>\n",
       "      <td>52.740002</td>\n",
       "      <td>53.590000</td>\n",
       "      <td>20967600</td>\n",
       "      <td>53.590000</td>\n",
       "    </tr>\n",
       "    <tr>\n",
       "      <th>2016-03-16</th>\n",
       "      <td>53.450001</td>\n",
       "      <td>54.599998</td>\n",
       "      <td>53.400002</td>\n",
       "      <td>54.349998</td>\n",
       "      <td>31297900</td>\n",
       "      <td>54.349998</td>\n",
       "    </tr>\n",
       "    <tr>\n",
       "      <th>2016-03-17</th>\n",
       "      <td>54.209999</td>\n",
       "      <td>55.000000</td>\n",
       "      <td>54.000000</td>\n",
       "      <td>54.660000</td>\n",
       "      <td>28186500</td>\n",
       "      <td>54.660000</td>\n",
       "    </tr>\n",
       "    <tr>\n",
       "      <th>2016-03-18</th>\n",
       "      <td>54.919998</td>\n",
       "      <td>54.970001</td>\n",
       "      <td>53.450001</td>\n",
       "      <td>53.490002</td>\n",
       "      <td>67422900</td>\n",
       "      <td>53.490002</td>\n",
       "    </tr>\n",
       "    <tr>\n",
       "      <th>2016-03-21</th>\n",
       "      <td>53.250000</td>\n",
       "      <td>53.930000</td>\n",
       "      <td>52.930000</td>\n",
       "      <td>53.860001</td>\n",
       "      <td>23807300</td>\n",
       "      <td>53.860001</td>\n",
       "    </tr>\n",
       "    <tr>\n",
       "      <th>2016-03-22</th>\n",
       "      <td>53.610001</td>\n",
       "      <td>54.250000</td>\n",
       "      <td>53.459999</td>\n",
       "      <td>54.070000</td>\n",
       "      <td>22911600</td>\n",
       "      <td>54.070000</td>\n",
       "    </tr>\n",
       "    <tr>\n",
       "      <th>2016-03-23</th>\n",
       "      <td>54.110001</td>\n",
       "      <td>54.240002</td>\n",
       "      <td>53.740002</td>\n",
       "      <td>53.970001</td>\n",
       "      <td>19905300</td>\n",
       "      <td>53.970001</td>\n",
       "    </tr>\n",
       "    <tr>\n",
       "      <th>2016-03-24</th>\n",
       "      <td>53.840000</td>\n",
       "      <td>54.330002</td>\n",
       "      <td>53.730000</td>\n",
       "      <td>54.209999</td>\n",
       "      <td>18842700</td>\n",
       "      <td>54.209999</td>\n",
       "    </tr>\n",
       "    <tr>\n",
       "      <th>2016-03-28</th>\n",
       "      <td>54.209999</td>\n",
       "      <td>54.290001</td>\n",
       "      <td>53.330002</td>\n",
       "      <td>53.540001</td>\n",
       "      <td>16988200</td>\n",
       "      <td>53.540001</td>\n",
       "    </tr>\n",
       "    <tr>\n",
       "      <th>2016-03-29</th>\n",
       "      <td>53.660000</td>\n",
       "      <td>54.860001</td>\n",
       "      <td>53.450001</td>\n",
       "      <td>54.709999</td>\n",
       "      <td>23375000</td>\n",
       "      <td>54.709999</td>\n",
       "    </tr>\n",
       "    <tr>\n",
       "      <th>2016-03-30</th>\n",
       "      <td>54.930000</td>\n",
       "      <td>55.639999</td>\n",
       "      <td>54.900002</td>\n",
       "      <td>55.049999</td>\n",
       "      <td>22920300</td>\n",
       "      <td>55.049999</td>\n",
       "    </tr>\n",
       "    <tr>\n",
       "      <th>2016-03-31</th>\n",
       "      <td>54.950001</td>\n",
       "      <td>55.590000</td>\n",
       "      <td>54.860001</td>\n",
       "      <td>55.230000</td>\n",
       "      <td>26173800</td>\n",
       "      <td>55.230000</td>\n",
       "    </tr>\n",
       "    <tr>\n",
       "      <th>2016-04-01</th>\n",
       "      <td>55.049999</td>\n",
       "      <td>55.610001</td>\n",
       "      <td>54.570000</td>\n",
       "      <td>55.570000</td>\n",
       "      <td>24298600</td>\n",
       "      <td>55.570000</td>\n",
       "    </tr>\n",
       "    <tr>\n",
       "      <th>2016-04-04</th>\n",
       "      <td>55.430000</td>\n",
       "      <td>55.660000</td>\n",
       "      <td>55.000000</td>\n",
       "      <td>55.430000</td>\n",
       "      <td>18909100</td>\n",
       "      <td>55.430000</td>\n",
       "    </tr>\n",
       "    <tr>\n",
       "      <th>2016-04-05</th>\n",
       "      <td>55.189999</td>\n",
       "      <td>55.299999</td>\n",
       "      <td>54.459999</td>\n",
       "      <td>54.560001</td>\n",
       "      <td>19148800</td>\n",
       "      <td>54.560001</td>\n",
       "    </tr>\n",
       "    <tr>\n",
       "      <th>2016-04-06</th>\n",
       "      <td>54.360001</td>\n",
       "      <td>55.200001</td>\n",
       "      <td>54.209999</td>\n",
       "      <td>55.119999</td>\n",
       "      <td>21032100</td>\n",
       "      <td>55.119999</td>\n",
       "    </tr>\n",
       "    <tr>\n",
       "      <th>2016-04-07</th>\n",
       "      <td>54.869999</td>\n",
       "      <td>54.910000</td>\n",
       "      <td>54.230000</td>\n",
       "      <td>54.459999</td>\n",
       "      <td>18584100</td>\n",
       "      <td>54.459999</td>\n",
       "    </tr>\n",
       "    <tr>\n",
       "      <th>2016-04-08</th>\n",
       "      <td>54.669998</td>\n",
       "      <td>55.279999</td>\n",
       "      <td>54.320000</td>\n",
       "      <td>54.419998</td>\n",
       "      <td>22157000</td>\n",
       "      <td>54.419998</td>\n",
       "    </tr>\n",
       "    <tr>\n",
       "      <th>2016-04-11</th>\n",
       "      <td>54.490002</td>\n",
       "      <td>55.150002</td>\n",
       "      <td>54.299999</td>\n",
       "      <td>54.310001</td>\n",
       "      <td>21332300</td>\n",
       "      <td>54.310001</td>\n",
       "    </tr>\n",
       "    <tr>\n",
       "      <th>2016-04-12</th>\n",
       "      <td>54.369999</td>\n",
       "      <td>54.779999</td>\n",
       "      <td>53.759998</td>\n",
       "      <td>54.650002</td>\n",
       "      <td>24574200</td>\n",
       "      <td>54.650002</td>\n",
       "    </tr>\n",
       "    <tr>\n",
       "      <th>2016-04-13</th>\n",
       "      <td>55.119999</td>\n",
       "      <td>55.439999</td>\n",
       "      <td>54.889999</td>\n",
       "      <td>55.349998</td>\n",
       "      <td>20601300</td>\n",
       "      <td>55.349998</td>\n",
       "    </tr>\n",
       "    <tr>\n",
       "      <th>2016-04-14</th>\n",
       "      <td>55.220001</td>\n",
       "      <td>55.580002</td>\n",
       "      <td>55.070000</td>\n",
       "      <td>55.360001</td>\n",
       "      <td>20875100</td>\n",
       "      <td>55.360001</td>\n",
       "    </tr>\n",
       "    <tr>\n",
       "      <th>2016-04-15</th>\n",
       "      <td>55.299999</td>\n",
       "      <td>55.919998</td>\n",
       "      <td>55.110001</td>\n",
       "      <td>55.650002</td>\n",
       "      <td>28377600</td>\n",
       "      <td>55.650002</td>\n",
       "    </tr>\n",
       "    <tr>\n",
       "      <th>2016-04-18</th>\n",
       "      <td>55.490002</td>\n",
       "      <td>56.590000</td>\n",
       "      <td>55.209999</td>\n",
       "      <td>56.459999</td>\n",
       "      <td>23150300</td>\n",
       "      <td>56.459999</td>\n",
       "    </tr>\n",
       "    <tr>\n",
       "      <th>2016-04-19</th>\n",
       "      <td>56.630001</td>\n",
       "      <td>56.770000</td>\n",
       "      <td>55.680000</td>\n",
       "      <td>56.389999</td>\n",
       "      <td>29533700</td>\n",
       "      <td>56.389999</td>\n",
       "    </tr>\n",
       "    <tr>\n",
       "      <th>2016-04-20</th>\n",
       "      <td>56.290001</td>\n",
       "      <td>56.500000</td>\n",
       "      <td>55.490002</td>\n",
       "      <td>55.590000</td>\n",
       "      <td>36014100</td>\n",
       "      <td>55.590000</td>\n",
       "    </tr>\n",
       "  </tbody>\n",
       "</table>\n",
       "<p>253 rows × 6 columns</p>\n",
       "</div>"
      ],
      "text/plain": [
       "                 Open       High        Low      Close     Volume  Adj Close\n",
       "Date                                                                        \n",
       "2015-04-21  43.000000  43.150002  42.529999  42.639999   26013800  41.507336\n",
       "2015-04-22  42.669998  43.130001  42.549999  42.990002   25064300  41.848041\n",
       "2015-04-23  42.889999  43.610001  42.799999  43.340000   46309500  42.188742\n",
       "2015-04-24  45.660000  48.139999  45.650002  47.869999  130933700  46.598409\n",
       "2015-04-27  47.230000  48.130001  47.220001  48.029999   59248200  46.754158\n",
       "2015-04-28  47.779999  49.209999  47.700001  49.160000   60730800  47.854143\n",
       "2015-04-29  48.720001  49.310001  48.500000  49.060001   47804600  47.756801\n",
       "2015-04-30  48.700001  49.540001  48.599998  48.639999   64725500  47.347955\n",
       "2015-05-01  48.580002  48.880001  48.400002  48.660000   38937300  47.367425\n",
       "2015-05-04  48.369999  48.869999  48.180000  48.240002   34039500  46.958583\n",
       "2015-05-05  47.820000  48.160000  47.310001  47.599998   50369200  46.335580\n",
       "2015-05-06  47.570000  47.770000  46.020000  46.279999   52433000  45.050644\n",
       "2015-05-07  46.270000  47.090000  46.160000  46.700001   32971700  45.459490\n",
       "2015-05-08  47.549999  47.980000  47.520000  47.750000   35364900  46.481597\n",
       "2015-05-11  47.549999  47.910000  47.369999  47.369999   24609400  46.111690\n",
       "2015-05-12  46.849998  47.680000  46.419998  47.349998   29928300  46.092221\n",
       "2015-05-13  48.189999  48.320000  47.570000  47.630001   34184600  46.364786\n",
       "2015-05-14  48.029999  48.820000  48.029999  48.720001   32980900  47.425832\n",
       "2015-05-15  48.869999  48.910000  48.049999  48.299999   28642700  47.016987\n",
       "2015-05-18  47.980000  48.220001  47.610001  48.009998   24136500  46.734689\n",
       "2015-05-19  47.560001  47.810001  47.180000  47.580002   28574800  46.617121\n",
       "2015-05-20  47.389999  47.930000  47.270000  47.580002   25047900  46.617121\n",
       "2015-05-21  47.279999  47.599998  47.009998  47.419998   22410700  46.460355\n",
       "2015-05-22  47.299999  47.349998  46.820000  46.900002   25720600  45.950882\n",
       "2015-05-26  46.830002  46.880001  46.189999  46.590000   29581900  45.647154\n",
       "2015-05-27  46.820000  47.770000  46.619999  47.610001   27335600  46.646513\n",
       "2015-05-28  47.500000  48.020000  47.389999  47.450001   19283700  46.489751\n",
       "2015-05-29  47.430000  47.570000  46.590000  46.860001   36519600  45.911691\n",
       "2015-06-01  47.060001  47.770000  46.619999  47.230000   28837300  46.274202\n",
       "2015-06-02  46.930000  47.349998  46.619999  46.919998   21498300  45.970474\n",
       "...               ...        ...        ...        ...        ...        ...\n",
       "2016-03-09  51.889999  52.849998  51.860001  52.840000   28145200  52.840000\n",
       "2016-03-10  52.930000  52.939999  51.160000  52.049999   38384200  52.049999\n",
       "2016-03-11  53.000000  53.070000  52.380001  53.070000   32174300  53.070000\n",
       "2016-03-14  52.709999  53.590000  52.630001  53.169998   23751100  53.169998\n",
       "2016-03-15  52.750000  53.590000  52.740002  53.590000   20967600  53.590000\n",
       "2016-03-16  53.450001  54.599998  53.400002  54.349998   31297900  54.349998\n",
       "2016-03-17  54.209999  55.000000  54.000000  54.660000   28186500  54.660000\n",
       "2016-03-18  54.919998  54.970001  53.450001  53.490002   67422900  53.490002\n",
       "2016-03-21  53.250000  53.930000  52.930000  53.860001   23807300  53.860001\n",
       "2016-03-22  53.610001  54.250000  53.459999  54.070000   22911600  54.070000\n",
       "2016-03-23  54.110001  54.240002  53.740002  53.970001   19905300  53.970001\n",
       "2016-03-24  53.840000  54.330002  53.730000  54.209999   18842700  54.209999\n",
       "2016-03-28  54.209999  54.290001  53.330002  53.540001   16988200  53.540001\n",
       "2016-03-29  53.660000  54.860001  53.450001  54.709999   23375000  54.709999\n",
       "2016-03-30  54.930000  55.639999  54.900002  55.049999   22920300  55.049999\n",
       "2016-03-31  54.950001  55.590000  54.860001  55.230000   26173800  55.230000\n",
       "2016-04-01  55.049999  55.610001  54.570000  55.570000   24298600  55.570000\n",
       "2016-04-04  55.430000  55.660000  55.000000  55.430000   18909100  55.430000\n",
       "2016-04-05  55.189999  55.299999  54.459999  54.560001   19148800  54.560001\n",
       "2016-04-06  54.360001  55.200001  54.209999  55.119999   21032100  55.119999\n",
       "2016-04-07  54.869999  54.910000  54.230000  54.459999   18584100  54.459999\n",
       "2016-04-08  54.669998  55.279999  54.320000  54.419998   22157000  54.419998\n",
       "2016-04-11  54.490002  55.150002  54.299999  54.310001   21332300  54.310001\n",
       "2016-04-12  54.369999  54.779999  53.759998  54.650002   24574200  54.650002\n",
       "2016-04-13  55.119999  55.439999  54.889999  55.349998   20601300  55.349998\n",
       "2016-04-14  55.220001  55.580002  55.070000  55.360001   20875100  55.360001\n",
       "2016-04-15  55.299999  55.919998  55.110001  55.650002   28377600  55.650002\n",
       "2016-04-18  55.490002  56.590000  55.209999  56.459999   23150300  56.459999\n",
       "2016-04-19  56.630001  56.770000  55.680000  56.389999   29533700  56.389999\n",
       "2016-04-20  56.290001  56.500000  55.490002  55.590000   36014100  55.590000\n",
       "\n",
       "[253 rows x 6 columns]"
      ]
     },
     "execution_count": 53,
     "metadata": {},
     "output_type": "execute_result"
    }
   ],
   "source": [
    "MSFT"
   ]
  },
  {
   "cell_type": "code",
   "execution_count": 51,
   "metadata": {
    "collapsed": false
   },
   "outputs": [
    {
     "data": {
      "text/html": [
       "<div>\n",
       "<table border=\"1\" class=\"dataframe\">\n",
       "  <thead>\n",
       "    <tr style=\"text-align: right;\">\n",
       "      <th></th>\n",
       "      <th>Open</th>\n",
       "      <th>High</th>\n",
       "      <th>Low</th>\n",
       "      <th>Close</th>\n",
       "      <th>Volume</th>\n",
       "      <th>Adj Close</th>\n",
       "    </tr>\n",
       "    <tr>\n",
       "      <th>Date</th>\n",
       "      <th></th>\n",
       "      <th></th>\n",
       "      <th></th>\n",
       "      <th></th>\n",
       "      <th></th>\n",
       "      <th></th>\n",
       "    </tr>\n",
       "  </thead>\n",
       "  <tbody>\n",
       "    <tr>\n",
       "      <th>2015-04-21</th>\n",
       "      <td>537.512456</td>\n",
       "      <td>539.392429</td>\n",
       "      <td>533.677415</td>\n",
       "      <td>533.972413</td>\n",
       "      <td>1844700</td>\n",
       "      <td>533.972413</td>\n",
       "    </tr>\n",
       "    <tr>\n",
       "      <th>2015-04-22</th>\n",
       "      <td>534.402426</td>\n",
       "      <td>541.082428</td>\n",
       "      <td>531.752397</td>\n",
       "      <td>539.367458</td>\n",
       "      <td>1593500</td>\n",
       "      <td>539.367458</td>\n",
       "    </tr>\n",
       "    <tr>\n",
       "      <th>2015-04-23</th>\n",
       "      <td>541.002435</td>\n",
       "      <td>550.962490</td>\n",
       "      <td>540.232440</td>\n",
       "      <td>547.002472</td>\n",
       "      <td>4184800</td>\n",
       "      <td>547.002472</td>\n",
       "    </tr>\n",
       "    <tr>\n",
       "      <th>2015-04-24</th>\n",
       "      <td>566.102584</td>\n",
       "      <td>571.142590</td>\n",
       "      <td>557.252507</td>\n",
       "      <td>565.062561</td>\n",
       "      <td>4932500</td>\n",
       "      <td>565.062561</td>\n",
       "    </tr>\n",
       "    <tr>\n",
       "      <th>2015-04-27</th>\n",
       "      <td>563.390015</td>\n",
       "      <td>565.950012</td>\n",
       "      <td>553.200012</td>\n",
       "      <td>555.369995</td>\n",
       "      <td>2398000</td>\n",
       "      <td>555.369995</td>\n",
       "    </tr>\n",
       "  </tbody>\n",
       "</table>\n",
       "</div>"
      ],
      "text/plain": [
       "                  Open        High         Low       Close   Volume  \\\n",
       "Date                                                                  \n",
       "2015-04-21  537.512456  539.392429  533.677415  533.972413  1844700   \n",
       "2015-04-22  534.402426  541.082428  531.752397  539.367458  1593500   \n",
       "2015-04-23  541.002435  550.962490  540.232440  547.002472  4184800   \n",
       "2015-04-24  566.102584  571.142590  557.252507  565.062561  4932500   \n",
       "2015-04-27  563.390015  565.950012  553.200012  555.369995  2398000   \n",
       "\n",
       "             Adj Close  \n",
       "Date                    \n",
       "2015-04-21  533.972413  \n",
       "2015-04-22  539.367458  \n",
       "2015-04-23  547.002472  \n",
       "2015-04-24  565.062561  \n",
       "2015-04-27  555.369995  "
      ]
     },
     "execution_count": 51,
     "metadata": {},
     "output_type": "execute_result"
    }
   ],
   "source": [
    "GOOG.head()"
   ]
  },
  {
   "cell_type": "code",
   "execution_count": 56,
   "metadata": {
    "collapsed": false
   },
   "outputs": [
    {
     "name": "stdout",
     "output_type": "stream",
     "text": [
      "<class 'pandas.core.frame.DataFrame'>\n",
      "DatetimeIndex: 253 entries, 2015-04-21 to 2016-04-20\n",
      "Data columns (total 6 columns):\n",
      "Open         253 non-null float64\n",
      "High         253 non-null float64\n",
      "Low          253 non-null float64\n",
      "Close        253 non-null float64\n",
      "Volume       253 non-null int64\n",
      "Adj Close    253 non-null float64\n",
      "dtypes: float64(5), int64(1)\n",
      "memory usage: 13.8 KB\n"
     ]
    }
   ],
   "source": [
    "AMZN.info() # For some general info on some of the data."
   ]
  },
  {
   "cell_type": "code",
   "execution_count": 54,
   "metadata": {
    "collapsed": false
   },
   "outputs": [
    {
     "data": {
      "text/html": [
       "<div>\n",
       "<table border=\"1\" class=\"dataframe\">\n",
       "  <thead>\n",
       "    <tr style=\"text-align: right;\">\n",
       "      <th></th>\n",
       "      <th>Open</th>\n",
       "      <th>High</th>\n",
       "      <th>Low</th>\n",
       "      <th>Close</th>\n",
       "      <th>Volume</th>\n",
       "      <th>Adj Close</th>\n",
       "    </tr>\n",
       "  </thead>\n",
       "  <tbody>\n",
       "    <tr>\n",
       "      <th>count</th>\n",
       "      <td>253.000000</td>\n",
       "      <td>253.000000</td>\n",
       "      <td>253.000000</td>\n",
       "      <td>253.000000</td>\n",
       "      <td>2.530000e+02</td>\n",
       "      <td>253.000000</td>\n",
       "    </tr>\n",
       "    <tr>\n",
       "      <th>mean</th>\n",
       "      <td>114.118063</td>\n",
       "      <td>115.201344</td>\n",
       "      <td>112.896206</td>\n",
       "      <td>114.051581</td>\n",
       "      <td>4.853462e+07</td>\n",
       "      <td>113.078153</td>\n",
       "    </tr>\n",
       "    <tr>\n",
       "      <th>std</th>\n",
       "      <td>10.903376</td>\n",
       "      <td>10.746532</td>\n",
       "      <td>10.969265</td>\n",
       "      <td>10.809078</td>\n",
       "      <td>2.101925e+07</td>\n",
       "      <td>10.215436</td>\n",
       "    </tr>\n",
       "    <tr>\n",
       "      <th>min</th>\n",
       "      <td>93.129997</td>\n",
       "      <td>94.500000</td>\n",
       "      <td>92.000000</td>\n",
       "      <td>93.419998</td>\n",
       "      <td>1.304640e+07</td>\n",
       "      <td>92.915814</td>\n",
       "    </tr>\n",
       "    <tr>\n",
       "      <th>25%</th>\n",
       "      <td>107.089996</td>\n",
       "      <td>108.000000</td>\n",
       "      <td>105.650002</td>\n",
       "      <td>106.820000</td>\n",
       "      <td>3.404820e+07</td>\n",
       "      <td>106.651287</td>\n",
       "    </tr>\n",
       "    <tr>\n",
       "      <th>50%</th>\n",
       "      <td>113.760002</td>\n",
       "      <td>115.370003</td>\n",
       "      <td>112.440002</td>\n",
       "      <td>113.769997</td>\n",
       "      <td>4.452590e+07</td>\n",
       "      <td>112.822233</td>\n",
       "    </tr>\n",
       "    <tr>\n",
       "      <th>75%</th>\n",
       "      <td>124.480003</td>\n",
       "      <td>125.500000</td>\n",
       "      <td>122.550003</td>\n",
       "      <td>124.500000</td>\n",
       "      <td>5.555040e+07</td>\n",
       "      <td>122.734830</td>\n",
       "    </tr>\n",
       "    <tr>\n",
       "      <th>max</th>\n",
       "      <td>134.460007</td>\n",
       "      <td>134.539993</td>\n",
       "      <td>131.399994</td>\n",
       "      <td>132.649994</td>\n",
       "      <td>1.622063e+08</td>\n",
       "      <td>130.671320</td>\n",
       "    </tr>\n",
       "  </tbody>\n",
       "</table>\n",
       "</div>"
      ],
      "text/plain": [
       "             Open        High         Low       Close        Volume  \\\n",
       "count  253.000000  253.000000  253.000000  253.000000  2.530000e+02   \n",
       "mean   114.118063  115.201344  112.896206  114.051581  4.853462e+07   \n",
       "std     10.903376   10.746532   10.969265   10.809078  2.101925e+07   \n",
       "min     93.129997   94.500000   92.000000   93.419998  1.304640e+07   \n",
       "25%    107.089996  108.000000  105.650002  106.820000  3.404820e+07   \n",
       "50%    113.760002  115.370003  112.440002  113.769997  4.452590e+07   \n",
       "75%    124.480003  125.500000  122.550003  124.500000  5.555040e+07   \n",
       "max    134.460007  134.539993  131.399994  132.649994  1.622063e+08   \n",
       "\n",
       "        Adj Close  \n",
       "count  253.000000  \n",
       "mean   113.078153  \n",
       "std     10.215436  \n",
       "min     92.915814  \n",
       "25%    106.651287  \n",
       "50%    112.822233  \n",
       "75%    122.734830  \n",
       "max    130.671320  "
      ]
     },
     "execution_count": 54,
     "metadata": {},
     "output_type": "execute_result"
    }
   ],
   "source": [
    "AAPL.describe() # The Apple stock will be used to get a better feel for the data."
   ]
  },
  {
   "cell_type": "code",
   "execution_count": 57,
   "metadata": {
    "collapsed": false
   },
   "outputs": [
    {
     "data": {
      "text/plain": [
       "'\\nTo take into account any changes in the stock, the adjusted closing price will be used to \\ndo some historical data analysis.\\n'"
      ]
     },
     "execution_count": 57,
     "metadata": {},
     "output_type": "execute_result"
    }
   ],
   "source": [
    "'''\n",
    "To take into account any changes in the stock, the adjusted closing price will be used to \n",
    "do some historical data analysis.\n",
    "'''"
   ]
  },
  {
   "cell_type": "code",
   "execution_count": 71,
   "metadata": {
    "collapsed": false
   },
   "outputs": [
    {
     "data": {
      "text/plain": [
       "Index(['Open', 'High', 'Low', 'Close', 'Volume', 'Adj Close'], dtype='object')"
      ]
     },
     "execution_count": 71,
     "metadata": {},
     "output_type": "execute_result"
    }
   ],
   "source": [
    "AAPL.columns # … to check to see if there are any spaces at the beginning or end of the column names"
   ]
  },
  {
   "cell_type": "code",
   "execution_count": 72,
   "metadata": {
    "collapsed": false
   },
   "outputs": [
    {
     "data": {
      "text/plain": [
       "<matplotlib.axes._subplots.AxesSubplot at 0x119512e48>"
      ]
     },
     "execution_count": 72,
     "metadata": {},
     "output_type": "execute_result"
    },
    {
     "data": {
      "image/png": "[encoded data removed]",
      "text/plain": [
       "<matplotlib.figure.Figure at 0x119512588>"
      ]
     },
     "metadata": {},
     "output_type": "display_data"
    }
   ],
   "source": [
    "AAPL[\"Adj Close\"].plot(legend = True, figsize = (10,5))"
   ]
  },
  {
   "cell_type": "code",
   "execution_count": 73,
   "metadata": {
    "collapsed": false
   },
   "outputs": [
    {
     "data": {
      "text/plain": [
       "'\\nStarting with a bit of basic analysis, I will look at a historical view of the closing price \\nfor Apple stock using Pandas’ plot method. For the plot above, two arguments are passed: the \\nlegend = True so that it displays a legend and a 10 by 5 size figure to improve readability. \\n'"
      ]
     },
     "execution_count": 73,
     "metadata": {},
     "output_type": "execute_result"
    }
   ],
   "source": [
    "'''\n",
    "Starting with a bit of basic analysis, I will look at a historical view of the closing price \n",
    "for Apple stock using Pandas’ plot method. For the plot above, two arguments are passed: the \n",
    "legend = True so that it displays a legend and a 10 by 5 size figure to improve readability. \n",
    "'''"
   ]
  },
  {
   "cell_type": "code",
   "execution_count": 84,
   "metadata": {
    "collapsed": false
   },
   "outputs": [
    {
     "data": {
      "text/plain": [
       "<matplotlib.axes._subplots.AxesSubplot at 0x113d75400>"
      ]
     },
     "execution_count": 84,
     "metadata": {},
     "output_type": "execute_result"
    },
    {
     "data": {
      "image/png": "[encoded data removed]",
      "text/plain": [
       "<matplotlib.figure.Figure at 0x1195dba90>"
      ]
     },
     "metadata": {},
     "output_type": "display_data"
    }
   ],
   "source": [
    "AAPL[\"Volume\"].plot(legend = True, figsize = (10,5))"
   ]
  },
  {
   "cell_type": "code",
   "execution_count": 77,
   "metadata": {
    "collapsed": false
   },
   "outputs": [
    {
     "data": {
      "text/plain": [
       "'\\nAbove, the “Volume” column is called to plot the total volume of stock being traded each \\nday over the past year.\\n\\nNext I will look for insights on trends within the data. This will be done by calculating \\nthe moving average for the stock by taking in all of the prices over a certain time period \\n(in this case, one year) and averaging them out. \\n\\nTo start, I will calculate several moving averages - one for 15 days, one for 30 days, and \\nanother for 45 days. The following list will hold those days.\\n'"
      ]
     },
     "execution_count": 77,
     "metadata": {},
     "output_type": "execute_result"
    }
   ],
   "source": [
    "'''\n",
    "Above, the “Volume” column is called to plot the total volume of stock being traded each \n",
    "day over the past year.\n",
    "\n",
    "Next I will look for insights on trends within the data. This will be done by calculating \n",
    "the moving average for the stock by taking in all of the prices over a certain time period \n",
    "(in this case, one year) and averaging them out. \n",
    "\n",
    "To start, I will calculate several moving averages - one for 15 days, one for 30 days, and \n",
    "another for 45 days. The following list will hold those days.\n",
    "'''"
   ]
  },
  {
   "cell_type": "code",
   "execution_count": 78,
   "metadata": {
    "collapsed": true
   },
   "outputs": [],
   "source": [
    "movingAvgDays = [15, 30, 45]"
   ]
  },
  {
   "cell_type": "code",
   "execution_count": 83,
   "metadata": {
    "collapsed": false
   },
   "outputs": [
    {
     "name": "stderr",
     "output_type": "stream",
     "text": [
      "//anaconda/lib/python3.5/site-packages/ipykernel/__main__.py:3: FutureWarning: pd.rolling_mean is deprecated for Series and will be removed in a future version, replace with \n",
      "\tSeries.rolling(center=False,window=15).mean()\n",
      "  app.launch_new_instance()\n",
      "//anaconda/lib/python3.5/site-packages/ipykernel/__main__.py:3: FutureWarning: pd.rolling_mean is deprecated for Series and will be removed in a future version, replace with \n",
      "\tSeries.rolling(center=False,window=30).mean()\n",
      "  app.launch_new_instance()\n",
      "//anaconda/lib/python3.5/site-packages/ipykernel/__main__.py:3: FutureWarning: pd.rolling_mean is deprecated for Series and will be removed in a future version, replace with \n",
      "\tSeries.rolling(center=False,window=45).mean()\n",
      "  app.launch_new_instance()\n"
     ]
    }
   ],
   "source": [
    "for ma in movingAvgDays:\n",
    "    columnName = \"MA for %s days\" %(str(ma))\n",
    "    AAPL[column_name] = pd.Series(AAPL['Adj Close']).rolling(window=ma).mean()\n",
    "    AAPL[column_name]= pd.rolling_mean(AAPL[\"Adj Close\"], ma)"
   ]
  },
  {
   "cell_type": "code",
   "execution_count": 89,
   "metadata": {
    "collapsed": false
   },
   "outputs": [
    {
     "name": "stderr",
     "output_type": "stream",
     "text": [
      "//anaconda/lib/python3.5/site-packages/ipykernel/__main__.py:10: FutureWarning: pd.rolling_mean is deprecated for Series and will be removed in a future version, replace with \n",
      "\tSeries.rolling(center=False,window=10).mean()\n",
      "//anaconda/lib/python3.5/site-packages/ipykernel/__main__.py:10: FutureWarning: pd.rolling_mean is deprecated for Series and will be removed in a future version, replace with \n",
      "\tSeries.rolling(center=False,window=20).mean()\n",
      "//anaconda/lib/python3.5/site-packages/ipykernel/__main__.py:10: FutureWarning: pd.rolling_mean is deprecated for Series and will be removed in a future version, replace with \n",
      "\tSeries.rolling(center=False,window=50).mean()\n"
     ]
    }
   ],
   "source": [
    "\n",
    "\n",
    "# Luckily pandas has a built-in rolling mean calculator\n",
    "\n",
    "# Let's go ahead and plot out several moving averages\n",
    "ma_day = [10,20,50]\n",
    "\n",
    "for ma in ma_day:\n",
    "    column_name = \"MA for %s days\" %(str(ma))\n",
    "    AAPL[column_name]=pd.rolling_mean(AAPL['Adj Close'],ma)\n",
    "\n"
   ]
  },
  {
   "cell_type": "code",
   "execution_count": null,
   "metadata": {
    "collapsed": true
   },
   "outputs": [],
   "source": [
    "In [5]: arr = np.arange(5)\n",
    "\n",
    "In [6]: Series(arr).rolling(window=2).median().values\n",
    "Out[6]: array([ nan,  0.5,  1.5,  2.5,  3.5])\n",
    "    \n",
    "    \n",
    "    def rolling_median(arr, window):\n",
    "    return Series(arr).rolling(window=window).median().values\n",
    "\n",
    "\n",
    "   In [8]: pd.rolling_mean(df,window=3)\n",
    "           FutureWarning: pd.rolling_mean is deprecated for DataFrame and will be removed in a future version, replace with\n",
    "                          DataFrame.rolling(window=3,center=False).mean()\n",
    "                    \n",
    "                    pd.rolling_mean(s,window=2,min_periods=1)\n",
    "             FutureWarning: pd.rolling_mean is deprecated for Series and\n",
    "                  will be removed in a future version, replace with\n",
    "                  Series.rolling(min_periods=1,window=2,center=False).mean()\n",
    "                \n",
    "                pd.rolling_mean(s,window=2,min_periods=1)\n",
    "             FutureWarning: pd.rolling_mean is deprecated for Series and\n",
    "                  will be removed in a future version, replace with\n",
    "                  Series.rolling(min_periods=1,window=2,center=False).mean()\n",
    "                \n",
    "        \n",
    "\n",
    "# Luckily pandas has a built-in rolling mean calculator\n",
    "\n",
    "# Let's go ahead and plot out several moving averages\n",
    "ma_day = [10,20,50]\n",
    "\n",
    "for ma in ma_day:\n",
    "    column_name = \"MA for %s days\" %(str(ma))\n",
    "    AAPL[column_name]=pd.rolling_mean(AAPL['Adj Close'],ma)\n",
    "\n",
    "ma_day.rolling(window=10, center=False).mean()\n",
    "\n",
    "\n",
    "AAPL['Adj Close'].rolling(ma, center=False).mean()"
   ]
  },
  {
   "cell_type": "code",
   "execution_count": 86,
   "metadata": {
    "collapsed": false
   },
   "outputs": [
    {
     "name": "stderr",
     "output_type": "stream",
     "text": [
      "//anaconda/lib/python3.5/site-packages/ipykernel/__main__.py:5: FutureWarning: pd.rolling_mean is deprecated for Series and will be removed in a future version, replace with \n",
      "\tSeries.rolling(center=False,window=10).mean()\n",
      "//anaconda/lib/python3.5/site-packages/ipykernel/__main__.py:5: FutureWarning: pd.rolling_mean is deprecated for Series and will be removed in a future version, replace with \n",
      "\tSeries.rolling(center=False,window=20).mean()\n",
      "//anaconda/lib/python3.5/site-packages/ipykernel/__main__.py:5: FutureWarning: pd.rolling_mean is deprecated for Series and will be removed in a future version, replace with \n",
      "\tSeries.rolling(center=False,window=50).mean()\n"
     ]
    },
    {
     "ename": "AttributeError",
     "evalue": "'list' object has no attribute 'rolling'",
     "output_type": "error",
     "traceback": [
      "\u001b[0;31m---------------------------------------------------------------------------\u001b[0m",
      "\u001b[0;31mAttributeError\u001b[0m                            Traceback (most recent call last)",
      "\u001b[0;32m<ipython-input-86-3e09551ceac1>\u001b[0m in \u001b[0;36m<module>\u001b[0;34m()\u001b[0m\n\u001b[1;32m      5\u001b[0m     \u001b[0mAAPL\u001b[0m\u001b[0;34m[\u001b[0m\u001b[0mcolumn_name\u001b[0m\u001b[0;34m]\u001b[0m\u001b[0;34m=\u001b[0m\u001b[0mpd\u001b[0m\u001b[0;34m.\u001b[0m\u001b[0mrolling_mean\u001b[0m\u001b[0;34m(\u001b[0m\u001b[0mAAPL\u001b[0m\u001b[0;34m[\u001b[0m\u001b[0;34m'Adj Close'\u001b[0m\u001b[0;34m]\u001b[0m\u001b[0;34m,\u001b[0m\u001b[0mma\u001b[0m\u001b[0;34m)\u001b[0m\u001b[0;34m\u001b[0m\u001b[0m\n\u001b[1;32m      6\u001b[0m \u001b[0;34m\u001b[0m\u001b[0m\n\u001b[0;32m----> 7\u001b[0;31m \u001b[0mma_day\u001b[0m\u001b[0;34m.\u001b[0m\u001b[0mrolling\u001b[0m\u001b[0;34m(\u001b[0m\u001b[0mwindow\u001b[0m\u001b[0;34m=\u001b[0m\u001b[0;36m10\u001b[0m\u001b[0;34m,\u001b[0m \u001b[0mcenter\u001b[0m\u001b[0;34m=\u001b[0m\u001b[0;32mFalse\u001b[0m\u001b[0;34m)\u001b[0m\u001b[0;34m.\u001b[0m\u001b[0mmean\u001b[0m\u001b[0;34m(\u001b[0m\u001b[0;34m)\u001b[0m\u001b[0;34m\u001b[0m\u001b[0m\n\u001b[0m",
      "\u001b[0;31mAttributeError\u001b[0m: 'list' object has no attribute 'rolling'"
     ]
    }
   ],
   "source": [
    "ma_day = [10,20,50]\n",
    "\n",
    "for ma in ma_day:\n",
    "    column_name = \"MA for %s days\" %(str(ma))\n",
    "    AAPL[column_name]=pd.rolling_mean(AAPL['Adj Close'],ma)\n",
    "\n",
    "ma_day.rolling(window=10, center=False).mean()"
   ]
  },
  {
   "cell_type": "code",
   "execution_count": 87,
   "metadata": {
    "collapsed": false
   },
   "outputs": [
    {
     "name": "stderr",
     "output_type": "stream",
     "text": [
      "//anaconda/lib/python3.5/site-packages/ipykernel/__main__.py:5: FutureWarning: pd.rolling_mean is deprecated for Series and will be removed in a future version, replace with \n",
      "\tSeries.rolling(center=False,window=10).mean()\n",
      "//anaconda/lib/python3.5/site-packages/ipykernel/__main__.py:5: FutureWarning: pd.rolling_mean is deprecated for Series and will be removed in a future version, replace with \n",
      "\tSeries.rolling(center=False,window=20).mean()\n",
      "//anaconda/lib/python3.5/site-packages/ipykernel/__main__.py:5: FutureWarning: pd.rolling_mean is deprecated for Series and will be removed in a future version, replace with \n",
      "\tSeries.rolling(center=False,window=50).mean()\n"
     ]
    },
    {
     "data": {
      "text/plain": [
       "Date\n",
       "2015-04-21           NaN\n",
       "2015-04-22           NaN\n",
       "2015-04-23           NaN\n",
       "2015-04-24           NaN\n",
       "2015-04-27           NaN\n",
       "2015-04-28           NaN\n",
       "2015-04-29           NaN\n",
       "2015-04-30           NaN\n",
       "2015-05-01           NaN\n",
       "2015-05-04           NaN\n",
       "2015-05-05           NaN\n",
       "2015-05-06           NaN\n",
       "2015-05-07           NaN\n",
       "2015-05-08           NaN\n",
       "2015-05-11           NaN\n",
       "2015-05-12           NaN\n",
       "2015-05-13           NaN\n",
       "2015-05-14           NaN\n",
       "2015-05-15           NaN\n",
       "2015-05-18           NaN\n",
       "2015-05-19           NaN\n",
       "2015-05-20           NaN\n",
       "2015-05-21           NaN\n",
       "2015-05-22           NaN\n",
       "2015-05-26           NaN\n",
       "2015-05-27           NaN\n",
       "2015-05-28           NaN\n",
       "2015-05-29           NaN\n",
       "2015-06-01           NaN\n",
       "2015-06-02           NaN\n",
       "                 ...    \n",
       "2016-03-09     98.181517\n",
       "2016-03-10     98.080047\n",
       "2016-03-11     97.962185\n",
       "2016-03-14     97.877769\n",
       "2016-03-15     97.875530\n",
       "2016-03-16     97.899302\n",
       "2016-03-17     97.972188\n",
       "2016-03-18     98.087458\n",
       "2016-03-21     98.287069\n",
       "2016-03-22     98.492735\n",
       "2016-03-23     98.655370\n",
       "2016-03-24     98.780359\n",
       "2016-03-28     98.946872\n",
       "2016-03-29     99.120814\n",
       "2016-03-30     99.379898\n",
       "2016-03-31     99.636931\n",
       "2016-04-01     99.911379\n",
       "2016-04-04    100.218173\n",
       "2016-04-05    100.396920\n",
       "2016-04-06    100.638054\n",
       "2016-04-07    100.819847\n",
       "2016-04-08    101.134731\n",
       "2016-04-11    101.443487\n",
       "2016-04-12    101.715993\n",
       "2016-04-13    102.038602\n",
       "2016-04-14    102.401200\n",
       "2016-04-15    102.681600\n",
       "2016-04-18    102.899200\n",
       "2016-04-19    103.157000\n",
       "2016-04-20    103.399400\n",
       "Name: Adj Close, dtype: float64"
      ]
     },
     "execution_count": 87,
     "metadata": {},
     "output_type": "execute_result"
    }
   ],
   "source": [
    "ma_day = [10,20,50]\n",
    "\n",
    "for ma in ma_day:\n",
    "    column_name = \"MA for %s days\" %(str(ma))\n",
    "    AAPL[column_name]=pd.rolling_mean(AAPL['Adj Close'],ma)\n",
    "\n",
    "AAPL['Adj Close'].rolling(ma, center=False).mean()"
   ]
  },
  {
   "cell_type": "code",
   "execution_count": 88,
   "metadata": {
    "collapsed": false
   },
   "outputs": [
    {
     "name": "stderr",
     "output_type": "stream",
     "text": [
      "//anaconda/lib/python3.5/site-packages/ipykernel/__main__.py:5: FutureWarning: pd.rolling_mean is deprecated for Series and will be removed in a future version, replace with \n",
      "\tSeries.rolling(center=False,window=10).mean()\n",
      "//anaconda/lib/python3.5/site-packages/ipykernel/__main__.py:5: FutureWarning: pd.rolling_mean is deprecated for Series and will be removed in a future version, replace with \n",
      "\tSeries.rolling(center=False,window=20).mean()\n",
      "//anaconda/lib/python3.5/site-packages/ipykernel/__main__.py:5: FutureWarning: pd.rolling_mean is deprecated for Series and will be removed in a future version, replace with \n",
      "\tSeries.rolling(center=False,window=50).mean()\n"
     ]
    },
    {
     "ename": "AttributeError",
     "evalue": "'list' object has no attribute 'rolling'",
     "output_type": "error",
     "traceback": [
      "\u001b[0;31m---------------------------------------------------------------------------\u001b[0m",
      "\u001b[0;31mAttributeError\u001b[0m                            Traceback (most recent call last)",
      "\u001b[0;32m<ipython-input-88-50485011334b>\u001b[0m in \u001b[0;36m<module>\u001b[0;34m()\u001b[0m\n\u001b[1;32m      5\u001b[0m     \u001b[0mAAPL\u001b[0m\u001b[0;34m[\u001b[0m\u001b[0mcolumn_name\u001b[0m\u001b[0;34m]\u001b[0m\u001b[0;34m=\u001b[0m\u001b[0mpd\u001b[0m\u001b[0;34m.\u001b[0m\u001b[0mrolling_mean\u001b[0m\u001b[0;34m(\u001b[0m\u001b[0mAAPL\u001b[0m\u001b[0;34m[\u001b[0m\u001b[0;34m'Adj Close'\u001b[0m\u001b[0;34m]\u001b[0m\u001b[0;34m,\u001b[0m\u001b[0mma\u001b[0m\u001b[0;34m)\u001b[0m\u001b[0;34m\u001b[0m\u001b[0m\n\u001b[1;32m      6\u001b[0m \u001b[0;34m\u001b[0m\u001b[0m\n\u001b[0;32m----> 7\u001b[0;31m \u001b[0mma_day\u001b[0m\u001b[0;34m.\u001b[0m\u001b[0mrolling\u001b[0m\u001b[0;34m(\u001b[0m\u001b[0mma\u001b[0m\u001b[0;34m,\u001b[0m \u001b[0mcenter\u001b[0m\u001b[0;34m=\u001b[0m\u001b[0;32mFalse\u001b[0m\u001b[0;34m)\u001b[0m\u001b[0;34m.\u001b[0m\u001b[0mmean\u001b[0m\u001b[0;34m(\u001b[0m\u001b[0;34m)\u001b[0m\u001b[0;34m\u001b[0m\u001b[0m\n\u001b[0m",
      "\u001b[0;31mAttributeError\u001b[0m: 'list' object has no attribute 'rolling'"
     ]
    }
   ],
   "source": [
    "ma_day = [10,20,50]\n",
    "\n",
    "for ma in ma_day:\n",
    "    column_name = \"MA for %s days\" %(str(ma))\n",
    "    AAPL[column_name]=pd.rolling_mean(AAPL['Adj Close'],ma)\n",
    "\n",
    "ma_day.rolling(ma, center=False).mean()"
   ]
  },
  {
   "cell_type": "code",
   "execution_count": 90,
   "metadata": {
    "collapsed": true
   },
   "outputs": [],
   "source": [
    "ma_day = [10,20,50]\n",
    "\n",
    "for ma in ma_day:\n",
    "    column_name = \"MA for %s days\" %(str(ma))\n",
    "    AAPL[column_name]=AAPL['Adj Close'].rolling(ma, center=False).mean()"
   ]
  },
  {
   "cell_type": "code",
   "execution_count": 92,
   "metadata": {
    "collapsed": false
   },
   "outputs": [
    {
     "name": "stderr",
     "output_type": "stream",
     "text": [
      "//anaconda/lib/python3.5/site-packages/ipykernel/__main__.py:10: FutureWarning: pd.rolling_mean is deprecated for Series and will be removed in a future version, replace with \n",
      "\tSeries.rolling(center=False,window=10).mean()\n"
     ]
    },
    {
     "ename": "AttributeError",
     "evalue": "'list' object has no attribute 'rolling'",
     "output_type": "error",
     "traceback": [
      "\u001b[0;31m---------------------------------------------------------------------------\u001b[0m",
      "\u001b[0;31mAttributeError\u001b[0m                            Traceback (most recent call last)",
      "\u001b[0;32m<ipython-input-92-b03b1c055add>\u001b[0m in \u001b[0;36m<module>\u001b[0;34m()\u001b[0m\n\u001b[1;32m     10\u001b[0m     \u001b[0mAAPL\u001b[0m\u001b[0;34m[\u001b[0m\u001b[0mcolumn_name\u001b[0m\u001b[0;34m]\u001b[0m\u001b[0;34m=\u001b[0m\u001b[0mpd\u001b[0m\u001b[0;34m.\u001b[0m\u001b[0mrolling_mean\u001b[0m\u001b[0;34m(\u001b[0m\u001b[0mAAPL\u001b[0m\u001b[0;34m[\u001b[0m\u001b[0;34m'Adj Close'\u001b[0m\u001b[0;34m]\u001b[0m\u001b[0;34m,\u001b[0m\u001b[0mma\u001b[0m\u001b[0;34m)\u001b[0m\u001b[0;34m\u001b[0m\u001b[0m\n\u001b[1;32m     11\u001b[0m \u001b[0;34m\u001b[0m\u001b[0m\n\u001b[0;32m---> 12\u001b[0;31m     \u001b[0mAAPL\u001b[0m\u001b[0;34m[\u001b[0m\u001b[0mcolumn_name\u001b[0m\u001b[0;34m]\u001b[0m\u001b[0;34m=\u001b[0m\u001b[0mma_day\u001b[0m\u001b[0;34m.\u001b[0m\u001b[0mrolling\u001b[0m\u001b[0;34m(\u001b[0m\u001b[0mAAPL\u001b[0m\u001b[0;34m[\u001b[0m\u001b[0;34m'Adj Close'\u001b[0m\u001b[0;34m]\u001b[0m\u001b[0;34m,\u001b[0m\u001b[0mma\u001b[0m\u001b[0;34m)\u001b[0m\u001b[0;34m.\u001b[0m\u001b[0mmean\u001b[0m\u001b[0;34m(\u001b[0m\u001b[0;34m)\u001b[0m\u001b[0;34m\u001b[0m\u001b[0m\n\u001b[0m",
      "\u001b[0;31mAttributeError\u001b[0m: 'list' object has no attribute 'rolling'"
     ]
    }
   ],
   "source": [
    "\n",
    "\n",
    "# Luckily pandas has a built-in rolling mean calculator\n",
    "\n",
    "# Let's go ahead and plot out several moving averages\n",
    "ma_day = [10,20,50]\n",
    "\n",
    "for ma in ma_day:\n",
    "    column_name = \"MA for %s days\" %(str(ma))\n",
    "    AAPL[column_name]=pd.rolling_mean(AAPL['Adj Close'],ma)\n",
    "\n",
    "    AAPL[column_name]=ma_day.rolling(AAPL['Adj Close'],ma).mean()"
   ]
  },
  {
   "cell_type": "code",
   "execution_count": 94,
   "metadata": {
    "collapsed": false
   },
   "outputs": [
    {
     "ename": "AttributeError",
     "evalue": "'Series' object has no attribute 'info'",
     "output_type": "error",
     "traceback": [
      "\u001b[0;31m---------------------------------------------------------------------------\u001b[0m",
      "\u001b[0;31mAttributeError\u001b[0m                            Traceback (most recent call last)",
      "\u001b[0;32m<ipython-input-94-aa567236cae0>\u001b[0m in \u001b[0;36m<module>\u001b[0;34m()\u001b[0m\n\u001b[0;32m----> 1\u001b[0;31m \u001b[0mAAPL\u001b[0m\u001b[0;34m[\u001b[0m\u001b[0;34m'Adj Close'\u001b[0m\u001b[0;34m]\u001b[0m\u001b[0;34m.\u001b[0m\u001b[0minfo\u001b[0m\u001b[0;34m(\u001b[0m\u001b[0;34m)\u001b[0m\u001b[0;34m\u001b[0m\u001b[0m\n\u001b[0m",
      "\u001b[0;32m//anaconda/lib/python3.5/site-packages/pandas/core/generic.py\u001b[0m in \u001b[0;36m__getattr__\u001b[0;34m(self, name)\u001b[0m\n\u001b[1;32m   2667\u001b[0m             \u001b[0;32mif\u001b[0m \u001b[0mname\u001b[0m \u001b[0;32min\u001b[0m \u001b[0mself\u001b[0m\u001b[0;34m.\u001b[0m\u001b[0m_info_axis\u001b[0m\u001b[0;34m:\u001b[0m\u001b[0;34m\u001b[0m\u001b[0m\n\u001b[1;32m   2668\u001b[0m                 \u001b[0;32mreturn\u001b[0m \u001b[0mself\u001b[0m\u001b[0;34m[\u001b[0m\u001b[0mname\u001b[0m\u001b[0;34m]\u001b[0m\u001b[0;34m\u001b[0m\u001b[0m\n\u001b[0;32m-> 2669\u001b[0;31m             \u001b[0;32mreturn\u001b[0m \u001b[0mobject\u001b[0m\u001b[0;34m.\u001b[0m\u001b[0m__getattribute__\u001b[0m\u001b[0;34m(\u001b[0m\u001b[0mself\u001b[0m\u001b[0;34m,\u001b[0m \u001b[0mname\u001b[0m\u001b[0;34m)\u001b[0m\u001b[0;34m\u001b[0m\u001b[0m\n\u001b[0m\u001b[1;32m   2670\u001b[0m \u001b[0;34m\u001b[0m\u001b[0m\n\u001b[1;32m   2671\u001b[0m     \u001b[0;32mdef\u001b[0m \u001b[0m__setattr__\u001b[0m\u001b[0;34m(\u001b[0m\u001b[0mself\u001b[0m\u001b[0;34m,\u001b[0m \u001b[0mname\u001b[0m\u001b[0;34m,\u001b[0m \u001b[0mvalue\u001b[0m\u001b[0;34m)\u001b[0m\u001b[0;34m:\u001b[0m\u001b[0;34m\u001b[0m\u001b[0m\n",
      "\u001b[0;31mAttributeError\u001b[0m: 'Series' object has no attribute 'info'"
     ]
    }
   ],
   "source": [
    "AAPL['Adj Close'].info()"
   ]
  },
  {
   "cell_type": "code",
   "execution_count": null,
   "metadata": {
    "collapsed": true
   },
   "outputs": [],
   "source": [
    "ma_day = [10,20,50]\n",
    "\n",
    "for ma in ma_day:\n",
    "    column_name = \"MA for %s days\" %(str(ma))\n",
    "    AAPL[column_name]=AAPL['Adj Close'].rolling(ma, center=False).mean()\n",
    "    \n",
    "    \n",
    "    \n",
    "\n",
    "# Luckily pandas has a built-in rolling mean calculator\n",
    "\n",
    "# Let's go ahead and plot out several moving averages\n",
    "ma_day = [10,20,50]\n",
    "\n",
    "for ma in ma_day:\n",
    "    column_name = \"MA for %s days\" %(str(ma))\n",
    "    AAPL[column_name]=pd.rolling_mean(AAPL['Adj Close'],ma)\n",
    "\n",
    "maDays = [15, 30, 45]\n",
    "\n",
    "for ma in maDays:\n",
    "    columnName = \"MA for %s days\" %(str(ma))\n",
    "    AAPL[column_name] = AAPL[\"Adj Close\"].rolling(ma, center = False).mean()\n",
    "    \n",
    "    \n",
    "    \n",
    "    \n",
    "\n",
    "# Luckily pandas has a built-in rolling mean calculator\n",
    "\n",
    "# Let's go ahead and plot out several moving averages\n",
    "ma_day = [10,20,50]\n",
    "\n",
    "for ma in ma_day:\n",
    "    column_name = \"MA for %s days\" %(str(ma))\n",
    "    AAPL[column_name] = AAPL[\"Adj Close\"].rolling(ma, center = False).mean()\n",
    "\n"
   ]
  },
  {
   "cell_type": "code",
   "execution_count": 95,
   "metadata": {
    "collapsed": true
   },
   "outputs": [],
   "source": [
    "maDays = [15, 30, 45]\n",
    "\n",
    "for ma in maDays:\n",
    "    columnName = \"MA for %s days\" %(str(ma))\n",
    "    AAPL[column_name] = AAPL[\"Adj Close\"].rolling(ma, center = False).mean()"
   ]
  },
  {
   "cell_type": "code",
   "execution_count": null,
   "metadata": {
    "collapsed": true
   },
   "outputs": [],
   "source": []
  },
  {
   "cell_type": "code",
   "execution_count": 96,
   "metadata": {
    "collapsed": false
   },
   "outputs": [
    {
     "data": {
      "text/plain": [
       "<matplotlib.axes._subplots.AxesSubplot at 0x11d2cd0b8>"
      ]
     },
     "execution_count": 96,
     "metadata": {},
     "output_type": "execute_result"
    },
    {
     "data": {
      "image/png": "[encoded data removed]",
      "text/plain": [
       "<matplotlib.figure.Figure at 0x11d2b49e8>"
      ]
     },
     "metadata": {},
     "output_type": "display_data"
    }
   ],
   "source": [
    "AAPL[[\"Adj Close\", \"MA for 10 days\", \"MA for 20 days\", \"MA for 50 days']].plot(subplots=False,figsize=(10,4))"
   ]
  },
  {
   "cell_type": "code",
   "execution_count": null,
   "metadata": {
    "collapsed": true
   },
   "outputs": [],
   "source": []
  }
 ],
 "metadata": {
  "kernelspec": {
   "display_name": "Python 3",
   "language": "python",
   "name": "python3"
  },
  "language_info": {
   "codemirror_mode": {
    "name": "ipython",
    "version": 3
   },
   "file_extension": ".py",
   "mimetype": "text/x-python",
   "name": "python",
   "nbconvert_exporter": "python",
   "pygments_lexer": "ipython3",
   "version": "3.5.1"
  }
 },
 "nbformat": 4,
 "nbformat_minor": 0
}
