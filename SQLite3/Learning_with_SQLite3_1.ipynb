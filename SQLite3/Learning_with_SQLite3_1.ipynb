{
 "cells": [
  {
   "cell_type": "code",
   "execution_count": 1,
   "metadata": {
    "collapsed": true
   },
   "outputs": [],
   "source": [
    "import sqlite3"
   ]
  },
  {
   "cell_type": "code",
   "execution_count": 2,
   "metadata": {
    "collapsed": true
   },
   "outputs": [],
   "source": [
    "import pandas as pd"
   ]
  },
  {
   "cell_type": "markdown",
   "metadata": {},
   "source": [
    "# Sakila Sample Database\n",
    "\n",
    "This project will use Mike Hillye's [Sakila sample database](https://dev.mysql.com/doc/sakila/en). This specific database is basically a mock rental video chain database that is commonly used as a tutorial database for learning MySQL. With this project though, it will be used to practice basic ways to use Pandas in Python to work with a SQL database.\n",
    "\n",
    "SQLite 3, a [self-contained, serverless, zero-configuration, transactional SQL database engine](https://sqlite.org/about.html), will be used to work with the Sakila database. Python’s built-in SQLite3 module easily allows for working within this simple disk-based database. The project will likely evolve as new things are learned and new practice is done but, to start off the project, there will be practice putting SQL SELECT, SQL DISTINCT, SQL WHERE, SQL AND, and SQL OR syntax to use. Those examples will be kept simple in that they will just be used to access the Sakila database and set queries as DataFrames in Pandas. \n",
    "\n",
    "Prior to that, there will be a necessary first step for using the module - creating a connection to the database. To begin, a connection object representing the database will be created below. That will be done by using the “sqlite3.connect()” command. The database sits in the same folder as this project does, so no path will be required/given - only the database file’s name. "
   ]
  },
  {
   "cell_type": "code",
   "execution_count": 3,
   "metadata": {
    "collapsed": true
   },
   "outputs": [],
   "source": [
    "connection = sqlite3.connect(\"sakila.db\")"
   ]
  },
  {
   "cell_type": "markdown",
   "metadata": {},
   "source": [
    "Next, Pandas will be used to pass a SQL query (using the connection from SQLite 3) and then return a DataFrame. The function for doing that will be set to “sqlDataFrame” - a DataFrame that will be used throughout the project. \n",
    "\n",
    "Specifically, “sqlDataFrame” will be set as the SQL to Pandas (a function for taking in a SQL query). The function will use “pd.read_sql()” to: \n",
    "\n",
    "\t1) take in that query \n",
    "\t\n",
    "\t   and also \n",
    "\n",
    "\t2) use the connection made earlier (“connection”) to set that query as a DataFrame. \n",
    "\n",
    "Then, it will return the resulting DataFrame."
   ]
  },
  {
   "cell_type": "code",
   "execution_count": 4,
   "metadata": {
    "collapsed": true
   },
   "outputs": [],
   "source": [
    "def sqlDataFrame(sqlQuery):\n",
    "\n",
    "    dataFrame = pd.read_sql(sqlQuery, connection)\n",
    "\n",
    "    return dataFrame"
   ]
  },
  {
   "cell_type": "markdown",
   "metadata": {},
   "source": [
    "To run a basic SQL query using Pandas, commands can be given by setting an object as a multiline string. \n",
    "\n",
    "Even though not all versions of SQL require that commands be given in all caps, for safety and standardization, the commands in this project will be given in all caps.\n",
    "\n",
    "Below, the query will SELECT everything (\"*\") from the \"category\" table for checking the different types of mock movies that are contained in the collection. A semicolon will end the query."
   ]
  },
  {
   "cell_type": "code",
   "execution_count": 5,
   "metadata": {
    "collapsed": true
   },
   "outputs": [],
   "source": [
    "genresQuery = ''' SELECT * \n",
    "                  FROM category; '''"
   ]
  },
  {
   "cell_type": "markdown",
   "metadata": {},
   "source": [
    "Next, Pandas will be used to pass the SQL query using the \"genresQuery\" SQL query object. The connection will be passed too, and both with be set to the resulting DataFrame \"genreDataFrame\"."
   ]
  },
  {
   "cell_type": "code",
   "execution_count": 6,
   "metadata": {
    "collapsed": false
   },
   "outputs": [],
   "source": [
    "genreDataFrame = pd.read_sql(genresQuery, connection)"
   ]
  },
  {
   "cell_type": "code",
   "execution_count": 7,
   "metadata": {
    "collapsed": false,
    "scrolled": true
   },
   "outputs": [
    {
     "data": {
      "text/html": [
       "<div>\n",
       "<table border=\"1\" class=\"dataframe\">\n",
       "  <thead>\n",
       "    <tr style=\"text-align: right;\">\n",
       "      <th></th>\n",
       "      <th>category_id</th>\n",
       "      <th>name</th>\n",
       "      <th>last_update</th>\n",
       "    </tr>\n",
       "  </thead>\n",
       "  <tbody>\n",
       "    <tr>\n",
       "      <th>0</th>\n",
       "      <td>1</td>\n",
       "      <td>Action</td>\n",
       "      <td>2006-02-15 04:46:27.000</td>\n",
       "    </tr>\n",
       "    <tr>\n",
       "      <th>1</th>\n",
       "      <td>2</td>\n",
       "      <td>Animation</td>\n",
       "      <td>2006-02-15 04:46:27.000</td>\n",
       "    </tr>\n",
       "    <tr>\n",
       "      <th>2</th>\n",
       "      <td>3</td>\n",
       "      <td>Children</td>\n",
       "      <td>2006-02-15 04:46:27.000</td>\n",
       "    </tr>\n",
       "    <tr>\n",
       "      <th>3</th>\n",
       "      <td>4</td>\n",
       "      <td>Classics</td>\n",
       "      <td>2006-02-15 04:46:27.000</td>\n",
       "    </tr>\n",
       "    <tr>\n",
       "      <th>4</th>\n",
       "      <td>5</td>\n",
       "      <td>Comedy</td>\n",
       "      <td>2006-02-15 04:46:27.000</td>\n",
       "    </tr>\n",
       "    <tr>\n",
       "      <th>5</th>\n",
       "      <td>6</td>\n",
       "      <td>Documentary</td>\n",
       "      <td>2006-02-15 04:46:27.000</td>\n",
       "    </tr>\n",
       "    <tr>\n",
       "      <th>6</th>\n",
       "      <td>7</td>\n",
       "      <td>Drama</td>\n",
       "      <td>2006-02-15 04:46:27.000</td>\n",
       "    </tr>\n",
       "    <tr>\n",
       "      <th>7</th>\n",
       "      <td>8</td>\n",
       "      <td>Family</td>\n",
       "      <td>2006-02-15 04:46:27.000</td>\n",
       "    </tr>\n",
       "    <tr>\n",
       "      <th>8</th>\n",
       "      <td>9</td>\n",
       "      <td>Foreign</td>\n",
       "      <td>2006-02-15 04:46:27.000</td>\n",
       "    </tr>\n",
       "    <tr>\n",
       "      <th>9</th>\n",
       "      <td>10</td>\n",
       "      <td>Games</td>\n",
       "      <td>2006-02-15 04:46:27.000</td>\n",
       "    </tr>\n",
       "    <tr>\n",
       "      <th>10</th>\n",
       "      <td>11</td>\n",
       "      <td>Horror</td>\n",
       "      <td>2006-02-15 04:46:27.000</td>\n",
       "    </tr>\n",
       "    <tr>\n",
       "      <th>11</th>\n",
       "      <td>12</td>\n",
       "      <td>Music</td>\n",
       "      <td>2006-02-15 04:46:27.000</td>\n",
       "    </tr>\n",
       "    <tr>\n",
       "      <th>12</th>\n",
       "      <td>13</td>\n",
       "      <td>New</td>\n",
       "      <td>2006-02-15 04:46:27.000</td>\n",
       "    </tr>\n",
       "    <tr>\n",
       "      <th>13</th>\n",
       "      <td>14</td>\n",
       "      <td>Sci-Fi</td>\n",
       "      <td>2006-02-15 04:46:27.000</td>\n",
       "    </tr>\n",
       "    <tr>\n",
       "      <th>14</th>\n",
       "      <td>15</td>\n",
       "      <td>Sports</td>\n",
       "      <td>2006-02-15 04:46:27.000</td>\n",
       "    </tr>\n",
       "    <tr>\n",
       "      <th>15</th>\n",
       "      <td>16</td>\n",
       "      <td>Travel</td>\n",
       "      <td>2006-02-15 04:46:27.000</td>\n",
       "    </tr>\n",
       "  </tbody>\n",
       "</table>\n",
       "</div>"
      ],
      "text/plain": [
       "    category_id         name              last_update\n",
       "0             1       Action  2006-02-15 04:46:27.000\n",
       "1             2    Animation  2006-02-15 04:46:27.000\n",
       "2             3     Children  2006-02-15 04:46:27.000\n",
       "3             4     Classics  2006-02-15 04:46:27.000\n",
       "4             5       Comedy  2006-02-15 04:46:27.000\n",
       "5             6  Documentary  2006-02-15 04:46:27.000\n",
       "6             7        Drama  2006-02-15 04:46:27.000\n",
       "7             8       Family  2006-02-15 04:46:27.000\n",
       "8             9      Foreign  2006-02-15 04:46:27.000\n",
       "9            10        Games  2006-02-15 04:46:27.000\n",
       "10           11       Horror  2006-02-15 04:46:27.000\n",
       "11           12        Music  2006-02-15 04:46:27.000\n",
       "12           13          New  2006-02-15 04:46:27.000\n",
       "13           14       Sci-Fi  2006-02-15 04:46:27.000\n",
       "14           15       Sports  2006-02-15 04:46:27.000\n",
       "15           16       Travel  2006-02-15 04:46:27.000"
      ]
     },
     "execution_count": 7,
     "metadata": {},
     "output_type": "execute_result"
    }
   ],
   "source": [
    "genreDataFrame   # ... to view the DataFrame containing the \"category\" table result set."
   ]
  },
  {
   "cell_type": "markdown",
   "metadata": {},
   "source": [
    "Below, a similar display process will be done by using the \"sqlDataFrame\" DataFrame instead. The simpler method below will be used for the remaining database practice work in this project."
   ]
  },
  {
   "cell_type": "code",
   "execution_count": 8,
   "metadata": {
    "collapsed": false,
    "scrolled": true
   },
   "outputs": [
    {
     "data": {
      "text/html": [
       "<div>\n",
       "<table border=\"1\" class=\"dataframe\">\n",
       "  <thead>\n",
       "    <tr style=\"text-align: right;\">\n",
       "      <th></th>\n",
       "      <th>category_id</th>\n",
       "      <th>name</th>\n",
       "      <th>last_update</th>\n",
       "    </tr>\n",
       "  </thead>\n",
       "  <tbody>\n",
       "    <tr>\n",
       "      <th>0</th>\n",
       "      <td>1</td>\n",
       "      <td>Action</td>\n",
       "      <td>2006-02-15 04:46:27.000</td>\n",
       "    </tr>\n",
       "    <tr>\n",
       "      <th>1</th>\n",
       "      <td>2</td>\n",
       "      <td>Animation</td>\n",
       "      <td>2006-02-15 04:46:27.000</td>\n",
       "    </tr>\n",
       "    <tr>\n",
       "      <th>2</th>\n",
       "      <td>3</td>\n",
       "      <td>Children</td>\n",
       "      <td>2006-02-15 04:46:27.000</td>\n",
       "    </tr>\n",
       "    <tr>\n",
       "      <th>3</th>\n",
       "      <td>4</td>\n",
       "      <td>Classics</td>\n",
       "      <td>2006-02-15 04:46:27.000</td>\n",
       "    </tr>\n",
       "    <tr>\n",
       "      <th>4</th>\n",
       "      <td>5</td>\n",
       "      <td>Comedy</td>\n",
       "      <td>2006-02-15 04:46:27.000</td>\n",
       "    </tr>\n",
       "    <tr>\n",
       "      <th>5</th>\n",
       "      <td>6</td>\n",
       "      <td>Documentary</td>\n",
       "      <td>2006-02-15 04:46:27.000</td>\n",
       "    </tr>\n",
       "    <tr>\n",
       "      <th>6</th>\n",
       "      <td>7</td>\n",
       "      <td>Drama</td>\n",
       "      <td>2006-02-15 04:46:27.000</td>\n",
       "    </tr>\n",
       "    <tr>\n",
       "      <th>7</th>\n",
       "      <td>8</td>\n",
       "      <td>Family</td>\n",
       "      <td>2006-02-15 04:46:27.000</td>\n",
       "    </tr>\n",
       "    <tr>\n",
       "      <th>8</th>\n",
       "      <td>9</td>\n",
       "      <td>Foreign</td>\n",
       "      <td>2006-02-15 04:46:27.000</td>\n",
       "    </tr>\n",
       "    <tr>\n",
       "      <th>9</th>\n",
       "      <td>10</td>\n",
       "      <td>Games</td>\n",
       "      <td>2006-02-15 04:46:27.000</td>\n",
       "    </tr>\n",
       "    <tr>\n",
       "      <th>10</th>\n",
       "      <td>11</td>\n",
       "      <td>Horror</td>\n",
       "      <td>2006-02-15 04:46:27.000</td>\n",
       "    </tr>\n",
       "    <tr>\n",
       "      <th>11</th>\n",
       "      <td>12</td>\n",
       "      <td>Music</td>\n",
       "      <td>2006-02-15 04:46:27.000</td>\n",
       "    </tr>\n",
       "    <tr>\n",
       "      <th>12</th>\n",
       "      <td>13</td>\n",
       "      <td>New</td>\n",
       "      <td>2006-02-15 04:46:27.000</td>\n",
       "    </tr>\n",
       "    <tr>\n",
       "      <th>13</th>\n",
       "      <td>14</td>\n",
       "      <td>Sci-Fi</td>\n",
       "      <td>2006-02-15 04:46:27.000</td>\n",
       "    </tr>\n",
       "    <tr>\n",
       "      <th>14</th>\n",
       "      <td>15</td>\n",
       "      <td>Sports</td>\n",
       "      <td>2006-02-15 04:46:27.000</td>\n",
       "    </tr>\n",
       "    <tr>\n",
       "      <th>15</th>\n",
       "      <td>16</td>\n",
       "      <td>Travel</td>\n",
       "      <td>2006-02-15 04:46:27.000</td>\n",
       "    </tr>\n",
       "  </tbody>\n",
       "</table>\n",
       "</div>"
      ],
      "text/plain": [
       "    category_id         name              last_update\n",
       "0             1       Action  2006-02-15 04:46:27.000\n",
       "1             2    Animation  2006-02-15 04:46:27.000\n",
       "2             3     Children  2006-02-15 04:46:27.000\n",
       "3             4     Classics  2006-02-15 04:46:27.000\n",
       "4             5       Comedy  2006-02-15 04:46:27.000\n",
       "5             6  Documentary  2006-02-15 04:46:27.000\n",
       "6             7        Drama  2006-02-15 04:46:27.000\n",
       "7             8       Family  2006-02-15 04:46:27.000\n",
       "8             9      Foreign  2006-02-15 04:46:27.000\n",
       "9            10        Games  2006-02-15 04:46:27.000\n",
       "10           11       Horror  2006-02-15 04:46:27.000\n",
       "11           12        Music  2006-02-15 04:46:27.000\n",
       "12           13          New  2006-02-15 04:46:27.000\n",
       "13           14       Sci-Fi  2006-02-15 04:46:27.000\n",
       "14           15       Sports  2006-02-15 04:46:27.000\n",
       "15           16       Travel  2006-02-15 04:46:27.000"
      ]
     },
     "execution_count": 8,
     "metadata": {},
     "output_type": "execute_result"
    }
   ],
   "source": [
    "sqlDataFrame(genresQuery)"
   ]
  },
  {
   "cell_type": "markdown",
   "metadata": {
    "collapsed": false
   },
   "source": [
    "It is possible to select multiple columns. To do that as practice here, an object named “stockQuery” will be made with SQL syntax passed through it. The command will have it SELECT the “rental_date”, “return_date”, and “last_update” columns from the “rental” table. A semicolon will end this query as usual."
   ]
  },
  {
   "cell_type": "code",
   "execution_count": 9,
   "metadata": {
    "collapsed": false
   },
   "outputs": [],
   "source": [
    "stockQuery = ''' SELECT rental_date, return_date, last_update \n",
    "                 FROM rental; '''"
   ]
  },
  {
   "cell_type": "code",
   "execution_count": 10,
   "metadata": {
    "collapsed": false
   },
   "outputs": [
    {
     "data": {
      "text/html": [
       "<div>\n",
       "<table border=\"1\" class=\"dataframe\">\n",
       "  <thead>\n",
       "    <tr style=\"text-align: right;\">\n",
       "      <th></th>\n",
       "      <th>rental_date</th>\n",
       "      <th>return_date</th>\n",
       "      <th>last_update</th>\n",
       "    </tr>\n",
       "  </thead>\n",
       "  <tbody>\n",
       "    <tr>\n",
       "      <th>0</th>\n",
       "      <td>2005-05-24 22:53:30.000</td>\n",
       "      <td>2005-05-26 22:04:30.000</td>\n",
       "      <td>2011-09-14 18:10:44</td>\n",
       "    </tr>\n",
       "    <tr>\n",
       "      <th>1</th>\n",
       "      <td>2005-05-24 22:54:33.000</td>\n",
       "      <td>2005-05-28 19:40:33.000</td>\n",
       "      <td>2011-09-14 18:10:44</td>\n",
       "    </tr>\n",
       "    <tr>\n",
       "      <th>2</th>\n",
       "      <td>2005-05-24 23:03:39.000</td>\n",
       "      <td>2005-06-01 22:12:39.000</td>\n",
       "      <td>2011-09-14 18:10:44</td>\n",
       "    </tr>\n",
       "    <tr>\n",
       "      <th>3</th>\n",
       "      <td>2005-05-24 23:04:41.000</td>\n",
       "      <td>2005-06-03 01:43:41.000</td>\n",
       "      <td>2011-09-14 18:10:44</td>\n",
       "    </tr>\n",
       "    <tr>\n",
       "      <th>4</th>\n",
       "      <td>2005-05-24 23:05:21.000</td>\n",
       "      <td>2005-06-02 04:33:21.000</td>\n",
       "      <td>2011-09-14 18:10:44</td>\n",
       "    </tr>\n",
       "  </tbody>\n",
       "</table>\n",
       "</div>"
      ],
      "text/plain": [
       "               rental_date              return_date          last_update\n",
       "0  2005-05-24 22:53:30.000  2005-05-26 22:04:30.000  2011-09-14 18:10:44\n",
       "1  2005-05-24 22:54:33.000  2005-05-28 19:40:33.000  2011-09-14 18:10:44\n",
       "2  2005-05-24 23:03:39.000  2005-06-01 22:12:39.000  2011-09-14 18:10:44\n",
       "3  2005-05-24 23:04:41.000  2005-06-03 01:43:41.000  2011-09-14 18:10:44\n",
       "4  2005-05-24 23:05:21.000  2005-06-02 04:33:21.000  2011-09-14 18:10:44"
      ]
     },
     "execution_count": 10,
     "metadata": {},
     "output_type": "execute_result"
    }
   ],
   "source": [
    "sqlDataFrame(stockQuery).head()"
   ]
  },
  {
   "cell_type": "markdown",
   "metadata": {
    "collapsed": false
   },
   "source": [
    "Next, a check will be done to see how many language options are available for the mock movies in the collection. To do that, the DISTINCT keyword will be used to return only distinct/unique “language_ids” from the “language” table."
   ]
  },
  {
   "cell_type": "code",
   "execution_count": 11,
   "metadata": {
    "collapsed": false
   },
   "outputs": [],
   "source": [
    "languageQuery = ''' SELECT DISTINCT(language_id)\n",
    "                    FROM language; '''"
   ]
  },
  {
   "cell_type": "code",
   "execution_count": 12,
   "metadata": {
    "collapsed": false
   },
   "outputs": [
    {
     "data": {
      "text/html": [
       "<div>\n",
       "<table border=\"1\" class=\"dataframe\">\n",
       "  <thead>\n",
       "    <tr style=\"text-align: right;\">\n",
       "      <th></th>\n",
       "      <th>language_id</th>\n",
       "    </tr>\n",
       "  </thead>\n",
       "  <tbody>\n",
       "    <tr>\n",
       "      <th>0</th>\n",
       "      <td>1</td>\n",
       "    </tr>\n",
       "    <tr>\n",
       "      <th>1</th>\n",
       "      <td>2</td>\n",
       "    </tr>\n",
       "    <tr>\n",
       "      <th>2</th>\n",
       "      <td>3</td>\n",
       "    </tr>\n",
       "    <tr>\n",
       "      <th>3</th>\n",
       "      <td>4</td>\n",
       "    </tr>\n",
       "    <tr>\n",
       "      <th>4</th>\n",
       "      <td>5</td>\n",
       "    </tr>\n",
       "    <tr>\n",
       "      <th>5</th>\n",
       "      <td>6</td>\n",
       "    </tr>\n",
       "  </tbody>\n",
       "</table>\n",
       "</div>"
      ],
      "text/plain": [
       "   language_id\n",
       "0            1\n",
       "1            2\n",
       "2            3\n",
       "3            4\n",
       "4            5\n",
       "5            6"
      ]
     },
     "execution_count": 12,
     "metadata": {},
     "output_type": "execute_result"
    }
   ],
   "source": [
    "sqlDataFrame(languageQuery)   # Taking a look at the result"
   ]
  },
  {
   "cell_type": "markdown",
   "metadata": {
    "collapsed": false,
    "scrolled": true
   },
   "source": [
    "A check will be done below to see which customers have spent at least $10 with the rental chain. To do that, the WHERE clause will be used to filter through the “payment” table to find customers who have spent an “amount” greater than or equal to “10”."
   ]
  },
  {
   "cell_type": "code",
   "execution_count": 13,
   "metadata": {
    "collapsed": false
   },
   "outputs": [],
   "source": [
    "spendQuery = ''' SELECT *\n",
    "                 FROM payment\n",
    "                 WHERE amount >= 10; '''"
   ]
  },
  {
   "cell_type": "code",
   "execution_count": 14,
   "metadata": {
    "collapsed": false
   },
   "outputs": [
    {
     "data": {
      "text/html": [
       "<div>\n",
       "<table border=\"1\" class=\"dataframe\">\n",
       "  <thead>\n",
       "    <tr style=\"text-align: right;\">\n",
       "      <th></th>\n",
       "      <th>payment_id</th>\n",
       "      <th>customer_id</th>\n",
       "      <th>staff_id</th>\n",
       "      <th>rental_id</th>\n",
       "      <th>amount</th>\n",
       "      <th>payment_date</th>\n",
       "      <th>last_update</th>\n",
       "    </tr>\n",
       "  </thead>\n",
       "  <tbody>\n",
       "    <tr>\n",
       "      <th>113</th>\n",
       "      <td>15947</td>\n",
       "      <td>595</td>\n",
       "      <td>2</td>\n",
       "      <td>9826</td>\n",
       "      <td>10.99</td>\n",
       "      <td>2005-07-31 11:51:46.000</td>\n",
       "      <td>2011-09-14 18:31:34</td>\n",
       "    </tr>\n",
       "  </tbody>\n",
       "</table>\n",
       "</div>"
      ],
      "text/plain": [
       "     payment_id  customer_id  staff_id  rental_id  amount  \\\n",
       "113       15947          595         2       9826   10.99   \n",
       "\n",
       "                payment_date          last_update  \n",
       "113  2005-07-31 11:51:46.000  2011-09-14 18:31:34  "
      ]
     },
     "execution_count": 14,
     "metadata": {},
     "output_type": "execute_result"
    }
   ],
   "source": [
    "sqlDataFrame(spendQuery).tail(1)   # Looking at the tail end to see the amount of customers"
   ]
  },
  {
   "cell_type": "markdown",
   "metadata": {},
   "source": [
    "Next, to practice filtering using more than one condition, the AND operator will be used to SELECT every (\"*\") \"film\" within the chain's collection of the \"release_year\" “2006” that has a \"rating\" of “PG”."
   ]
  },
  {
   "cell_type": "code",
   "execution_count": 15,
   "metadata": {
    "collapsed": true
   },
   "outputs": [],
   "source": [
    "pgQuery = ''' SELECT *\n",
    "              FROM film\n",
    "              WHERE release_year = 2006\n",
    "              AND rating = \"PG\"; '''"
   ]
  },
  {
   "cell_type": "code",
   "execution_count": 16,
   "metadata": {
    "collapsed": false
   },
   "outputs": [
    {
     "data": {
      "text/html": [
       "<div>\n",
       "<table border=\"1\" class=\"dataframe\">\n",
       "  <thead>\n",
       "    <tr style=\"text-align: right;\">\n",
       "      <th></th>\n",
       "      <th>film_id</th>\n",
       "      <th>title</th>\n",
       "      <th>description</th>\n",
       "      <th>release_year</th>\n",
       "      <th>language_id</th>\n",
       "      <th>original_language_id</th>\n",
       "      <th>rental_duration</th>\n",
       "      <th>rental_rate</th>\n",
       "      <th>length</th>\n",
       "      <th>replacement_cost</th>\n",
       "      <th>rating</th>\n",
       "      <th>special_features</th>\n",
       "      <th>last_update</th>\n",
       "    </tr>\n",
       "  </thead>\n",
       "  <tbody>\n",
       "    <tr>\n",
       "      <th>193</th>\n",
       "      <td>991</td>\n",
       "      <td>WORST BANGER</td>\n",
       "      <td>A Thrilling Drama of a Madman And a Dentist wh...</td>\n",
       "      <td>2006</td>\n",
       "      <td>1</td>\n",
       "      <td>None</td>\n",
       "      <td>4</td>\n",
       "      <td>2.99</td>\n",
       "      <td>185</td>\n",
       "      <td>26.99</td>\n",
       "      <td>PG</td>\n",
       "      <td>Deleted Scenes,Behind the Scenes</td>\n",
       "      <td>2011-09-14 18:05:56</td>\n",
       "    </tr>\n",
       "  </tbody>\n",
       "</table>\n",
       "</div>"
      ],
      "text/plain": [
       "     film_id         title                                        description  \\\n",
       "193      991  WORST BANGER  A Thrilling Drama of a Madman And a Dentist wh...   \n",
       "\n",
       "    release_year  language_id original_language_id  rental_duration  \\\n",
       "193         2006            1                 None                4   \n",
       "\n",
       "     rental_rate  length  replacement_cost rating  \\\n",
       "193         2.99     185             26.99     PG   \n",
       "\n",
       "                     special_features          last_update  \n",
       "193  Deleted Scenes,Behind the Scenes  2011-09-14 18:05:56  "
      ]
     },
     "execution_count": 16,
     "metadata": {},
     "output_type": "execute_result"
    }
   ],
   "source": [
    "sqlDataFrame(pgQuery).tail(1)   # Looking at the tail end to see the number of 2006 PG movies"
   ]
  },
  {
   "cell_type": "markdown",
   "metadata": {},
   "source": [
    "In a similar filtering process as above (i.e. - scanning through the table while looking for two conditions in weighing whether to return a record) below, the object will be set to display a record if either of two conditions are true. Specifically, the “adultQuery” object will be set to SELECT all (\"*\") films from the “film” table that are rated “R” or “NC-17”, to find the more mature movies in the mock rental chain’s system."
   ]
  },
  {
   "cell_type": "code",
   "execution_count": 17,
   "metadata": {
    "collapsed": true
   },
   "outputs": [],
   "source": [
    "matureQuery = ''' SELECT *\n",
    "                  FROM film\n",
    "                  WHERE rating = \"R\"\n",
    "                  OR rating = \"NC-17\"; '''"
   ]
  },
  {
   "cell_type": "code",
   "execution_count": 18,
   "metadata": {
    "collapsed": false
   },
   "outputs": [
    {
     "data": {
      "text/html": [
       "<div>\n",
       "<table border=\"1\" class=\"dataframe\">\n",
       "  <thead>\n",
       "    <tr style=\"text-align: right;\">\n",
       "      <th></th>\n",
       "      <th>film_id</th>\n",
       "      <th>title</th>\n",
       "      <th>description</th>\n",
       "      <th>release_year</th>\n",
       "      <th>language_id</th>\n",
       "      <th>original_language_id</th>\n",
       "      <th>rental_duration</th>\n",
       "      <th>rental_rate</th>\n",
       "      <th>length</th>\n",
       "      <th>replacement_cost</th>\n",
       "      <th>rating</th>\n",
       "      <th>special_features</th>\n",
       "      <th>last_update</th>\n",
       "    </tr>\n",
       "  </thead>\n",
       "  <tbody>\n",
       "    <tr>\n",
       "      <th>404</th>\n",
       "      <td>1000</td>\n",
       "      <td>ZORRO ARK</td>\n",
       "      <td>A Intrepid Panorama of a Mad Scientist And a B...</td>\n",
       "      <td>2006</td>\n",
       "      <td>1</td>\n",
       "      <td>None</td>\n",
       "      <td>3</td>\n",
       "      <td>4.99</td>\n",
       "      <td>50</td>\n",
       "      <td>18.99</td>\n",
       "      <td>NC-17</td>\n",
       "      <td>Trailers,Commentaries,Behind the Scenes</td>\n",
       "      <td>2011-09-14 18:05:56</td>\n",
       "    </tr>\n",
       "  </tbody>\n",
       "</table>\n",
       "</div>"
      ],
      "text/plain": [
       "     film_id      title                                        description  \\\n",
       "404     1000  ZORRO ARK  A Intrepid Panorama of a Mad Scientist And a B...   \n",
       "\n",
       "    release_year  language_id original_language_id  rental_duration  \\\n",
       "404         2006            1                 None                3   \n",
       "\n",
       "     rental_rate  length  replacement_cost rating  \\\n",
       "404         4.99      50             18.99  NC-17   \n",
       "\n",
       "                            special_features          last_update  \n",
       "404  Trailers,Commentaries,Behind the Scenes  2011-09-14 18:05:56  "
      ]
     },
     "execution_count": 18,
     "metadata": {},
     "output_type": "execute_result"
    }
   ],
   "source": [
    "sqlDataFrame(matureQuery).tail(1)   # Looking at the tail end to see the number of adult movies"
   ]
  },
  {
   "cell_type": "markdown",
   "metadata": {},
   "source": [
    "Next, the aggregate function COUNT will be used to return the number of customers that the mock rental chain has. To do that, a query called “customerQuery” will be set to SELECT the “customer_id” information contained in the “customer” table for counting the number of rows in that table. "
   ]
  },
  {
   "cell_type": "code",
   "execution_count": 19,
   "metadata": {
    "collapsed": false
   },
   "outputs": [],
   "source": [
    "customerQuery = ''' SELECT COUNT(customer_id)\n",
    "                    FROM customer; '''"
   ]
  },
  {
   "cell_type": "code",
   "execution_count": 20,
   "metadata": {
    "collapsed": false
   },
   "outputs": [
    {
     "data": {
      "text/html": [
       "<div>\n",
       "<table border=\"1\" class=\"dataframe\">\n",
       "  <thead>\n",
       "    <tr style=\"text-align: right;\">\n",
       "      <th></th>\n",
       "      <th>COUNT(customer_id)</th>\n",
       "    </tr>\n",
       "  </thead>\n",
       "  <tbody>\n",
       "    <tr>\n",
       "      <th>0</th>\n",
       "      <td>599</td>\n",
       "    </tr>\n",
       "  </tbody>\n",
       "</table>\n",
       "</div>"
      ],
      "text/plain": [
       "   COUNT(customer_id)\n",
       "0                 599"
      ]
     },
     "execution_count": 20,
     "metadata": {},
     "output_type": "execute_result"
    }
   ],
   "source": [
    "sqlDataFrame(customerQuery)   # Seeing how many customers there are."
   ]
  },
  {
   "cell_type": "markdown",
   "metadata": {},
   "source": [
    "Next, all of the mock movies in the “film” table that are rated either “PG” or “PG-13” will be found and tallied. The SQL LIKE operator will be used because the “%” wildcard character will be given in the WHERE clause. When a substitute like that (i.e. - either the “_”, “%”, or [character_list] wildcards) are used, the LIKE operator is needed to support it. "
   ]
  },
  {
   "cell_type": "code",
   "execution_count": 21,
   "metadata": {
    "collapsed": false
   },
   "outputs": [],
   "source": [
    "pg13Qquery = ''' SELECT *\n",
    "                 FROM film\n",
    "                 WHERE rating LIKE \"PG%\"; '''"
   ]
  },
  {
   "cell_type": "code",
   "execution_count": 22,
   "metadata": {
    "collapsed": false
   },
   "outputs": [
    {
     "data": {
      "text/html": [
       "<div>\n",
       "<table border=\"1\" class=\"dataframe\">\n",
       "  <thead>\n",
       "    <tr style=\"text-align: right;\">\n",
       "      <th></th>\n",
       "      <th>film_id</th>\n",
       "      <th>title</th>\n",
       "      <th>description</th>\n",
       "      <th>release_year</th>\n",
       "      <th>language_id</th>\n",
       "      <th>original_language_id</th>\n",
       "      <th>rental_duration</th>\n",
       "      <th>rental_rate</th>\n",
       "      <th>length</th>\n",
       "      <th>replacement_cost</th>\n",
       "      <th>rating</th>\n",
       "      <th>special_features</th>\n",
       "      <th>last_update</th>\n",
       "    </tr>\n",
       "  </thead>\n",
       "  <tbody>\n",
       "    <tr>\n",
       "      <th>416</th>\n",
       "      <td>994</td>\n",
       "      <td>WYOMING STORM</td>\n",
       "      <td>A Awe-Inspiring Panorama of a Robot And a Boat...</td>\n",
       "      <td>2006</td>\n",
       "      <td>1</td>\n",
       "      <td>None</td>\n",
       "      <td>6</td>\n",
       "      <td>4.99</td>\n",
       "      <td>100</td>\n",
       "      <td>29.99</td>\n",
       "      <td>PG-13</td>\n",
       "      <td>Deleted Scenes</td>\n",
       "      <td>2011-09-14 18:05:56</td>\n",
       "    </tr>\n",
       "  </tbody>\n",
       "</table>\n",
       "</div>"
      ],
      "text/plain": [
       "     film_id          title  \\\n",
       "416      994  WYOMING STORM   \n",
       "\n",
       "                                           description release_year  \\\n",
       "416  A Awe-Inspiring Panorama of a Robot And a Boat...         2006   \n",
       "\n",
       "     language_id original_language_id  rental_duration  rental_rate  length  \\\n",
       "416            1                 None                6         4.99     100   \n",
       "\n",
       "     replacement_cost rating special_features          last_update  \n",
       "416             29.99  PG-13   Deleted Scenes  2011-09-14 18:05:56  "
      ]
     },
     "execution_count": 22,
     "metadata": {},
     "output_type": "execute_result"
    }
   ],
   "source": [
    "sqlDataFrame(pg13Qquery).tail(1)   # Looking at the tail end to see the number of those movies"
   ]
  },
  {
   "cell_type": "markdown",
   "metadata": {},
   "source": [
    "The \"_\" wildcard substitutes for a single character. It will be used below to search using postal codes to find customers whose addresses are in a certain area. Specifically, the \"address\" table will be scanned for \"postal_code\" values that are either \"69220\", \"69221\", \"69222\", \"69223\", \"69224\", \"69225\", \"69226\", \"69227\", \"69228\", or \"69229\"."
   ]
  },
  {
   "cell_type": "code",
   "execution_count": 23,
   "metadata": {
    "collapsed": true
   },
   "outputs": [],
   "source": [
    "directMailQuery = ''' SELECT *\n",
    "                      FROM address\n",
    "                      WHERE postal_code LIKE \"6922_\"; '''"
   ]
  },
  {
   "cell_type": "code",
   "execution_count": 24,
   "metadata": {
    "collapsed": false
   },
   "outputs": [
    {
     "data": {
      "text/html": [
       "<div>\n",
       "<table border=\"1\" class=\"dataframe\">\n",
       "  <thead>\n",
       "    <tr style=\"text-align: right;\">\n",
       "      <th></th>\n",
       "      <th>address_id</th>\n",
       "      <th>address</th>\n",
       "      <th>address2</th>\n",
       "      <th>district</th>\n",
       "      <th>city_id</th>\n",
       "      <th>postal_code</th>\n",
       "      <th>phone</th>\n",
       "      <th>last_update</th>\n",
       "    </tr>\n",
       "  </thead>\n",
       "  <tbody>\n",
       "    <tr>\n",
       "      <th>0</th>\n",
       "      <td>62</td>\n",
       "      <td>1114 Liepaja Street</td>\n",
       "      <td>None</td>\n",
       "      <td></td>\n",
       "      <td>282</td>\n",
       "      <td>69226</td>\n",
       "      <td></td>\n",
       "      <td>2011-09-14 18:05:17</td>\n",
       "    </tr>\n",
       "    <tr>\n",
       "      <th>1</th>\n",
       "      <td>478</td>\n",
       "      <td>1078 Stara Zagora Drive</td>\n",
       "      <td>None</td>\n",
       "      <td></td>\n",
       "      <td>301</td>\n",
       "      <td>69221</td>\n",
       "      <td></td>\n",
       "      <td>2011-09-14 18:05:25</td>\n",
       "    </tr>\n",
       "  </tbody>\n",
       "</table>\n",
       "</div>"
      ],
      "text/plain": [
       "   address_id                  address address2 district  city_id postal_code  \\\n",
       "0          62      1114 Liepaja Street     None               282       69226   \n",
       "1         478  1078 Stara Zagora Drive     None               301       69221   \n",
       "\n",
       "  phone          last_update  \n",
       "0        2011-09-14 18:05:17  \n",
       "1        2011-09-14 18:05:25  "
      ]
     },
     "execution_count": 24,
     "metadata": {},
     "output_type": "execute_result"
    }
   ],
   "source": [
    "sqlDataFrame(directMailQuery)"
   ]
  },
  {
   "cell_type": "markdown",
   "metadata": {},
   "source": [
    "Next, all mock movies that have either “Deleted Scenes” or “Behind the Scenes” content as special features will be found. To do that, the “film” table will be scanned and the “special_features” column will be checked for movies with those two ranges of characters. \n",
    "\n",
    "Putting the character_list operator to use with SQLite does not work in the same way that it does when using that wildcard with other SQL formats (like MySQL, for example). Accordingly, instead of using the LIKE operator, GLOB will be used to support this task in SQL with Python, Pandas, and SQLite. Then, the character list will follow, passed as a combined string containing both features - “[Deleted ScenesBehind the Scenes]”."
   ]
  },
  {
   "cell_type": "code",
   "execution_count": 25,
   "metadata": {
    "collapsed": false
   },
   "outputs": [],
   "source": [
    "extrasQuery = ''' SELECT *\n",
    "                  FROM film\n",
    "                  WHERE special_features GLOB \"[Deleted ScenesBehind the Scenes]*\"; '''"
   ]
  },
  {
   "cell_type": "code",
   "execution_count": 26,
   "metadata": {
    "collapsed": false
   },
   "outputs": [
    {
     "data": {
      "text/html": [
       "<div>\n",
       "<table border=\"1\" class=\"dataframe\">\n",
       "  <thead>\n",
       "    <tr style=\"text-align: right;\">\n",
       "      <th></th>\n",
       "      <th>film_id</th>\n",
       "      <th>title</th>\n",
       "      <th>description</th>\n",
       "      <th>release_year</th>\n",
       "      <th>language_id</th>\n",
       "      <th>original_language_id</th>\n",
       "      <th>rental_duration</th>\n",
       "      <th>rental_rate</th>\n",
       "      <th>length</th>\n",
       "      <th>replacement_cost</th>\n",
       "      <th>rating</th>\n",
       "      <th>special_features</th>\n",
       "      <th>last_update</th>\n",
       "    </tr>\n",
       "  </thead>\n",
       "  <tbody>\n",
       "    <tr>\n",
       "      <th>199</th>\n",
       "      <td>991</td>\n",
       "      <td>WORST BANGER</td>\n",
       "      <td>A Thrilling Drama of a Madman And a Dentist wh...</td>\n",
       "      <td>2006</td>\n",
       "      <td>1</td>\n",
       "      <td>None</td>\n",
       "      <td>4</td>\n",
       "      <td>2.99</td>\n",
       "      <td>185</td>\n",
       "      <td>26.99</td>\n",
       "      <td>PG</td>\n",
       "      <td>Deleted Scenes,Behind the Scenes</td>\n",
       "      <td>2011-09-14 18:05:56</td>\n",
       "    </tr>\n",
       "    <tr>\n",
       "      <th>200</th>\n",
       "      <td>994</td>\n",
       "      <td>WYOMING STORM</td>\n",
       "      <td>A Awe-Inspiring Panorama of a Robot And a Boat...</td>\n",
       "      <td>2006</td>\n",
       "      <td>1</td>\n",
       "      <td>None</td>\n",
       "      <td>6</td>\n",
       "      <td>4.99</td>\n",
       "      <td>100</td>\n",
       "      <td>29.99</td>\n",
       "      <td>PG-13</td>\n",
       "      <td>Deleted Scenes</td>\n",
       "      <td>2011-09-14 18:05:56</td>\n",
       "    </tr>\n",
       "    <tr>\n",
       "      <th>201</th>\n",
       "      <td>998</td>\n",
       "      <td>ZHIVAGO CORE</td>\n",
       "      <td>A Fateful Yarn of a Composer And a Man who mus...</td>\n",
       "      <td>2006</td>\n",
       "      <td>1</td>\n",
       "      <td>None</td>\n",
       "      <td>6</td>\n",
       "      <td>0.99</td>\n",
       "      <td>105</td>\n",
       "      <td>10.99</td>\n",
       "      <td>NC-17</td>\n",
       "      <td>Deleted Scenes</td>\n",
       "      <td>2011-09-14 18:05:56</td>\n",
       "    </tr>\n",
       "  </tbody>\n",
       "</table>\n",
       "</div>"
      ],
      "text/plain": [
       "     film_id          title  \\\n",
       "199      991   WORST BANGER   \n",
       "200      994  WYOMING STORM   \n",
       "201      998   ZHIVAGO CORE   \n",
       "\n",
       "                                           description release_year  \\\n",
       "199  A Thrilling Drama of a Madman And a Dentist wh...         2006   \n",
       "200  A Awe-Inspiring Panorama of a Robot And a Boat...         2006   \n",
       "201  A Fateful Yarn of a Composer And a Man who mus...         2006   \n",
       "\n",
       "     language_id original_language_id  rental_duration  rental_rate  length  \\\n",
       "199            1                 None                4         2.99     185   \n",
       "200            1                 None                6         4.99     100   \n",
       "201            1                 None                6         0.99     105   \n",
       "\n",
       "     replacement_cost rating                  special_features  \\\n",
       "199             26.99     PG  Deleted Scenes,Behind the Scenes   \n",
       "200             29.99  PG-13                    Deleted Scenes   \n",
       "201             10.99  NC-17                    Deleted Scenes   \n",
       "\n",
       "             last_update  \n",
       "199  2011-09-14 18:05:56  \n",
       "200  2011-09-14 18:05:56  \n",
       "201  2011-09-14 18:05:56  "
      ]
     },
     "execution_count": 26,
     "metadata": {},
     "output_type": "execute_result"
    }
   ],
   "source": [
    "sqlDataFrame(extrasQuery).tail(3)"
   ]
  },
  {
   "cell_type": "markdown",
   "metadata": {},
   "source": [
    "Below, SQL ORDER BY will be used for a simple query within which, customer last names will be  ordered alphabetically."
   ]
  },
  {
   "cell_type": "code",
   "execution_count": 27,
   "metadata": {
    "collapsed": false
   },
   "outputs": [],
   "source": [
    "nameQuery = ''' SELECT *\n",
    "                FROM customer\n",
    "                ORDER BY last_name; '''"
   ]
  },
  {
   "cell_type": "code",
   "execution_count": 28,
   "metadata": {
    "collapsed": false,
    "scrolled": true
   },
   "outputs": [
    {
     "data": {
      "text/html": [
       "<div>\n",
       "<table border=\"1\" class=\"dataframe\">\n",
       "  <thead>\n",
       "    <tr style=\"text-align: right;\">\n",
       "      <th></th>\n",
       "      <th>customer_id</th>\n",
       "      <th>store_id</th>\n",
       "      <th>first_name</th>\n",
       "      <th>last_name</th>\n",
       "      <th>email</th>\n",
       "      <th>address_id</th>\n",
       "      <th>active</th>\n",
       "      <th>create_date</th>\n",
       "      <th>last_update</th>\n",
       "    </tr>\n",
       "  </thead>\n",
       "  <tbody>\n",
       "    <tr>\n",
       "      <th>0</th>\n",
       "      <td>505</td>\n",
       "      <td>1</td>\n",
       "      <td>RAFAEL</td>\n",
       "      <td>ABNEY</td>\n",
       "      <td>RAFAEL.ABNEY@sakilacustomer.org</td>\n",
       "      <td>510</td>\n",
       "      <td>1</td>\n",
       "      <td>2006-02-14 22:04:37.000</td>\n",
       "      <td>2011-09-14 18:10:42</td>\n",
       "    </tr>\n",
       "    <tr>\n",
       "      <th>1</th>\n",
       "      <td>504</td>\n",
       "      <td>1</td>\n",
       "      <td>NATHANIEL</td>\n",
       "      <td>ADAM</td>\n",
       "      <td>NATHANIEL.ADAM@sakilacustomer.org</td>\n",
       "      <td>509</td>\n",
       "      <td>1</td>\n",
       "      <td>2006-02-14 22:04:37.000</td>\n",
       "      <td>2011-09-14 18:10:42</td>\n",
       "    </tr>\n",
       "    <tr>\n",
       "      <th>2</th>\n",
       "      <td>36</td>\n",
       "      <td>2</td>\n",
       "      <td>KATHLEEN</td>\n",
       "      <td>ADAMS</td>\n",
       "      <td>KATHLEEN.ADAMS@sakilacustomer.org</td>\n",
       "      <td>40</td>\n",
       "      <td>1</td>\n",
       "      <td>2006-02-14 22:04:36.000</td>\n",
       "      <td>2011-09-14 18:10:29</td>\n",
       "    </tr>\n",
       "    <tr>\n",
       "      <th>3</th>\n",
       "      <td>96</td>\n",
       "      <td>1</td>\n",
       "      <td>DIANA</td>\n",
       "      <td>ALEXANDER</td>\n",
       "      <td>DIANA.ALEXANDER@sakilacustomer.org</td>\n",
       "      <td>100</td>\n",
       "      <td>1</td>\n",
       "      <td>2006-02-14 22:04:36.000</td>\n",
       "      <td>2011-09-14 18:10:30</td>\n",
       "    </tr>\n",
       "    <tr>\n",
       "      <th>4</th>\n",
       "      <td>470</td>\n",
       "      <td>1</td>\n",
       "      <td>GORDON</td>\n",
       "      <td>ALLARD</td>\n",
       "      <td>GORDON.ALLARD@sakilacustomer.org</td>\n",
       "      <td>475</td>\n",
       "      <td>1</td>\n",
       "      <td>2006-02-14 22:04:37.000</td>\n",
       "      <td>2011-09-14 18:10:41</td>\n",
       "    </tr>\n",
       "    <tr>\n",
       "      <th>5</th>\n",
       "      <td>27</td>\n",
       "      <td>2</td>\n",
       "      <td>SHIRLEY</td>\n",
       "      <td>ALLEN</td>\n",
       "      <td>SHIRLEY.ALLEN@sakilacustomer.org</td>\n",
       "      <td>31</td>\n",
       "      <td>1</td>\n",
       "      <td>2006-02-14 22:04:36.000</td>\n",
       "      <td>2011-09-14 18:10:29</td>\n",
       "    </tr>\n",
       "    <tr>\n",
       "      <th>6</th>\n",
       "      <td>220</td>\n",
       "      <td>2</td>\n",
       "      <td>CHARLENE</td>\n",
       "      <td>ALVAREZ</td>\n",
       "      <td>CHARLENE.ALVAREZ@sakilacustomer.org</td>\n",
       "      <td>224</td>\n",
       "      <td>1</td>\n",
       "      <td>2006-02-14 22:04:36.000</td>\n",
       "      <td>2011-09-14 18:10:34</td>\n",
       "    </tr>\n",
       "    <tr>\n",
       "      <th>7</th>\n",
       "      <td>11</td>\n",
       "      <td>2</td>\n",
       "      <td>LISA</td>\n",
       "      <td>ANDERSON</td>\n",
       "      <td>LISA.ANDERSON@sakilacustomer.org</td>\n",
       "      <td>15</td>\n",
       "      <td>1</td>\n",
       "      <td>2006-02-14 22:04:36.000</td>\n",
       "      <td>2011-09-14 18:10:28</td>\n",
       "    </tr>\n",
       "    <tr>\n",
       "      <th>8</th>\n",
       "      <td>326</td>\n",
       "      <td>1</td>\n",
       "      <td>JOSE</td>\n",
       "      <td>ANDREW</td>\n",
       "      <td>JOSE.ANDREW@sakilacustomer.org</td>\n",
       "      <td>331</td>\n",
       "      <td>1</td>\n",
       "      <td>2006-02-14 22:04:37.000</td>\n",
       "      <td>2011-09-14 18:10:37</td>\n",
       "    </tr>\n",
       "    <tr>\n",
       "      <th>9</th>\n",
       "      <td>183</td>\n",
       "      <td>2</td>\n",
       "      <td>IDA</td>\n",
       "      <td>ANDREWS</td>\n",
       "      <td>IDA.ANDREWS@sakilacustomer.org</td>\n",
       "      <td>187</td>\n",
       "      <td>1</td>\n",
       "      <td>2006-02-14 22:04:36.000</td>\n",
       "      <td>2011-09-14 18:10:32</td>\n",
       "    </tr>\n",
       "    <tr>\n",
       "      <th>10</th>\n",
       "      <td>449</td>\n",
       "      <td>2</td>\n",
       "      <td>OSCAR</td>\n",
       "      <td>AQUINO</td>\n",
       "      <td>OSCAR.AQUINO@sakilacustomer.org</td>\n",
       "      <td>454</td>\n",
       "      <td>1</td>\n",
       "      <td>2006-02-14 22:04:37.000</td>\n",
       "      <td>2011-09-14 18:10:41</td>\n",
       "    </tr>\n",
       "    <tr>\n",
       "      <th>11</th>\n",
       "      <td>368</td>\n",
       "      <td>1</td>\n",
       "      <td>HARRY</td>\n",
       "      <td>ARCE</td>\n",
       "      <td>HARRY.ARCE@sakilacustomer.org</td>\n",
       "      <td>373</td>\n",
       "      <td>0</td>\n",
       "      <td>2006-02-14 22:04:37.000</td>\n",
       "      <td>2011-09-14 18:10:38</td>\n",
       "    </tr>\n",
       "    <tr>\n",
       "      <th>12</th>\n",
       "      <td>560</td>\n",
       "      <td>1</td>\n",
       "      <td>JORDAN</td>\n",
       "      <td>ARCHULETA</td>\n",
       "      <td>JORDAN.ARCHULETA@sakilacustomer.org</td>\n",
       "      <td>566</td>\n",
       "      <td>1</td>\n",
       "      <td>2006-02-14 22:04:37.000</td>\n",
       "      <td>2011-09-14 18:10:43</td>\n",
       "    </tr>\n",
       "    <tr>\n",
       "      <th>13</th>\n",
       "      <td>188</td>\n",
       "      <td>1</td>\n",
       "      <td>MELANIE</td>\n",
       "      <td>ARMSTRONG</td>\n",
       "      <td>MELANIE.ARMSTRONG@sakilacustomer.org</td>\n",
       "      <td>192</td>\n",
       "      <td>1</td>\n",
       "      <td>2006-02-14 22:04:36.000</td>\n",
       "      <td>2011-09-14 18:10:32</td>\n",
       "    </tr>\n",
       "    <tr>\n",
       "      <th>14</th>\n",
       "      <td>170</td>\n",
       "      <td>1</td>\n",
       "      <td>BEATRICE</td>\n",
       "      <td>ARNOLD</td>\n",
       "      <td>BEATRICE.ARNOLD@sakilacustomer.org</td>\n",
       "      <td>174</td>\n",
       "      <td>1</td>\n",
       "      <td>2006-02-14 22:04:36.000</td>\n",
       "      <td>2011-09-14 18:10:32</td>\n",
       "    </tr>\n",
       "    <tr>\n",
       "      <th>15</th>\n",
       "      <td>591</td>\n",
       "      <td>1</td>\n",
       "      <td>KENT</td>\n",
       "      <td>ARSENAULT</td>\n",
       "      <td>KENT.ARSENAULT@sakilacustomer.org</td>\n",
       "      <td>597</td>\n",
       "      <td>1</td>\n",
       "      <td>2006-02-14 22:04:37.000</td>\n",
       "      <td>2011-09-14 18:10:44</td>\n",
       "    </tr>\n",
       "    <tr>\n",
       "      <th>16</th>\n",
       "      <td>345</td>\n",
       "      <td>1</td>\n",
       "      <td>CARL</td>\n",
       "      <td>ARTIS</td>\n",
       "      <td>CARL.ARTIS@sakilacustomer.org</td>\n",
       "      <td>350</td>\n",
       "      <td>1</td>\n",
       "      <td>2006-02-14 22:04:37.000</td>\n",
       "      <td>2011-09-14 18:10:38</td>\n",
       "    </tr>\n",
       "    <tr>\n",
       "      <th>17</th>\n",
       "      <td>530</td>\n",
       "      <td>2</td>\n",
       "      <td>DARRYL</td>\n",
       "      <td>ASHCRAFT</td>\n",
       "      <td>DARRYL.ASHCRAFT@sakilacustomer.org</td>\n",
       "      <td>536</td>\n",
       "      <td>1</td>\n",
       "      <td>2006-02-14 22:04:37.000</td>\n",
       "      <td>2011-09-14 18:10:43</td>\n",
       "    </tr>\n",
       "    <tr>\n",
       "      <th>18</th>\n",
       "      <td>540</td>\n",
       "      <td>1</td>\n",
       "      <td>TYRONE</td>\n",
       "      <td>ASHER</td>\n",
       "      <td>TYRONE.ASHER@sakilacustomer.org</td>\n",
       "      <td>546</td>\n",
       "      <td>1</td>\n",
       "      <td>2006-02-14 22:04:37.000</td>\n",
       "      <td>2011-09-14 18:10:43</td>\n",
       "    </tr>\n",
       "    <tr>\n",
       "      <th>19</th>\n",
       "      <td>196</td>\n",
       "      <td>1</td>\n",
       "      <td>ALMA</td>\n",
       "      <td>AUSTIN</td>\n",
       "      <td>ALMA.AUSTIN@sakilacustomer.org</td>\n",
       "      <td>200</td>\n",
       "      <td>1</td>\n",
       "      <td>2006-02-14 22:04:36.000</td>\n",
       "      <td>2011-09-14 18:10:32</td>\n",
       "    </tr>\n",
       "  </tbody>\n",
       "</table>\n",
       "</div>"
      ],
      "text/plain": [
       "    customer_id  store_id first_name  last_name  \\\n",
       "0           505         1     RAFAEL      ABNEY   \n",
       "1           504         1  NATHANIEL       ADAM   \n",
       "2            36         2   KATHLEEN      ADAMS   \n",
       "3            96         1      DIANA  ALEXANDER   \n",
       "4           470         1     GORDON     ALLARD   \n",
       "5            27         2    SHIRLEY      ALLEN   \n",
       "6           220         2   CHARLENE    ALVAREZ   \n",
       "7            11         2       LISA   ANDERSON   \n",
       "8           326         1       JOSE     ANDREW   \n",
       "9           183         2        IDA    ANDREWS   \n",
       "10          449         2      OSCAR     AQUINO   \n",
       "11          368         1      HARRY       ARCE   \n",
       "12          560         1     JORDAN  ARCHULETA   \n",
       "13          188         1    MELANIE  ARMSTRONG   \n",
       "14          170         1   BEATRICE     ARNOLD   \n",
       "15          591         1       KENT  ARSENAULT   \n",
       "16          345         1       CARL      ARTIS   \n",
       "17          530         2     DARRYL   ASHCRAFT   \n",
       "18          540         1     TYRONE      ASHER   \n",
       "19          196         1       ALMA     AUSTIN   \n",
       "\n",
       "                                   email  address_id active  \\\n",
       "0        RAFAEL.ABNEY@sakilacustomer.org         510      1   \n",
       "1      NATHANIEL.ADAM@sakilacustomer.org         509      1   \n",
       "2      KATHLEEN.ADAMS@sakilacustomer.org          40      1   \n",
       "3     DIANA.ALEXANDER@sakilacustomer.org         100      1   \n",
       "4       GORDON.ALLARD@sakilacustomer.org         475      1   \n",
       "5       SHIRLEY.ALLEN@sakilacustomer.org          31      1   \n",
       "6    CHARLENE.ALVAREZ@sakilacustomer.org         224      1   \n",
       "7       LISA.ANDERSON@sakilacustomer.org          15      1   \n",
       "8         JOSE.ANDREW@sakilacustomer.org         331      1   \n",
       "9         IDA.ANDREWS@sakilacustomer.org         187      1   \n",
       "10       OSCAR.AQUINO@sakilacustomer.org         454      1   \n",
       "11         HARRY.ARCE@sakilacustomer.org         373      0   \n",
       "12   JORDAN.ARCHULETA@sakilacustomer.org         566      1   \n",
       "13  MELANIE.ARMSTRONG@sakilacustomer.org         192      1   \n",
       "14    BEATRICE.ARNOLD@sakilacustomer.org         174      1   \n",
       "15     KENT.ARSENAULT@sakilacustomer.org         597      1   \n",
       "16         CARL.ARTIS@sakilacustomer.org         350      1   \n",
       "17    DARRYL.ASHCRAFT@sakilacustomer.org         536      1   \n",
       "18       TYRONE.ASHER@sakilacustomer.org         546      1   \n",
       "19        ALMA.AUSTIN@sakilacustomer.org         200      1   \n",
       "\n",
       "                create_date          last_update  \n",
       "0   2006-02-14 22:04:37.000  2011-09-14 18:10:42  \n",
       "1   2006-02-14 22:04:37.000  2011-09-14 18:10:42  \n",
       "2   2006-02-14 22:04:36.000  2011-09-14 18:10:29  \n",
       "3   2006-02-14 22:04:36.000  2011-09-14 18:10:30  \n",
       "4   2006-02-14 22:04:37.000  2011-09-14 18:10:41  \n",
       "5   2006-02-14 22:04:36.000  2011-09-14 18:10:29  \n",
       "6   2006-02-14 22:04:36.000  2011-09-14 18:10:34  \n",
       "7   2006-02-14 22:04:36.000  2011-09-14 18:10:28  \n",
       "8   2006-02-14 22:04:37.000  2011-09-14 18:10:37  \n",
       "9   2006-02-14 22:04:36.000  2011-09-14 18:10:32  \n",
       "10  2006-02-14 22:04:37.000  2011-09-14 18:10:41  \n",
       "11  2006-02-14 22:04:37.000  2011-09-14 18:10:38  \n",
       "12  2006-02-14 22:04:37.000  2011-09-14 18:10:43  \n",
       "13  2006-02-14 22:04:36.000  2011-09-14 18:10:32  \n",
       "14  2006-02-14 22:04:36.000  2011-09-14 18:10:32  \n",
       "15  2006-02-14 22:04:37.000  2011-09-14 18:10:44  \n",
       "16  2006-02-14 22:04:37.000  2011-09-14 18:10:38  \n",
       "17  2006-02-14 22:04:37.000  2011-09-14 18:10:43  \n",
       "18  2006-02-14 22:04:37.000  2011-09-14 18:10:43  \n",
       "19  2006-02-14 22:04:36.000  2011-09-14 18:10:32  "
      ]
     },
     "execution_count": 28,
     "metadata": {},
     "output_type": "execute_result"
    }
   ],
   "source": [
    "sqlDataFrame(nameQuery)[0:20]   # Viewing a sample of the results."
   ]
  },
  {
   "cell_type": "markdown",
   "metadata": {},
   "source": [
    "The same query as above will be done next, but with the names returned in descending alphabetical order instead. The DESC keyword will be used to indicate that shift in arrangement."
   ]
  },
  {
   "cell_type": "code",
   "execution_count": 29,
   "metadata": {
    "collapsed": false
   },
   "outputs": [],
   "source": [
    "descNameQuery = ''' SELECT *\n",
    "                    FROM customer\n",
    "                    ORDER BY last_name DESC; '''"
   ]
  },
  {
   "cell_type": "code",
   "execution_count": 30,
   "metadata": {
    "collapsed": false,
    "scrolled": true
   },
   "outputs": [
    {
     "data": {
      "text/html": [
       "<div>\n",
       "<table border=\"1\" class=\"dataframe\">\n",
       "  <thead>\n",
       "    <tr style=\"text-align: right;\">\n",
       "      <th></th>\n",
       "      <th>customer_id</th>\n",
       "      <th>store_id</th>\n",
       "      <th>first_name</th>\n",
       "      <th>last_name</th>\n",
       "      <th>email</th>\n",
       "      <th>address_id</th>\n",
       "      <th>active</th>\n",
       "      <th>create_date</th>\n",
       "      <th>last_update</th>\n",
       "    </tr>\n",
       "  </thead>\n",
       "  <tbody>\n",
       "    <tr>\n",
       "      <th>0</th>\n",
       "      <td>28</td>\n",
       "      <td>1</td>\n",
       "      <td>CYNTHIA</td>\n",
       "      <td>YOUNG</td>\n",
       "      <td>CYNTHIA.YOUNG@sakilacustomer.org</td>\n",
       "      <td>32</td>\n",
       "      <td>1</td>\n",
       "      <td>2006-02-14 22:04:36.000</td>\n",
       "      <td>2011-09-14 18:10:29</td>\n",
       "    </tr>\n",
       "    <tr>\n",
       "      <th>1</th>\n",
       "      <td>413</td>\n",
       "      <td>2</td>\n",
       "      <td>MARVIN</td>\n",
       "      <td>YEE</td>\n",
       "      <td>MARVIN.YEE@sakilacustomer.org</td>\n",
       "      <td>418</td>\n",
       "      <td>1</td>\n",
       "      <td>2006-02-14 22:04:37.000</td>\n",
       "      <td>2011-09-14 18:10:40</td>\n",
       "    </tr>\n",
       "    <tr>\n",
       "      <th>2</th>\n",
       "      <td>402</td>\n",
       "      <td>1</td>\n",
       "      <td>LUIS</td>\n",
       "      <td>YANEZ</td>\n",
       "      <td>LUIS.YANEZ@sakilacustomer.org</td>\n",
       "      <td>407</td>\n",
       "      <td>1</td>\n",
       "      <td>2006-02-14 22:04:37.000</td>\n",
       "      <td>2011-09-14 18:10:39</td>\n",
       "    </tr>\n",
       "    <tr>\n",
       "      <th>3</th>\n",
       "      <td>318</td>\n",
       "      <td>1</td>\n",
       "      <td>BRIAN</td>\n",
       "      <td>WYMAN</td>\n",
       "      <td>BRIAN.WYMAN@sakilacustomer.org</td>\n",
       "      <td>323</td>\n",
       "      <td>1</td>\n",
       "      <td>2006-02-14 22:04:37.000</td>\n",
       "      <td>2011-09-14 18:10:37</td>\n",
       "    </tr>\n",
       "    <tr>\n",
       "      <th>4</th>\n",
       "      <td>31</td>\n",
       "      <td>2</td>\n",
       "      <td>BRENDA</td>\n",
       "      <td>WRIGHT</td>\n",
       "      <td>BRENDA.WRIGHT@sakilacustomer.org</td>\n",
       "      <td>35</td>\n",
       "      <td>1</td>\n",
       "      <td>2006-02-14 22:04:36.000</td>\n",
       "      <td>2011-09-14 18:10:29</td>\n",
       "    </tr>\n",
       "    <tr>\n",
       "      <th>5</th>\n",
       "      <td>496</td>\n",
       "      <td>2</td>\n",
       "      <td>TYLER</td>\n",
       "      <td>WREN</td>\n",
       "      <td>TYLER.WREN@sakilacustomer.org</td>\n",
       "      <td>501</td>\n",
       "      <td>1</td>\n",
       "      <td>2006-02-14 22:04:37.000</td>\n",
       "      <td>2011-09-14 18:10:42</td>\n",
       "    </tr>\n",
       "    <tr>\n",
       "      <th>6</th>\n",
       "      <td>107</td>\n",
       "      <td>1</td>\n",
       "      <td>FLORENCE</td>\n",
       "      <td>WOODS</td>\n",
       "      <td>FLORENCE.WOODS@sakilacustomer.org</td>\n",
       "      <td>111</td>\n",
       "      <td>1</td>\n",
       "      <td>2006-02-14 22:04:36.000</td>\n",
       "      <td>2011-09-14 18:10:30</td>\n",
       "    </tr>\n",
       "    <tr>\n",
       "      <th>7</th>\n",
       "      <td>78</td>\n",
       "      <td>1</td>\n",
       "      <td>LORI</td>\n",
       "      <td>WOOD</td>\n",
       "      <td>LORI.WOOD@sakilacustomer.org</td>\n",
       "      <td>82</td>\n",
       "      <td>1</td>\n",
       "      <td>2006-02-14 22:04:36.000</td>\n",
       "      <td>2011-09-14 18:10:30</td>\n",
       "    </tr>\n",
       "    <tr>\n",
       "      <th>8</th>\n",
       "      <td>581</td>\n",
       "      <td>1</td>\n",
       "      <td>VIRGIL</td>\n",
       "      <td>WOFFORD</td>\n",
       "      <td>VIRGIL.WOFFORD@sakilacustomer.org</td>\n",
       "      <td>587</td>\n",
       "      <td>1</td>\n",
       "      <td>2006-02-14 22:04:37.000</td>\n",
       "      <td>2011-09-14 18:10:44</td>\n",
       "    </tr>\n",
       "    <tr>\n",
       "      <th>9</th>\n",
       "      <td>541</td>\n",
       "      <td>2</td>\n",
       "      <td>DARREN</td>\n",
       "      <td>WINDHAM</td>\n",
       "      <td>DARREN.WINDHAM@sakilacustomer.org</td>\n",
       "      <td>547</td>\n",
       "      <td>1</td>\n",
       "      <td>2006-02-14 22:04:37.000</td>\n",
       "      <td>2011-09-14 18:10:43</td>\n",
       "    </tr>\n",
       "    <tr>\n",
       "      <th>10</th>\n",
       "      <td>8</td>\n",
       "      <td>2</td>\n",
       "      <td>SUSAN</td>\n",
       "      <td>WILSON</td>\n",
       "      <td>SUSAN.WILSON@sakilacustomer.org</td>\n",
       "      <td>12</td>\n",
       "      <td>1</td>\n",
       "      <td>2006-02-14 22:04:36.000</td>\n",
       "      <td>2011-09-14 18:10:28</td>\n",
       "    </tr>\n",
       "    <tr>\n",
       "      <th>11</th>\n",
       "      <td>172</td>\n",
       "      <td>1</td>\n",
       "      <td>BERNICE</td>\n",
       "      <td>WILLIS</td>\n",
       "      <td>BERNICE.WILLIS@sakilacustomer.org</td>\n",
       "      <td>176</td>\n",
       "      <td>1</td>\n",
       "      <td>2006-02-14 22:04:36.000</td>\n",
       "      <td>2011-09-14 18:10:32</td>\n",
       "    </tr>\n",
       "    <tr>\n",
       "      <th>12</th>\n",
       "      <td>213</td>\n",
       "      <td>1</td>\n",
       "      <td>GINA</td>\n",
       "      <td>WILLIAMSON</td>\n",
       "      <td>GINA.WILLIAMSON@sakilacustomer.org</td>\n",
       "      <td>217</td>\n",
       "      <td>1</td>\n",
       "      <td>2006-02-14 22:04:36.000</td>\n",
       "      <td>2011-09-14 18:10:33</td>\n",
       "    </tr>\n",
       "    <tr>\n",
       "      <th>13</th>\n",
       "      <td>3</td>\n",
       "      <td>1</td>\n",
       "      <td>LINDA</td>\n",
       "      <td>WILLIAMS</td>\n",
       "      <td>LINDA.WILLIAMS@sakilacustomer.org</td>\n",
       "      <td>7</td>\n",
       "      <td>1</td>\n",
       "      <td>2006-02-14 22:04:36.000</td>\n",
       "      <td>2011-09-14 18:10:28</td>\n",
       "    </tr>\n",
       "    <tr>\n",
       "      <th>14</th>\n",
       "      <td>455</td>\n",
       "      <td>2</td>\n",
       "      <td>JON</td>\n",
       "      <td>WILES</td>\n",
       "      <td>JON.WILES@sakilacustomer.org</td>\n",
       "      <td>460</td>\n",
       "      <td>1</td>\n",
       "      <td>2006-02-14 22:04:37.000</td>\n",
       "      <td>2011-09-14 18:10:41</td>\n",
       "    </tr>\n",
       "    <tr>\n",
       "      <th>15</th>\n",
       "      <td>363</td>\n",
       "      <td>2</td>\n",
       "      <td>ROY</td>\n",
       "      <td>WHITING</td>\n",
       "      <td>ROY.WHITING@sakilacustomer.org</td>\n",
       "      <td>368</td>\n",
       "      <td>1</td>\n",
       "      <td>2006-02-14 22:04:37.000</td>\n",
       "      <td>2011-09-14 18:10:38</td>\n",
       "    </tr>\n",
       "    <tr>\n",
       "      <th>16</th>\n",
       "      <td>14</td>\n",
       "      <td>2</td>\n",
       "      <td>BETTY</td>\n",
       "      <td>WHITE</td>\n",
       "      <td>BETTY.WHITE@sakilacustomer.org</td>\n",
       "      <td>18</td>\n",
       "      <td>1</td>\n",
       "      <td>2006-02-14 22:04:36.000</td>\n",
       "      <td>2011-09-14 18:10:28</td>\n",
       "    </tr>\n",
       "    <tr>\n",
       "      <th>17</th>\n",
       "      <td>208</td>\n",
       "      <td>1</td>\n",
       "      <td>LUCY</td>\n",
       "      <td>WHEELER</td>\n",
       "      <td>LUCY.WHEELER@sakilacustomer.org</td>\n",
       "      <td>212</td>\n",
       "      <td>1</td>\n",
       "      <td>2006-02-14 22:04:36.000</td>\n",
       "      <td>2011-09-14 18:10:33</td>\n",
       "    </tr>\n",
       "    <tr>\n",
       "      <th>18</th>\n",
       "      <td>369</td>\n",
       "      <td>2</td>\n",
       "      <td>FRED</td>\n",
       "      <td>WHEAT</td>\n",
       "      <td>FRED.WHEAT@sakilacustomer.org</td>\n",
       "      <td>374</td>\n",
       "      <td>1</td>\n",
       "      <td>2006-02-14 22:04:37.000</td>\n",
       "      <td>2011-09-14 18:10:38</td>\n",
       "    </tr>\n",
       "    <tr>\n",
       "      <th>19</th>\n",
       "      <td>520</td>\n",
       "      <td>2</td>\n",
       "      <td>MITCHELL</td>\n",
       "      <td>WESTMORELAND</td>\n",
       "      <td>MITCHELL.WESTMORELAND@sakilacustomer.org</td>\n",
       "      <td>526</td>\n",
       "      <td>1</td>\n",
       "      <td>2006-02-14 22:04:37.000</td>\n",
       "      <td>2011-09-14 18:10:42</td>\n",
       "    </tr>\n",
       "  </tbody>\n",
       "</table>\n",
       "</div>"
      ],
      "text/plain": [
       "    customer_id  store_id first_name     last_name  \\\n",
       "0            28         1    CYNTHIA         YOUNG   \n",
       "1           413         2     MARVIN           YEE   \n",
       "2           402         1       LUIS         YANEZ   \n",
       "3           318         1      BRIAN         WYMAN   \n",
       "4            31         2     BRENDA        WRIGHT   \n",
       "5           496         2      TYLER          WREN   \n",
       "6           107         1   FLORENCE         WOODS   \n",
       "7            78         1       LORI          WOOD   \n",
       "8           581         1     VIRGIL       WOFFORD   \n",
       "9           541         2     DARREN       WINDHAM   \n",
       "10            8         2      SUSAN        WILSON   \n",
       "11          172         1    BERNICE        WILLIS   \n",
       "12          213         1       GINA    WILLIAMSON   \n",
       "13            3         1      LINDA      WILLIAMS   \n",
       "14          455         2        JON         WILES   \n",
       "15          363         2        ROY       WHITING   \n",
       "16           14         2      BETTY         WHITE   \n",
       "17          208         1       LUCY       WHEELER   \n",
       "18          369         2       FRED         WHEAT   \n",
       "19          520         2   MITCHELL  WESTMORELAND   \n",
       "\n",
       "                                       email  address_id active  \\\n",
       "0           CYNTHIA.YOUNG@sakilacustomer.org          32      1   \n",
       "1              MARVIN.YEE@sakilacustomer.org         418      1   \n",
       "2              LUIS.YANEZ@sakilacustomer.org         407      1   \n",
       "3             BRIAN.WYMAN@sakilacustomer.org         323      1   \n",
       "4           BRENDA.WRIGHT@sakilacustomer.org          35      1   \n",
       "5              TYLER.WREN@sakilacustomer.org         501      1   \n",
       "6          FLORENCE.WOODS@sakilacustomer.org         111      1   \n",
       "7               LORI.WOOD@sakilacustomer.org          82      1   \n",
       "8          VIRGIL.WOFFORD@sakilacustomer.org         587      1   \n",
       "9          DARREN.WINDHAM@sakilacustomer.org         547      1   \n",
       "10           SUSAN.WILSON@sakilacustomer.org          12      1   \n",
       "11         BERNICE.WILLIS@sakilacustomer.org         176      1   \n",
       "12        GINA.WILLIAMSON@sakilacustomer.org         217      1   \n",
       "13         LINDA.WILLIAMS@sakilacustomer.org           7      1   \n",
       "14              JON.WILES@sakilacustomer.org         460      1   \n",
       "15            ROY.WHITING@sakilacustomer.org         368      1   \n",
       "16            BETTY.WHITE@sakilacustomer.org          18      1   \n",
       "17           LUCY.WHEELER@sakilacustomer.org         212      1   \n",
       "18             FRED.WHEAT@sakilacustomer.org         374      1   \n",
       "19  MITCHELL.WESTMORELAND@sakilacustomer.org         526      1   \n",
       "\n",
       "                create_date          last_update  \n",
       "0   2006-02-14 22:04:36.000  2011-09-14 18:10:29  \n",
       "1   2006-02-14 22:04:37.000  2011-09-14 18:10:40  \n",
       "2   2006-02-14 22:04:37.000  2011-09-14 18:10:39  \n",
       "3   2006-02-14 22:04:37.000  2011-09-14 18:10:37  \n",
       "4   2006-02-14 22:04:36.000  2011-09-14 18:10:29  \n",
       "5   2006-02-14 22:04:37.000  2011-09-14 18:10:42  \n",
       "6   2006-02-14 22:04:36.000  2011-09-14 18:10:30  \n",
       "7   2006-02-14 22:04:36.000  2011-09-14 18:10:30  \n",
       "8   2006-02-14 22:04:37.000  2011-09-14 18:10:44  \n",
       "9   2006-02-14 22:04:37.000  2011-09-14 18:10:43  \n",
       "10  2006-02-14 22:04:36.000  2011-09-14 18:10:28  \n",
       "11  2006-02-14 22:04:36.000  2011-09-14 18:10:32  \n",
       "12  2006-02-14 22:04:36.000  2011-09-14 18:10:33  \n",
       "13  2006-02-14 22:04:36.000  2011-09-14 18:10:28  \n",
       "14  2006-02-14 22:04:37.000  2011-09-14 18:10:41  \n",
       "15  2006-02-14 22:04:37.000  2011-09-14 18:10:38  \n",
       "16  2006-02-14 22:04:36.000  2011-09-14 18:10:28  \n",
       "17  2006-02-14 22:04:36.000  2011-09-14 18:10:33  \n",
       "18  2006-02-14 22:04:37.000  2011-09-14 18:10:38  \n",
       "19  2006-02-14 22:04:37.000  2011-09-14 18:10:42  "
      ]
     },
     "execution_count": 30,
     "metadata": {},
     "output_type": "execute_result"
    }
   ],
   "source": [
    "sqlDataFrame(descNameQuery)[0:20]"
   ]
  },
  {
   "cell_type": "markdown",
   "metadata": {},
   "source": [
    "Next, SQL GROUP BY will be used with an aggregate function to group the results of customer counts by store. To do that, the query “custCountQuery” will be set up to SELECT the “store_id” column then COUNT the number of customers by calling the “customer_id” column FROM the “customer” table. After that, everything will be grouped by “store_id”."
   ]
  },
  {
   "cell_type": "code",
   "execution_count": 31,
   "metadata": {
    "collapsed": false
   },
   "outputs": [],
   "source": [
    "custCountQuery = ''' SELECT store_id, COUNT(customer_id)\n",
    "                     FROM customer\n",
    "                     GROUP BY store_id; '''"
   ]
  },
  {
   "cell_type": "code",
   "execution_count": 32,
   "metadata": {
    "collapsed": false
   },
   "outputs": [
    {
     "data": {
      "text/html": [
       "<div>\n",
       "<table border=\"1\" class=\"dataframe\">\n",
       "  <thead>\n",
       "    <tr style=\"text-align: right;\">\n",
       "      <th></th>\n",
       "      <th>store_id</th>\n",
       "      <th>COUNT(customer_id)</th>\n",
       "    </tr>\n",
       "  </thead>\n",
       "  <tbody>\n",
       "    <tr>\n",
       "      <th>0</th>\n",
       "      <td>1</td>\n",
       "      <td>326</td>\n",
       "    </tr>\n",
       "    <tr>\n",
       "      <th>1</th>\n",
       "      <td>2</td>\n",
       "      <td>273</td>\n",
       "    </tr>\n",
       "  </tbody>\n",
       "</table>\n",
       "</div>"
      ],
      "text/plain": [
       "   store_id  COUNT(customer_id)\n",
       "0         1                 326\n",
       "1         2                 273"
      ]
     },
     "execution_count": 32,
     "metadata": {},
     "output_type": "execute_result"
    }
   ],
   "source": [
    "sqlDataFrame(custCountQuery)   # ... to view the number of customers per store."
   ]
  },
  {
   "cell_type": "code",
   "execution_count": null,
   "metadata": {
    "collapsed": true
   },
   "outputs": [],
   "source": []
  }
 ],
 "metadata": {
  "kernelspec": {
   "display_name": "Python 3",
   "language": "python",
   "name": "python3"
  },
  "language_info": {
   "codemirror_mode": {
    "name": "ipython",
    "version": 3
   },
   "file_extension": ".py",
   "mimetype": "text/x-python",
   "name": "python",
   "nbconvert_exporter": "python",
   "pygments_lexer": "ipython3",
   "version": "3.5.1"
  }
 },
 "nbformat": 4,
 "nbformat_minor": 0
}
